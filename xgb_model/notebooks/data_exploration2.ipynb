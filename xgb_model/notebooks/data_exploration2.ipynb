{
 "cells": [
  {
   "cell_type": "code",
   "execution_count": 2,
   "metadata": {
    "collapsed": false
   },
   "outputs": [
    {
     "name": "stderr",
     "output_type": "stream",
     "text": [
      "/home/fogside/virtualenv/py2/lib/python2.7/site-packages/sklearn/cross_validation.py:44: DeprecationWarning: This module was deprecated in version 0.18 in favor of the model_selection module into which all the refactored classes and functions are moved. Also note that the interface of the new CV iterators are different from that of this module. This module will be removed in 0.20.\n",
      "  \"This module will be removed in 0.20.\", DeprecationWarning)\n",
      "/home/fogside/virtualenv/py2/lib/python2.7/site-packages/sklearn/grid_search.py:43: DeprecationWarning: This module was deprecated in version 0.18 in favor of the model_selection module into which all the refactored classes and functions are moved. This module will be removed in 0.20.\n",
      "  DeprecationWarning)\n"
     ]
    }
   ],
   "source": [
    "import pandas as pd\n",
    "import numpy as np\n",
    "import matplotlib\n",
    "from matplotlib import pyplot as plt\n",
    "from sklearn.cross_validation import train_test_split\n",
    "from pandas.tools.plotting import scatter_matrix\n",
    "from sklearn.preprocessing import StandardScaler\n",
    "from sklearn.preprocessing import MinMaxScaler\n",
    "from sklearn.linear_model import LogisticRegression\n",
    "from sklearn.grid_search import GridSearchCV\n",
    "from sklearn.metrics import roc_auc_score\n",
    "\n",
    "matplotlib.style.use('ggplot')\n",
    "%matplotlib inline"
   ]
  },
  {
   "cell_type": "code",
   "execution_count": 15,
   "metadata": {
    "collapsed": false
   },
   "outputs": [
    {
     "data": {
      "text/html": [
       "<div>\n",
       "<table border=\"1\" class=\"dataframe\">\n",
       "  <thead>\n",
       "    <tr style=\"text-align: right;\">\n",
       "      <th></th>\n",
       "      <th>queryId</th>\n",
       "      <th>subjectId</th>\n",
       "      <th>percIdentity</th>\n",
       "      <th>alnLength</th>\n",
       "      <th>mismatchCount</th>\n",
       "      <th>gapOpenCount</th>\n",
       "      <th>queryStart</th>\n",
       "      <th>queryEnd</th>\n",
       "      <th>subjectStart</th>\n",
       "      <th>subjectEnd</th>\n",
       "      <th>eVal</th>\n",
       "      <th>bitScore</th>\n",
       "    </tr>\n",
       "  </thead>\n",
       "  <tbody>\n",
       "    <tr>\n",
       "      <th>3454</th>\n",
       "      <td>UC009VIW.2</td>\n",
       "      <td>UniRef50_U3J5N1</td>\n",
       "      <td>82.76</td>\n",
       "      <td>29</td>\n",
       "      <td>5</td>\n",
       "      <td>0</td>\n",
       "      <td>2870</td>\n",
       "      <td>2956</td>\n",
       "      <td>257</td>\n",
       "      <td>285</td>\n",
       "      <td>2.000000e-04</td>\n",
       "      <td>53.1</td>\n",
       "    </tr>\n",
       "    <tr>\n",
       "      <th>3455</th>\n",
       "      <td>UC009VIW.2</td>\n",
       "      <td>UniRef50_Q9H7J9</td>\n",
       "      <td>57.92</td>\n",
       "      <td>183</td>\n",
       "      <td>18</td>\n",
       "      <td>4</td>\n",
       "      <td>805</td>\n",
       "      <td>1176</td>\n",
       "      <td>1</td>\n",
       "      <td>183</td>\n",
       "      <td>2.000000e-45</td>\n",
       "      <td>171.0</td>\n",
       "    </tr>\n",
       "    <tr>\n",
       "      <th>3456</th>\n",
       "      <td>UC009VIW.2</td>\n",
       "      <td>UniRef50_F7DP97</td>\n",
       "      <td>89.58</td>\n",
       "      <td>96</td>\n",
       "      <td>7</td>\n",
       "      <td>1</td>\n",
       "      <td>172</td>\n",
       "      <td>459</td>\n",
       "      <td>36</td>\n",
       "      <td>128</td>\n",
       "      <td>1.000000e-43</td>\n",
       "      <td>165.0</td>\n",
       "    </tr>\n",
       "    <tr>\n",
       "      <th>3457</th>\n",
       "      <td>UC009VIW.2</td>\n",
       "      <td>UniRef50_F6YMS7</td>\n",
       "      <td>80.95</td>\n",
       "      <td>105</td>\n",
       "      <td>19</td>\n",
       "      <td>1</td>\n",
       "      <td>829</td>\n",
       "      <td>1140</td>\n",
       "      <td>135</td>\n",
       "      <td>239</td>\n",
       "      <td>4.000000e-42</td>\n",
       "      <td>169.0</td>\n",
       "    </tr>\n",
       "    <tr>\n",
       "      <th>3458</th>\n",
       "      <td>UC009VIW.2</td>\n",
       "      <td>UniRef50_F6YMS7</td>\n",
       "      <td>51.47</td>\n",
       "      <td>136</td>\n",
       "      <td>62</td>\n",
       "      <td>2</td>\n",
       "      <td>190</td>\n",
       "      <td>591</td>\n",
       "      <td>1</td>\n",
       "      <td>134</td>\n",
       "      <td>7.000000e-27</td>\n",
       "      <td>123.0</td>\n",
       "    </tr>\n",
       "    <tr>\n",
       "      <th>3459</th>\n",
       "      <td>UC009VIW.2</td>\n",
       "      <td>UniRef50_F6YMS7</td>\n",
       "      <td>85.71</td>\n",
       "      <td>21</td>\n",
       "      <td>3</td>\n",
       "      <td>0</td>\n",
       "      <td>2020</td>\n",
       "      <td>2082</td>\n",
       "      <td>320</td>\n",
       "      <td>340</td>\n",
       "      <td>2.000000e-02</td>\n",
       "      <td>40.0</td>\n",
       "    </tr>\n",
       "    <tr>\n",
       "      <th>3460</th>\n",
       "      <td>UC009VIW.2</td>\n",
       "      <td>UniRef50_F6YMS7</td>\n",
       "      <td>71.43</td>\n",
       "      <td>14</td>\n",
       "      <td>4</td>\n",
       "      <td>0</td>\n",
       "      <td>1976</td>\n",
       "      <td>2017</td>\n",
       "      <td>305</td>\n",
       "      <td>318</td>\n",
       "      <td>2.000000e-02</td>\n",
       "      <td>26.6</td>\n",
       "    </tr>\n",
       "  </tbody>\n",
       "</table>\n",
       "</div>"
      ],
      "text/plain": [
       "         queryId        subjectId  percIdentity  alnLength  mismatchCount  \\\n",
       "3454  UC009VIW.2  UniRef50_U3J5N1         82.76         29              5   \n",
       "3455  UC009VIW.2  UniRef50_Q9H7J9         57.92        183             18   \n",
       "3456  UC009VIW.2  UniRef50_F7DP97         89.58         96              7   \n",
       "3457  UC009VIW.2  UniRef50_F6YMS7         80.95        105             19   \n",
       "3458  UC009VIW.2  UniRef50_F6YMS7         51.47        136             62   \n",
       "3459  UC009VIW.2  UniRef50_F6YMS7         85.71         21              3   \n",
       "3460  UC009VIW.2  UniRef50_F6YMS7         71.43         14              4   \n",
       "\n",
       "      gapOpenCount  queryStart  queryEnd  subjectStart  subjectEnd  \\\n",
       "3454             0        2870      2956           257         285   \n",
       "3455             4         805      1176             1         183   \n",
       "3456             1         172       459            36         128   \n",
       "3457             1         829      1140           135         239   \n",
       "3458             2         190       591             1         134   \n",
       "3459             0        2020      2082           320         340   \n",
       "3460             0        1976      2017           305         318   \n",
       "\n",
       "              eVal  bitScore  \n",
       "3454  2.000000e-04      53.1  \n",
       "3455  2.000000e-45     171.0  \n",
       "3456  1.000000e-43     165.0  \n",
       "3457  4.000000e-42     169.0  \n",
       "3458  7.000000e-27     123.0  \n",
       "3459  2.000000e-02      40.0  \n",
       "3460  2.000000e-02      26.6  "
      ]
     },
     "execution_count": 15,
     "metadata": {},
     "output_type": "execute_result"
    }
   ],
   "source": [
    "coding_blast = pd.read_csv(\"../data/uniref_alignment/coding_aligned_1part.csv\")\n",
    "coding_blast.ix[3454:3460]"
   ]
  },
  {
   "cell_type": "code",
   "execution_count": 19,
   "metadata": {
    "collapsed": false
   },
   "outputs": [
    {
     "data": {
      "text/html": [
       "<div>\n",
       "<table border=\"1\" class=\"dataframe\">\n",
       "  <thead>\n",
       "    <tr style=\"text-align: right;\">\n",
       "      <th></th>\n",
       "      <th>queryId</th>\n",
       "      <th>subjectId</th>\n",
       "      <th>percIdentity</th>\n",
       "      <th>alnLength</th>\n",
       "      <th>mismatchCount</th>\n",
       "      <th>gapOpenCount</th>\n",
       "      <th>queryStart</th>\n",
       "      <th>queryEnd</th>\n",
       "      <th>subjectStart</th>\n",
       "      <th>subjectEnd</th>\n",
       "      <th>eVal</th>\n",
       "      <th>bitScore</th>\n",
       "    </tr>\n",
       "  </thead>\n",
       "  <tbody>\n",
       "    <tr>\n",
       "      <th>0</th>\n",
       "      <td>lnc-C8orf56-1:8</td>\n",
       "      <td>UniRef50_A0A196M972</td>\n",
       "      <td>33.87</td>\n",
       "      <td>62</td>\n",
       "      <td>35</td>\n",
       "      <td>1</td>\n",
       "      <td>103</td>\n",
       "      <td>270</td>\n",
       "      <td>299</td>\n",
       "      <td>360</td>\n",
       "      <td>1.4</td>\n",
       "      <td>35.4</td>\n",
       "    </tr>\n",
       "    <tr>\n",
       "      <th>1</th>\n",
       "      <td>lnc-C8orf56-1:8</td>\n",
       "      <td>UniRef50_G0J6L1</td>\n",
       "      <td>40.48</td>\n",
       "      <td>42</td>\n",
       "      <td>25</td>\n",
       "      <td>0</td>\n",
       "      <td>46</td>\n",
       "      <td>171</td>\n",
       "      <td>541</td>\n",
       "      <td>582</td>\n",
       "      <td>2.2</td>\n",
       "      <td>35.0</td>\n",
       "    </tr>\n",
       "    <tr>\n",
       "      <th>2</th>\n",
       "      <td>lnc-C8orf56-1:8</td>\n",
       "      <td>UniRef50_A0A0C1MXM1</td>\n",
       "      <td>41.03</td>\n",
       "      <td>39</td>\n",
       "      <td>23</td>\n",
       "      <td>0</td>\n",
       "      <td>20</td>\n",
       "      <td>136</td>\n",
       "      <td>1280</td>\n",
       "      <td>1318</td>\n",
       "      <td>4.3</td>\n",
       "      <td>33.9</td>\n",
       "    </tr>\n",
       "  </tbody>\n",
       "</table>\n",
       "</div>"
      ],
      "text/plain": [
       "           queryId            subjectId  percIdentity  alnLength  \\\n",
       "0  lnc-C8orf56-1:8  UniRef50_A0A196M972         33.87         62   \n",
       "1  lnc-C8orf56-1:8      UniRef50_G0J6L1         40.48         42   \n",
       "2  lnc-C8orf56-1:8  UniRef50_A0A0C1MXM1         41.03         39   \n",
       "\n",
       "   mismatchCount  gapOpenCount  queryStart  queryEnd  subjectStart  \\\n",
       "0             35             1         103       270           299   \n",
       "1             25             0          46       171           541   \n",
       "2             23             0          20       136          1280   \n",
       "\n",
       "   subjectEnd  eVal  bitScore  \n",
       "0         360   1.4      35.4  \n",
       "1         582   2.2      35.0  \n",
       "2        1318   4.3      33.9  "
      ]
     },
     "execution_count": 19,
     "metadata": {},
     "output_type": "execute_result"
    }
   ],
   "source": [
    "lnc_blast = pd.read_csv(\"../data/uniref_alignment/lnc_aligned_1part.csv\")\n",
    "lnc_blast.head(3)"
   ]
  },
  {
   "cell_type": "code",
   "execution_count": 104,
   "metadata": {
    "collapsed": false
   },
   "outputs": [
    {
     "data": {
      "text/html": [
       "<div>\n",
       "<table border=\"1\" class=\"dataframe\">\n",
       "  <thead>\n",
       "    <tr style=\"text-align: right;\">\n",
       "      <th></th>\n",
       "      <th>mRNA_size</th>\n",
       "      <th>ORF_size</th>\n",
       "      <th>fickett_score</th>\n",
       "      <th>hexamer</th>\n",
       "      <th>gc_content</th>\n",
       "      <th>kozak34</th>\n",
       "      <th>kozak21</th>\n",
       "      <th>kozak6</th>\n",
       "      <th>exon_max</th>\n",
       "      <th>exon_mean</th>\n",
       "      <th>exon_num</th>\n",
       "      <th>TYPE</th>\n",
       "    </tr>\n",
       "    <tr>\n",
       "      <th>sname</th>\n",
       "      <th></th>\n",
       "      <th></th>\n",
       "      <th></th>\n",
       "      <th></th>\n",
       "      <th></th>\n",
       "      <th></th>\n",
       "      <th></th>\n",
       "      <th></th>\n",
       "      <th></th>\n",
       "      <th></th>\n",
       "      <th></th>\n",
       "      <th></th>\n",
       "    </tr>\n",
       "  </thead>\n",
       "  <tbody>\n",
       "    <tr>\n",
       "      <th>LNC-C8ORF56-1:8</th>\n",
       "      <td>291</td>\n",
       "      <td>291</td>\n",
       "      <td>0.8012</td>\n",
       "      <td>-0.073170</td>\n",
       "      <td>0.474227</td>\n",
       "      <td>0</td>\n",
       "      <td>0</td>\n",
       "      <td>0</td>\n",
       "      <td>217</td>\n",
       "      <td>144.500000</td>\n",
       "      <td>2</td>\n",
       "      <td>non-coding</td>\n",
       "    </tr>\n",
       "    <tr>\n",
       "      <th>LNC-PRYP4-3:1</th>\n",
       "      <td>211</td>\n",
       "      <td>211</td>\n",
       "      <td>0.5306</td>\n",
       "      <td>-0.159095</td>\n",
       "      <td>0.364929</td>\n",
       "      <td>0</td>\n",
       "      <td>0</td>\n",
       "      <td>0</td>\n",
       "      <td>0</td>\n",
       "      <td>0.000000</td>\n",
       "      <td>0</td>\n",
       "      <td>non-coding</td>\n",
       "    </tr>\n",
       "    <tr>\n",
       "      <th>LNC-TTLL7-2:5</th>\n",
       "      <td>1991</td>\n",
       "      <td>1991</td>\n",
       "      <td>0.4018</td>\n",
       "      <td>-0.475816</td>\n",
       "      <td>0.433451</td>\n",
       "      <td>0</td>\n",
       "      <td>0</td>\n",
       "      <td>0</td>\n",
       "      <td>1735</td>\n",
       "      <td>662.666667</td>\n",
       "      <td>3</td>\n",
       "      <td>non-coding</td>\n",
       "    </tr>\n",
       "  </tbody>\n",
       "</table>\n",
       "</div>"
      ],
      "text/plain": [
       "                 mRNA_size  ORF_size  fickett_score   hexamer  gc_content  \\\n",
       "sname                                                                       \n",
       "LNC-C8ORF56-1:8        291       291         0.8012 -0.073170    0.474227   \n",
       "LNC-PRYP4-3:1          211       211         0.5306 -0.159095    0.364929   \n",
       "LNC-TTLL7-2:5         1991      1991         0.4018 -0.475816    0.433451   \n",
       "\n",
       "                 kozak34  kozak21  kozak6  exon_max   exon_mean  exon_num  \\\n",
       "sname                                                                       \n",
       "LNC-C8ORF56-1:8        0        0       0       217  144.500000         2   \n",
       "LNC-PRYP4-3:1          0        0       0         0    0.000000         0   \n",
       "LNC-TTLL7-2:5          0        0       0      1735  662.666667         3   \n",
       "\n",
       "                       TYPE  \n",
       "sname                        \n",
       "LNC-C8ORF56-1:8  non-coding  \n",
       "LNC-PRYP4-3:1    non-coding  \n",
       "LNC-TTLL7-2:5    non-coding  "
      ]
     },
     "execution_count": 104,
     "metadata": {},
     "output_type": "execute_result"
    }
   ],
   "source": [
    "data_lnc = pd.read_csv(\"../scripts/my_model/lnc_table.csv.txt\", sep = '\\t', index_col=0)\n",
    "data_lnc['TYPE'] = ['non-coding']*len(data_lnc)\n",
    "data_lnc.head(3)"
   ]
  },
  {
   "cell_type": "code",
   "execution_count": 106,
   "metadata": {
    "collapsed": false
   },
   "outputs": [
    {
     "data": {
      "text/html": [
       "<div>\n",
       "<table border=\"1\" class=\"dataframe\">\n",
       "  <thead>\n",
       "    <tr style=\"text-align: right;\">\n",
       "      <th></th>\n",
       "      <th>mRNA_size</th>\n",
       "      <th>ORF_size</th>\n",
       "      <th>fickett_score</th>\n",
       "      <th>hexamer</th>\n",
       "      <th>gc_content</th>\n",
       "      <th>kozak34</th>\n",
       "      <th>kozak21</th>\n",
       "      <th>kozak6</th>\n",
       "      <th>exon_max</th>\n",
       "      <th>exon_mean</th>\n",
       "      <th>exon_num</th>\n",
       "      <th>TYPE</th>\n",
       "    </tr>\n",
       "    <tr>\n",
       "      <th>sname</th>\n",
       "      <th></th>\n",
       "      <th></th>\n",
       "      <th></th>\n",
       "      <th></th>\n",
       "      <th></th>\n",
       "      <th></th>\n",
       "      <th></th>\n",
       "      <th></th>\n",
       "      <th></th>\n",
       "      <th></th>\n",
       "      <th></th>\n",
       "      <th></th>\n",
       "    </tr>\n",
       "  </thead>\n",
       "  <tbody>\n",
       "    <tr>\n",
       "      <th>UC001AAA.3</th>\n",
       "      <td>1652</td>\n",
       "      <td>1651</td>\n",
       "      <td>0.6045</td>\n",
       "      <td>-0.216455</td>\n",
       "      <td>0.554479</td>\n",
       "      <td>0</td>\n",
       "      <td>0</td>\n",
       "      <td>0</td>\n",
       "      <td>1188</td>\n",
       "      <td>549.666667</td>\n",
       "      <td>3</td>\n",
       "      <td>coding</td>\n",
       "    </tr>\n",
       "    <tr>\n",
       "      <th>UC010NXQ.1</th>\n",
       "      <td>1488</td>\n",
       "      <td>1487</td>\n",
       "      <td>0.6201</td>\n",
       "      <td>-0.131265</td>\n",
       "      <td>0.553763</td>\n",
       "      <td>0</td>\n",
       "      <td>0</td>\n",
       "      <td>0</td>\n",
       "      <td>1006</td>\n",
       "      <td>495.000000</td>\n",
       "      <td>3</td>\n",
       "      <td>coding</td>\n",
       "    </tr>\n",
       "    <tr>\n",
       "      <th>UC010NXR.1</th>\n",
       "      <td>1595</td>\n",
       "      <td>1594</td>\n",
       "      <td>0.5501</td>\n",
       "      <td>-0.230965</td>\n",
       "      <td>0.552351</td>\n",
       "      <td>0</td>\n",
       "      <td>0</td>\n",
       "      <td>0</td>\n",
       "      <td>1188</td>\n",
       "      <td>530.666667</td>\n",
       "      <td>3</td>\n",
       "      <td>coding</td>\n",
       "    </tr>\n",
       "  </tbody>\n",
       "</table>\n",
       "</div>"
      ],
      "text/plain": [
       "            mRNA_size  ORF_size  fickett_score   hexamer  gc_content  kozak34  \\\n",
       "sname                                                                           \n",
       "UC001AAA.3       1652      1651         0.6045 -0.216455    0.554479        0   \n",
       "UC010NXQ.1       1488      1487         0.6201 -0.131265    0.553763        0   \n",
       "UC010NXR.1       1595      1594         0.5501 -0.230965    0.552351        0   \n",
       "\n",
       "            kozak21  kozak6  exon_max   exon_mean  exon_num    TYPE  \n",
       "sname                                                                \n",
       "UC001AAA.3        0       0      1188  549.666667         3  coding  \n",
       "UC010NXQ.1        0       0      1006  495.000000         3  coding  \n",
       "UC010NXR.1        0       0      1188  530.666667         3  coding  "
      ]
     },
     "execution_count": 106,
     "metadata": {},
     "output_type": "execute_result"
    }
   ],
   "source": [
    "data_coding = pd.read_csv(\"../scripts/my_model/coding_table.csv.txt\", sep = '\\t', index_col=0)\n",
    "data_coding['TYPE'] = ['coding']*len(data_coding)\n",
    "data_coding.head(3)"
   ]
  },
  {
   "cell_type": "code",
   "execution_count": 107,
   "metadata": {
    "collapsed": false
   },
   "outputs": [
    {
     "name": "stdout",
     "output_type": "stream",
     "text": [
      "(194645, 12)\n"
     ]
    },
    {
     "data": {
      "text/html": [
       "<div>\n",
       "<table border=\"1\" class=\"dataframe\">\n",
       "  <thead>\n",
       "    <tr style=\"text-align: right;\">\n",
       "      <th></th>\n",
       "      <th>mRNA_size</th>\n",
       "      <th>ORF_size</th>\n",
       "      <th>fickett_score</th>\n",
       "      <th>hexamer</th>\n",
       "      <th>gc_content</th>\n",
       "      <th>kozak34</th>\n",
       "      <th>kozak21</th>\n",
       "      <th>kozak6</th>\n",
       "      <th>exon_max</th>\n",
       "      <th>exon_mean</th>\n",
       "      <th>exon_num</th>\n",
       "      <th>TYPE</th>\n",
       "    </tr>\n",
       "    <tr>\n",
       "      <th>sname</th>\n",
       "      <th></th>\n",
       "      <th></th>\n",
       "      <th></th>\n",
       "      <th></th>\n",
       "      <th></th>\n",
       "      <th></th>\n",
       "      <th></th>\n",
       "      <th></th>\n",
       "      <th></th>\n",
       "      <th></th>\n",
       "      <th></th>\n",
       "      <th></th>\n",
       "    </tr>\n",
       "  </thead>\n",
       "  <tbody>\n",
       "    <tr>\n",
       "      <th>LNC-C8ORF56-1:8</th>\n",
       "      <td>291</td>\n",
       "      <td>291</td>\n",
       "      <td>0.8012</td>\n",
       "      <td>-0.073170</td>\n",
       "      <td>0.474227</td>\n",
       "      <td>0</td>\n",
       "      <td>0</td>\n",
       "      <td>0</td>\n",
       "      <td>217</td>\n",
       "      <td>144.500000</td>\n",
       "      <td>2</td>\n",
       "      <td>non-coding</td>\n",
       "    </tr>\n",
       "    <tr>\n",
       "      <th>LNC-PRYP4-3:1</th>\n",
       "      <td>211</td>\n",
       "      <td>211</td>\n",
       "      <td>0.5306</td>\n",
       "      <td>-0.159095</td>\n",
       "      <td>0.364929</td>\n",
       "      <td>0</td>\n",
       "      <td>0</td>\n",
       "      <td>0</td>\n",
       "      <td>0</td>\n",
       "      <td>0.000000</td>\n",
       "      <td>0</td>\n",
       "      <td>non-coding</td>\n",
       "    </tr>\n",
       "    <tr>\n",
       "      <th>LNC-TTLL7-2:5</th>\n",
       "      <td>1991</td>\n",
       "      <td>1991</td>\n",
       "      <td>0.4018</td>\n",
       "      <td>-0.475816</td>\n",
       "      <td>0.433451</td>\n",
       "      <td>0</td>\n",
       "      <td>0</td>\n",
       "      <td>0</td>\n",
       "      <td>1735</td>\n",
       "      <td>662.666667</td>\n",
       "      <td>3</td>\n",
       "      <td>non-coding</td>\n",
       "    </tr>\n",
       "  </tbody>\n",
       "</table>\n",
       "</div>"
      ],
      "text/plain": [
       "                 mRNA_size  ORF_size  fickett_score   hexamer  gc_content  \\\n",
       "sname                                                                       \n",
       "LNC-C8ORF56-1:8        291       291         0.8012 -0.073170    0.474227   \n",
       "LNC-PRYP4-3:1          211       211         0.5306 -0.159095    0.364929   \n",
       "LNC-TTLL7-2:5         1991      1991         0.4018 -0.475816    0.433451   \n",
       "\n",
       "                 kozak34  kozak21  kozak6  exon_max   exon_mean  exon_num  \\\n",
       "sname                                                                       \n",
       "LNC-C8ORF56-1:8        0        0       0       217  144.500000         2   \n",
       "LNC-PRYP4-3:1          0        0       0         0    0.000000         0   \n",
       "LNC-TTLL7-2:5          0        0       0      1735  662.666667         3   \n",
       "\n",
       "                       TYPE  \n",
       "sname                        \n",
       "LNC-C8ORF56-1:8  non-coding  \n",
       "LNC-PRYP4-3:1    non-coding  \n",
       "LNC-TTLL7-2:5    non-coding  "
      ]
     },
     "execution_count": 107,
     "metadata": {},
     "output_type": "execute_result"
    }
   ],
   "source": [
    "data_full = pd.concat((data_lnc, data_coding.ix[:len(data_lnc),:]))\n",
    "print(data_full.shape)\n",
    "data_full.to_csv(\"../data/new_data/full_data_train.csv\")\n",
    "data_full[:3]"
   ]
  },
  {
   "cell_type": "code",
   "execution_count": 108,
   "metadata": {
    "collapsed": true
   },
   "outputs": [],
   "source": [
    "X = data_full.ix[:, :-1]\n",
    "y = data_full.ix[:, \"TYPE\"]"
   ]
  },
  {
   "cell_type": "markdown",
   "metadata": {},
   "source": [
    "______________"
   ]
  },
  {
   "cell_type": "markdown",
   "metadata": {},
   "source": [
    "# Explorations"
   ]
  },
  {
   "cell_type": "code",
   "execution_count": 109,
   "metadata": {
    "collapsed": false
   },
   "outputs": [
    {
     "data": {
      "image/png": "[encoded data removed]",
      "text/plain": [
       "<matplotlib.figure.Figure at 0x7fbe8208a410>"
      ]
     },
     "metadata": {},
     "output_type": "display_data"
    },
    {
     "data": {
      "image/png": "[encoded data removed]",
      "text/plain": [
       "<matplotlib.figure.Figure at 0x7fbe812786d0>"
      ]
     },
     "metadata": {},
     "output_type": "display_data"
    },
    {
     "data": {
      "image/png": "[encoded data removed]",
      "text/plain": [
       "<matplotlib.figure.Figure at 0x7fbe81200510>"
      ]
     },
     "metadata": {},
     "output_type": "display_data"
    }
   ],
   "source": [
    "for plt_indx, column in enumerate(('exon_max','exon_mean','exon_num')):\n",
    "    data_full.boxplot(column=column, by='TYPE', figsize=(4,5), )\n",
    "    plt.semilogy()\n",
    "#     if column in ('mRNA_size','CDS_size'):\n",
    "#         plt.semilogy()"
   ]
  },
  {
   "cell_type": "code",
   "execution_count": 35,
   "metadata": {
    "collapsed": false
   },
   "outputs": [
    {
     "data": {
      "text/html": [
       "<div>\n",
       "<table border=\"1\" class=\"dataframe\">\n",
       "  <thead>\n",
       "    <tr style=\"text-align: right;\">\n",
       "      <th></th>\n",
       "      <th>gc_content</th>\n",
       "      <th>kozak34</th>\n",
       "      <th>kozak21</th>\n",
       "      <th>kozak6</th>\n",
       "      <th>exon_max</th>\n",
       "      <th>exon_mean</th>\n",
       "      <th>exon_num</th>\n",
       "      <th>TYPE</th>\n",
       "    </tr>\n",
       "    <tr>\n",
       "      <th>sname</th>\n",
       "      <th></th>\n",
       "      <th></th>\n",
       "      <th></th>\n",
       "      <th></th>\n",
       "      <th></th>\n",
       "      <th></th>\n",
       "      <th></th>\n",
       "      <th></th>\n",
       "    </tr>\n",
       "  </thead>\n",
       "  <tbody>\n",
       "    <tr>\n",
       "      <th>LNC-C8ORF56-1:8</th>\n",
       "      <td>0.499186</td>\n",
       "      <td>0.0</td>\n",
       "      <td>0.0</td>\n",
       "      <td>0.0</td>\n",
       "      <td>0.001058</td>\n",
       "      <td>0.000705</td>\n",
       "      <td>0.000395</td>\n",
       "      <td>0.0</td>\n",
       "    </tr>\n",
       "    <tr>\n",
       "      <th>LNC-PRYP4-3:1</th>\n",
       "      <td>0.384136</td>\n",
       "      <td>0.0</td>\n",
       "      <td>0.0</td>\n",
       "      <td>0.0</td>\n",
       "      <td>0.000000</td>\n",
       "      <td>0.000000</td>\n",
       "      <td>0.000000</td>\n",
       "      <td>0.0</td>\n",
       "    </tr>\n",
       "    <tr>\n",
       "      <th>LNC-TTLL7-2:5</th>\n",
       "      <td>0.456264</td>\n",
       "      <td>1.0</td>\n",
       "      <td>0.0</td>\n",
       "      <td>1.0</td>\n",
       "      <td>0.008463</td>\n",
       "      <td>0.003232</td>\n",
       "      <td>0.000592</td>\n",
       "      <td>0.0</td>\n",
       "    </tr>\n",
       "    <tr>\n",
       "      <th>LNC-CLEC18B-3:5</th>\n",
       "      <td>0.492536</td>\n",
       "      <td>1.0</td>\n",
       "      <td>1.0</td>\n",
       "      <td>0.0</td>\n",
       "      <td>0.001629</td>\n",
       "      <td>0.001173</td>\n",
       "      <td>0.000790</td>\n",
       "      <td>0.0</td>\n",
       "    </tr>\n",
       "    <tr>\n",
       "      <th>LNC-GPR119-1:1</th>\n",
       "      <td>0.482829</td>\n",
       "      <td>1.0</td>\n",
       "      <td>0.0</td>\n",
       "      <td>1.0</td>\n",
       "      <td>0.002078</td>\n",
       "      <td>0.000664</td>\n",
       "      <td>0.002369</td>\n",
       "      <td>0.0</td>\n",
       "    </tr>\n",
       "  </tbody>\n",
       "</table>\n",
       "</div>"
      ],
      "text/plain": [
       "                 gc_content  kozak34  kozak21  kozak6  exon_max  exon_mean  \\\n",
       "sname                                                                        \n",
       "LNC-C8ORF56-1:8    0.499186      0.0      0.0     0.0  0.001058   0.000705   \n",
       "LNC-PRYP4-3:1      0.384136      0.0      0.0     0.0  0.000000   0.000000   \n",
       "LNC-TTLL7-2:5      0.456264      1.0      0.0     1.0  0.008463   0.003232   \n",
       "LNC-CLEC18B-3:5    0.492536      1.0      1.0     0.0  0.001629   0.001173   \n",
       "LNC-GPR119-1:1     0.482829      1.0      0.0     1.0  0.002078   0.000664   \n",
       "\n",
       "                 exon_num  TYPE  \n",
       "sname                            \n",
       "LNC-C8ORF56-1:8  0.000395   0.0  \n",
       "LNC-PRYP4-3:1    0.000000   0.0  \n",
       "LNC-TTLL7-2:5    0.000592   0.0  \n",
       "LNC-CLEC18B-3:5  0.000790   0.0  \n",
       "LNC-GPR119-1:1   0.002369   0.0  "
      ]
     },
     "execution_count": 35,
     "metadata": {},
     "output_type": "execute_result"
    }
   ],
   "source": [
    "scaler = MinMaxScaler()\n",
    "scaled_df = pd.DataFrame(scaler.fit_transform(data_full.ix[:, 4:]), columns=data_full.columns[4:], index=data_full.index)\n",
    "scaled_df.head()"
   ]
  },
  {
   "cell_type": "code",
   "execution_count": null,
   "metadata": {
    "collapsed": false
   },
   "outputs": [],
   "source": [
    "from scipy.stats import gaussian_kde\n",
    "\n",
    "\n",
    "# palette = ['#e41a1c', '#377eb8', '#4eae4b', \n",
    "#                    '#994fa1', '#ff8101', '#fdfc33', \n",
    "#                    '#a8572c', '#f482be', '#999999']\n",
    "\n",
    "palette = [\"b\", \"r\"]\n",
    "\n",
    "classes = list(set(data_full[\"TYPE\"]))\n",
    "\n",
    "color_map = dict(zip(classes, palette))\n",
    "colors = [color_map[i] for i in data_full[\"TYPE\"]]\n",
    "print(color_map)\n",
    "\n",
    "df = scaled_df\n",
    "axarr = scatter_matrix(df.ix[:,:-1], alpha=0.1, figsize=(15, 15), c = colors, diagonal=None, grid=False)\n",
    "factor = \"TYPE\"\n",
    "\n",
    "for rc in range(4, len(df.columns)):\n",
    "    for group in classes:\n",
    "        y = df[df[factor] == group].ix[:,rc].values\n",
    "        gkde = gaussian_kde(y)\n",
    "        ind = np.linspace(y.min(), y.max(), 1000)\n",
    "        axarr[rc][rc].plot(ind, gkde.evaluate(ind),c=color_map[group])\n",
    "\n",
    "\n",
    "plt.show()"
   ]
  },
  {
   "cell_type": "markdown",
   "metadata": {},
   "source": [
    "_______"
   ]
  },
  {
   "cell_type": "code",
   "execution_count": 47,
   "metadata": {
    "collapsed": false
   },
   "outputs": [
    {
     "name": "stdout",
     "output_type": "stream",
     "text": [
      "3394\n"
     ]
    }
   ],
   "source": [
    "df = coding_blast\n",
    "max_ind = np.argmax(df[df.queryId == 'UC009VIW.2'].percIdentity)\n",
    "print max_ind"
   ]
  },
  {
   "cell_type": "code",
   "execution_count": 66,
   "metadata": {
    "collapsed": true
   },
   "outputs": [],
   "source": [
    "import tqdm\n",
    "\n",
    "def get_new_blast(df, thresh = 1e-1):\n",
    "    \n",
    "    uniq_ids = np.unique(df.queryId)\n",
    "    print(\"Unique Ids:\", len(uniq_ids))\n",
    "    indxs = []\n",
    "    \n",
    "    for i in tqdm.trange(len(uniq_ids)):\n",
    "        m_id = np.argmin(df[df.queryId == uniq_ids[i]].eVal)\n",
    "        indxs.append(m_id)\n",
    "#         if m_id <= thresh:\n",
    "#             indxs.append(np.argmin(df[df.queryId == i].eVal))\n",
    "#         if max_id >=thresh:\n",
    "#             indxs.append(np.argmax(df[df.queryId == i].percIdentity))\n",
    "    \n",
    "    dt = pd.concat([df.ix[i] for i in indxs], axis = 1).T\n",
    "    dt.index = range(len(dt))\n",
    "    return dt"
   ]
  },
  {
   "cell_type": "code",
   "execution_count": 161,
   "metadata": {
    "collapsed": false
   },
   "outputs": [
    {
     "data": {
      "text/plain": [
       "18191315"
      ]
     },
     "execution_count": 161,
     "metadata": {},
     "output_type": "execute_result"
    }
   ],
   "source": [
    "len(lnc_blast)"
   ]
  },
  {
   "cell_type": "code",
   "execution_count": 67,
   "metadata": {
    "collapsed": false
   },
   "outputs": [
    {
     "name": "stderr",
     "output_type": "stream",
     "text": [
      "100%|██████████| 4664/4664 [05:18<00:00, 15.08it/s]"
     ]
    },
    {
     "name": "stdout",
     "output_type": "stream",
     "text": [
      "('Unique Ids:', 4664)\n"
     ]
    },
    {
     "name": "stderr",
     "output_type": "stream",
     "text": [
      "\n"
     ]
    }
   ],
   "source": [
    "new_blast_lnc = get_new_blast(lnc_blast.ix[:1136957])"
   ]
  },
  {
   "cell_type": "code",
   "execution_count": 69,
   "metadata": {
    "collapsed": false
   },
   "outputs": [
    {
     "name": "stderr",
     "output_type": "stream",
     "text": [
      "100%|██████████| 455/455 [00:09<00:00, 46.68it/s]"
     ]
    },
    {
     "name": "stdout",
     "output_type": "stream",
     "text": [
      "('Unique Ids:', 455)\n"
     ]
    },
    {
     "name": "stderr",
     "output_type": "stream",
     "text": [
      "\n"
     ]
    }
   ],
   "source": [
    "new_blast_coding = get_new_blast(coding_blast)"
   ]
  },
  {
   "cell_type": "code",
   "execution_count": 71,
   "metadata": {
    "collapsed": false
   },
   "outputs": [
    {
     "data": {
      "text/html": [
       "<div>\n",
       "<table border=\"1\" class=\"dataframe\">\n",
       "  <thead>\n",
       "    <tr style=\"text-align: right;\">\n",
       "      <th></th>\n",
       "      <th>queryId</th>\n",
       "      <th>subjectId</th>\n",
       "      <th>percIdentity</th>\n",
       "      <th>alnLength</th>\n",
       "      <th>mismatchCount</th>\n",
       "      <th>gapOpenCount</th>\n",
       "      <th>queryStart</th>\n",
       "      <th>queryEnd</th>\n",
       "      <th>subjectStart</th>\n",
       "      <th>subjectEnd</th>\n",
       "      <th>eVal</th>\n",
       "      <th>bitScore</th>\n",
       "    </tr>\n",
       "  </thead>\n",
       "  <tbody>\n",
       "    <tr>\n",
       "      <th>0</th>\n",
       "      <td>UC001AAA.3</td>\n",
       "      <td>UniRef50_UPI0007DC72A0</td>\n",
       "      <td>81.82</td>\n",
       "      <td>88</td>\n",
       "      <td>14</td>\n",
       "      <td>2</td>\n",
       "      <td>656</td>\n",
       "      <td>913</td>\n",
       "      <td>760</td>\n",
       "      <td>847</td>\n",
       "      <td>9e-70</td>\n",
       "      <td>140</td>\n",
       "    </tr>\n",
       "    <tr>\n",
       "      <th>1</th>\n",
       "      <td>UC001AAC.4</td>\n",
       "      <td>UniRef50_A0A096LNU2</td>\n",
       "      <td>96.91</td>\n",
       "      <td>162</td>\n",
       "      <td>3</td>\n",
       "      <td>2</td>\n",
       "      <td>235</td>\n",
       "      <td>717</td>\n",
       "      <td>62</td>\n",
       "      <td>222</td>\n",
       "      <td>5e-138</td>\n",
       "      <td>304</td>\n",
       "    </tr>\n",
       "  </tbody>\n",
       "</table>\n",
       "</div>"
      ],
      "text/plain": [
       "      queryId               subjectId percIdentity alnLength mismatchCount  \\\n",
       "0  UC001AAA.3  UniRef50_UPI0007DC72A0        81.82        88            14   \n",
       "1  UC001AAC.4     UniRef50_A0A096LNU2        96.91       162             3   \n",
       "\n",
       "  gapOpenCount queryStart queryEnd subjectStart subjectEnd    eVal bitScore  \n",
       "0            2        656      913          760        847   9e-70      140  \n",
       "1            2        235      717           62        222  5e-138      304  "
      ]
     },
     "execution_count": 71,
     "metadata": {},
     "output_type": "execute_result"
    }
   ],
   "source": [
    "new_blast_coding.head(2)"
   ]
  },
  {
   "cell_type": "code",
   "execution_count": 76,
   "metadata": {
    "collapsed": false
   },
   "outputs": [],
   "source": [
    "new_blast_coding[\"TYPE\"] = 'coding'\n",
    "new_blast_lnc[\"TYPE\"] = 'non-coding'\n",
    "\n",
    "data_full_blast = pd.concat((new_blast_coding, new_blast_lnc), axis = 0)"
   ]
  },
  {
   "cell_type": "code",
   "execution_count": 77,
   "metadata": {
    "collapsed": false
   },
   "outputs": [
    {
     "data": {
      "text/plain": [
       "(5119, 13)"
      ]
     },
     "execution_count": 77,
     "metadata": {},
     "output_type": "execute_result"
    }
   ],
   "source": [
    "data_full_blast.shape"
   ]
  },
  {
   "cell_type": "markdown",
   "metadata": {},
   "source": [
    "# Blast data visualisations"
   ]
  },
  {
   "cell_type": "code",
   "execution_count": 91,
   "metadata": {
    "collapsed": false
   },
   "outputs": [
    {
     "data": {
      "image/png": "[encoded data removed]",
      "text/plain": [
       "<matplotlib.figure.Figure at 0x7fbe9e237890>"
      ]
     },
     "metadata": {},
     "output_type": "display_data"
    },
    {
     "data": {
      "image/png": "[encoded data removed]",
      "text/plain": [
       "<matplotlib.figure.Figure at 0x7fbe81dc4810>"
      ]
     },
     "metadata": {},
     "output_type": "display_data"
    },
    {
     "data": {
      "image/png": "[encoded data removed]",
      "text/plain": [
       "<matplotlib.figure.Figure at 0x7fbe81d99190>"
      ]
     },
     "metadata": {},
     "output_type": "display_data"
    }
   ],
   "source": [
    "for plt_indx, column in enumerate(('alnLength','eVal','bitScore')):\n",
    "#     plt.title(column)\n",
    "    data_full_blast.boxplot(column=column, by='TYPE', figsize=(4,5), )\n",
    "    \n",
    "    plt.semilogy()\n",
    "    if column == 'eVal':\n",
    "        plt.ylim((1e-100, 1e2))\n",
    "    \n",
    "    plt.show()\n",
    "\n",
    "#     if column in ('eVal, bitScore'):\n",
    "#         plt.semilogy()"
   ]
  },
  {
   "cell_type": "code",
   "execution_count": 101,
   "metadata": {
    "collapsed": false
   },
   "outputs": [
    {
     "data": {
      "text/plain": [
       "<matplotlib.text.Text at 0x7fbe81cec5d0>"
      ]
     },
     "execution_count": 101,
     "metadata": {},
     "output_type": "execute_result"
    },
    {
     "data": {
      "image/png": "[encoded data removed]",
      "text/plain": [
       "<matplotlib.figure.Figure at 0x7fbea4cec150>"
      ]
     },
     "metadata": {},
     "output_type": "display_data"
    }
   ],
   "source": [
    "plt.hist(data_full_blast[data_full_blast.TYPE=='non-coding'].eVal)\n",
    "plt.xlabel('value')\n",
    "plt.ylabel('num_samples')\n",
    "plt.title(\"eVal, non-coding\")"
   ]
  },
  {
   "cell_type": "code",
   "execution_count": 100,
   "metadata": {
    "collapsed": false
   },
   "outputs": [
    {
     "data": {
      "text/plain": [
       "<matplotlib.text.Text at 0x7fbea4d9c610>"
      ]
     },
     "execution_count": 100,
     "metadata": {},
     "output_type": "execute_result"
    },
    {
     "data": {
      "image/png": "[encoded data removed]",
      "text/plain": [
       "<matplotlib.figure.Figure at 0x7fbea4c519d0>"
      ]
     },
     "metadata": {},
     "output_type": "display_data"
    }
   ],
   "source": [
    "plt.hist(data_full_blast[data_full_blast.TYPE=='coding'].eVal)\n",
    "plt.xlabel('value')\n",
    "plt.ylabel('num_samples')\n",
    "plt.title(\"eVal, coding\")"
   ]
  },
  {
   "cell_type": "code",
   "execution_count": 102,
   "metadata": {
    "collapsed": false
   },
   "outputs": [
    {
     "data": {
      "text/plain": [
       "<matplotlib.text.Text at 0x7fbe81ee3d50>"
      ]
     },
     "execution_count": 102,
     "metadata": {},
     "output_type": "execute_result"
    },
    {
     "data": {
      "image/png": "[encoded data removed]",
      "text/plain": [
       "<matplotlib.figure.Figure at 0x7fbeb12f5710>"
      ]
     },
     "metadata": {},
     "output_type": "display_data"
    }
   ],
   "source": [
    "plt.hist(data_full_blast[data_full_blast.TYPE=='coding'].percIdentity)\n",
    "plt.xlabel('value')\n",
    "plt.ylabel('num_samples')\n",
    "plt.title(\"percIdentity, coding\")"
   ]
  },
  {
   "cell_type": "code",
   "execution_count": 103,
   "metadata": {
    "collapsed": false
   },
   "outputs": [
    {
     "data": {
      "text/plain": [
       "<matplotlib.text.Text at 0x7fbe81f40ad0>"
      ]
     },
     "execution_count": 103,
     "metadata": {},
     "output_type": "execute_result"
    },
    {
     "data": {
      "image/png": "[encoded data removed]",
      "text/plain": [
       "<matplotlib.figure.Figure at 0x7fbea4ccdfd0>"
      ]
     },
     "metadata": {},
     "output_type": "display_data"
    }
   ],
   "source": [
    "plt.hist(data_full_blast[data_full_blast.TYPE=='non-coding'].percIdentity)\n",
    "plt.xlabel('value')\n",
    "plt.ylabel('num_samples')\n",
    "plt.title(\"percIdentity, non-coding\")"
   ]
  },
  {
   "cell_type": "markdown",
   "metadata": {},
   "source": [
    "## Other features visualisations"
   ]
  },
  {
   "cell_type": "code",
   "execution_count": 158,
   "metadata": {
    "collapsed": false
   },
   "outputs": [],
   "source": [
    "def hist_col(col, data_full):\n",
    "    bins = np.linspace(min(data_full[col]), max(data_full[col])/100, 100)\n",
    "    print(min(data_full[col]))\n",
    "    print(max(data_full[col]))\n",
    "#     bins = (min(data_full[col], ))\n",
    "    plt.figure(figsize=(8,5))\n",
    "    plt.hist(data_full[data_full.TYPE=='non-coding'][col],bins=bins, label='non-coding')\n",
    "    plt.hist(data_full[data_full.TYPE=='coding'][col],bins=bins, label='coding')\n",
    "    plt.xlabel('value')\n",
    "    plt.ylabel('num_samples')\n",
    "#     plt.semilogy()\n",
    "    plt.legend()\n",
    "    plt.title(col)"
   ]
  },
  {
   "cell_type": "code",
   "execution_count": 149,
   "metadata": {
    "collapsed": false
   },
   "outputs": [
    {
     "name": "stdout",
     "output_type": "stream",
     "text": [
      "0.0\n",
      "205011.0\n"
     ]
    },
    {
     "data": {
      "image/png": "[encoded data removed]",
      "text/plain": [
       "<matplotlib.figure.Figure at 0x7fbe7f2f3650>"
      ]
     },
     "metadata": {},
     "output_type": "display_data"
    }
   ],
   "source": [
    "hist_col('exon_mean', data_full)"
   ]
  },
  {
   "cell_type": "code",
   "execution_count": 150,
   "metadata": {
    "collapsed": false
   },
   "outputs": [
    {
     "name": "stdout",
     "output_type": "stream",
     "text": [
      "0\n",
      "205011\n"
     ]
    },
    {
     "data": {
      "image/png": "[encoded data removed]",
      "text/plain": [
       "<matplotlib.figure.Figure at 0x7fbe7f14ad90>"
      ]
     },
     "metadata": {},
     "output_type": "display_data"
    }
   ],
   "source": [
    "hist_col('exon_max', data_full)"
   ]
  },
  {
   "cell_type": "code",
   "execution_count": 151,
   "metadata": {
    "collapsed": false
   },
   "outputs": [
    {
     "name": "stdout",
     "output_type": "stream",
     "text": [
      "0\n",
      "5065\n"
     ]
    },
    {
     "data": {
      "image/png": "[encoded data removed]",
      "text/plain": [
       "<matplotlib.figure.Figure at 0x7fbe7f0bdfd0>"
      ]
     },
     "metadata": {},
     "output_type": "display_data"
    }
   ],
   "source": [
    "hist_col('exon_num', data_full)"
   ]
  },
  {
   "cell_type": "code",
   "execution_count": 154,
   "metadata": {
    "collapsed": false
   },
   "outputs": [
    {
     "name": "stdout",
     "output_type": "stream",
     "text": [
      "17.89\n",
      "100.0\n"
     ]
    },
    {
     "data": {
      "image/png": "[encoded data removed]",
      "text/plain": [
       "<matplotlib.figure.Figure at 0x7fbe7ee8a410>"
      ]
     },
     "metadata": {},
     "output_type": "display_data"
    }
   ],
   "source": [
    "hist_col('percIdentity', data_full_blast)"
   ]
  },
  {
   "cell_type": "code",
   "execution_count": 155,
   "metadata": {
    "collapsed": false
   },
   "outputs": [
    {
     "name": "stdout",
     "output_type": "stream",
     "text": [
      "0.0\n",
      "10.0\n"
     ]
    },
    {
     "data": {
      "image/png": "[encoded data removed]",
      "text/plain": [
       "<matplotlib.figure.Figure at 0x7fbe7ec07990>"
      ]
     },
     "metadata": {},
     "output_type": "display_data"
    }
   ],
   "source": [
    "hist_col('eVal', data_full_blast)"
   ]
  },
  {
   "cell_type": "code",
   "execution_count": 159,
   "metadata": {
    "collapsed": false
   },
   "outputs": [
    {
     "name": "stdout",
     "output_type": "stream",
     "text": [
      "-1\n",
      "244296\n"
     ]
    },
    {
     "data": {
      "image/png": "[encoded data removed]",
      "text/plain": [
       "<matplotlib.figure.Figure at 0x7fbe7ea9c190>"
      ]
     },
     "metadata": {},
     "output_type": "display_data"
    }
   ],
   "source": [
    "hist_col('ORF_size', data_full)"
   ]
  },
  {
   "cell_type": "code",
   "execution_count": 160,
   "metadata": {
    "collapsed": false
   },
   "outputs": [
    {
     "name": "stdout",
     "output_type": "stream",
     "text": [
      "-1\n",
      "244296\n"
     ]
    },
    {
     "data": {
      "image/png": "[encoded data removed]",
      "text/plain": [
       "<matplotlib.figure.Figure at 0x7fbe7ed3ff50>"
      ]
     },
     "metadata": {},
     "output_type": "display_data"
    }
   ],
   "source": [
    "hist_col('mRNA_size', data_full)"
   ]
  },
  {
   "cell_type": "code",
   "execution_count": 139,
   "metadata": {
    "collapsed": false
   },
   "outputs": [
    {
     "data": {
      "text/plain": [
       "<matplotlib.text.Text at 0x7fbe7f7b07d0>"
      ]
     },
     "execution_count": 139,
     "metadata": {},
     "output_type": "execute_result"
    },
    {
     "data": {
      "image/png": "[encoded data removed]",
      "text/plain": [
       "<matplotlib.figure.Figure at 0x7fbe812005d0>"
      ]
     },
     "metadata": {},
     "output_type": "display_data"
    }
   ],
   "source": [
    "# bins = np.linspace(-10, 10, 100)\n",
    "plt.figure(figsize=(8,5))\n",
    "plt.hist(data_full[data_full.TYPE=='non-coding']['exon_mean'], label='non-coding')\n",
    "plt.hist(data_full[data_full.TYPE=='coding']['exon_mean'], label='coding')\n",
    "plt.xlabel('value')\n",
    "plt.ylabel('num_samples')\n",
    "#     plt.semilogy()\n",
    "plt.legend()\n",
    "plt.title('exon_mean')"
   ]
  },
  {
   "cell_type": "code",
   "execution_count": null,
   "metadata": {
    "collapsed": true
   },
   "outputs": [],
   "source": []
  },
  {
   "cell_type": "code",
   "execution_count": null,
   "metadata": {
    "collapsed": true
   },
   "outputs": [],
   "source": []
  },
  {
   "cell_type": "code",
   "execution_count": null,
   "metadata": {
    "collapsed": true
   },
   "outputs": [],
   "source": []
  }
 ],
 "metadata": {
  "kernelspec": {
   "display_name": "python2",
   "language": "python",
   "name": "python2"
  },
  "language_info": {
   "codemirror_mode": {
    "name": "ipython",
    "version": 2
   },
   "file_extension": ".py",
   "mimetype": "text/x-python",
   "name": "python",
   "nbconvert_exporter": "python",
   "pygments_lexer": "ipython2",
   "version": "2.7.6"
  }
 },
 "nbformat": 4,
 "nbformat_minor": 1
}
