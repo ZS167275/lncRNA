{
 "cells": [
  {
   "cell_type": "code",
   "execution_count": 1,
   "metadata": {
    "collapsed": true
   },
   "outputs": [],
   "source": [
    "import numpy as np\n",
    "import pandas as pd\n",
    "from matplotlib import pyplot as plt\n",
    "from dna2vec.multi_k_model import MultiKModel\n",
    "import seaborn as sns\n",
    "%matplotlib inline"
   ]
  },
  {
   "cell_type": "code",
   "execution_count": 2,
   "metadata": {
    "collapsed": true
   },
   "outputs": [],
   "source": [
    "filepath = 'pretrained/dna2vec-20161219-0153-k3to8-100d-10c-29320Mbp-sliding-Xat.w2v'\n",
    "mk_model = MultiKModel(filepath)"
   ]
  },
  {
   "cell_type": "code",
   "execution_count": 3,
   "metadata": {},
   "outputs": [
    {
     "data": {
      "text/plain": [
       "(100,)"
      ]
     },
     "execution_count": 3,
     "metadata": {},
     "output_type": "execute_result"
    }
   ],
   "source": [
    "mk_model.vector('AAA').shape"
   ]
  },
  {
   "cell_type": "code",
   "execution_count": 59,
   "metadata": {
    "collapsed": true
   },
   "outputs": [],
   "source": [
    "#### Read fasta ####\n",
    "def read_FASTA(file_name):\n",
    "    with open(file_name, \"r\") as fn:\n",
    "        text = fn.read().split(\">\")\n",
    "    text = [x.split(\"\\n\") for x in text if x != \"\"]\n",
    "    text = [[x[0],\"\".join(x[1:]).upper()] for x in text]\n",
    "    text_dict = {line[0].split('|')[0]:line[1] for line in text}\n",
    "    return text_dict"
   ]
  },
  {
   "cell_type": "markdown",
   "metadata": {},
   "source": [
    "# Data"
   ]
  },
  {
   "cell_type": "code",
   "execution_count": 122,
   "metadata": {
    "collapsed": true
   },
   "outputs": [],
   "source": [
    "code = read_FASTA(\"../../data/FINAL_DATA_1/fasta_for_test/train_fasta_gencode.fasta\")\n",
    "noncode = read_FASTA(\"../../data/FINAL_DATA_1/fasta_for_test/train_fasta_lncPedia.fasta\")"
   ]
  },
  {
   "cell_type": "code",
   "execution_count": 63,
   "metadata": {
    "collapsed": true
   },
   "outputs": [],
   "source": [
    "test_code = read_FASTA(\"../../data/FINAL_DATA_1/fasta_for_test/val_fasta_gencode.fasta\")\n",
    "test_noncode = read_FASTA(\"../../data/FINAL_DATA_1/fasta_for_test/val_fasta_lncPedia.fasta\")"
   ]
  },
  {
   "cell_type": "code",
   "execution_count": 7,
   "metadata": {},
   "outputs": [
    {
     "name": "stdout",
     "output_type": "stream",
     "text": [
      "ENST00000357864.2 CAGTGAGTTAGCATGGAGGGCAGTGGGACCGGAAAAAGACGTGGAAAAGCTGCGAAAACGAGCCTTCGAATCATGGACGCGCGGGCCCAGCTCCTCCTCCGAGTTCCTCATCCGGGGCCGTCACTCACATCCGGGGCCCTCACTCACATCCGGGACCCTCATCCGGGGCTCTCACCCACATCCGGGACCCTCATGCCTGGGCGGAGGAGGGGGGGCCCTCATTCGGGACCCTGCACTCCGTCGCCGGAAGTGCCACCGAGAAGCGCCGGCCTCGGGGCTGTCTACAGCGGCCCGGGAGAGGCTGTGGTGGCCCCGAGCGCGAGTGTGTAGGTGACAGGACAGCGGCCAGGCCCGCCCCTCCCCTCGTGATGGTCATTGTCCTCCAGAGCAGTGATGGAGGAAATACCAGCCCAGGAAGCAGCAGGGTCACCAAGGGTCCAGTTTCAGTCTTTGGAGACCCAGTCTGAGTGTCTGTCCCCAGAGCCTCAGTTTGTGCAGGACACCGACATGGAACAGGGACTCACTGGGGGCATACTTCTCCGCCTTCCCACCACCCGGATTCATAGTGTGAATTCCTGCCCGGCCCTGAGTCATACCCAGGCAAGTGCTTTCTCTGGAGAAACACTTGCCGTCCTTACAGCAGGAATCTCCAAGAGATGGCCCAAGTATCGGCTTCCCATCGATATTGCTCGTCCCTGCTCGGAAACTCCTTTTCCACGATTGTGAGATATTAAAATTGACTGATGGAATAGAAGCTCCCCAGGATGCCACCACTGTGTAAAATCGCAGCTCCTCAAATTACCTCTGTTTAATTTCAAATGTTAGGGTCCAAGGAAGCCCTCTGTTGCAACCAGATATGTTTTGAACCCAGTTCATTCAGAAACCATGGTTGGTGGTCATCATCTACTTGTATTGTGAAAAACCAGAAATTCCAAATTCAGCTCTTCAGTTATGGTCTTTTCATATTATTTTAGAATGTGAAACTTATGCTGTGTGCCCCTCCTTTTATGTGGCGAACACAACCTGCCCCGTATGGTGCCTAACTCTCCTGTGAACCCTGGGCTTCCCTCATGTTTAACATTCTGGTTTCCTCCTTCCTTGAAGTCCCTGTGGCCCTCTTCAAGGTCCTACCTTCCTACCCTTTATTCTTTGTGGTTCTGTACAGATTGATGCAATTATATTGCCTTTCCTGATTAAGTGTTCCTTACTCTGTCCTTGATGGAGGGGAGAAGGGAGGGCAAAGAAGTTAAATTTATTTCAGGGCATCAAATTGAATATCTACTTAATAACTTTGTAAACTGTAAAGTGACATACATATAATTGTAAAGTACTGTTAATTTTATCTAATAATTACAGAGTTTCCAACAGTT\n"
     ]
    }
   ],
   "source": [
    "for k,v in code.items():\n",
    "    print(k, v)\n",
    "    break"
   ]
  },
  {
   "cell_type": "markdown",
   "metadata": {},
   "source": [
    "# Data generator"
   ]
  },
  {
   "cell_type": "code",
   "execution_count": 6,
   "metadata": {
    "collapsed": true
   },
   "outputs": [],
   "source": [
    "from tqdm import tqdm"
   ]
  },
  {
   "cell_type": "code",
   "execution_count": 79,
   "metadata": {
    "collapsed": true
   },
   "outputs": [],
   "source": [
    "def make_vec(seq, kmer=8, max_length=5000):\n",
    "    vectors = []\n",
    "    i = 0\n",
    "    max_range = min((len(seq)-kmer), max_length)\n",
    "    for i in range(max_range):\n",
    "        tmp = seq[i:i+kmer]\n",
    "        if 'N' in tmp:\n",
    "            continue\n",
    "        vec_tmp = mk_model.vector(tmp)\n",
    "        vectors.append(vec_tmp)\n",
    "    \n",
    "    if len(vectors) == 0:\n",
    "        return []\n",
    "    return np.mean(vectors, axis=0) "
   ]
  },
  {
   "cell_type": "code",
   "execution_count": 80,
   "metadata": {
    "collapsed": true
   },
   "outputs": [],
   "source": [
    "def make_df_from_dic(dic_list, num_for_class = 1000, kmer=8):\n",
    "    result_dic = {}\n",
    "    for i,dic in enumerate(dic_list):\n",
    "        print(\"type: \", i)\n",
    "        lol = list(dic.items())[:num_for_class]\n",
    "        for j,(k,val) in enumerate(tqdm(lol)):\n",
    "            result_dic[k] = {'TYPE': i}\n",
    "            vec = make_vec(val, kmer)\n",
    "            if len(vec) == 0:\n",
    "                continue\n",
    "            for n in range(100):\n",
    "                result_dic[k].update({str(n):vec[n]})\n",
    "    return pd.DataFrame(result_dic).T"
   ]
  },
  {
   "cell_type": "code",
   "execution_count": 10,
   "metadata": {
    "collapsed": true
   },
   "outputs": [],
   "source": [
    "df_3mer = make_df_from_dic([noncode,code], num_for_class = 3000)"
   ]
  },
  {
   "cell_type": "code",
   "execution_count": 35,
   "metadata": {},
   "outputs": [
    {
     "name": "stderr",
     "output_type": "stream",
     "text": [
      "2987it [00:07, 413.66it/s]\n",
      "2997it [00:15, 210.45it/s]"
     ]
    }
   ],
   "source": [
    "df_8mer = make_df_from_dic([noncode,code], num_for_class = 3000, kmer=8)"
   ]
  },
  {
   "cell_type": "code",
   "execution_count": 10,
   "metadata": {
    "collapsed": true
   },
   "outputs": [],
   "source": [
    "df_8mer.to_csv(\"vectors_8mer.csv\")"
   ]
  },
  {
   "cell_type": "code",
   "execution_count": 9,
   "metadata": {},
   "outputs": [
    {
     "data": {
      "text/html": [
       "<div>\n",
       "<table border=\"1\" class=\"dataframe\">\n",
       "  <thead>\n",
       "    <tr style=\"text-align: right;\">\n",
       "      <th></th>\n",
       "      <th>0</th>\n",
       "      <th>1</th>\n",
       "      <th>10</th>\n",
       "      <th>11</th>\n",
       "      <th>12</th>\n",
       "      <th>13</th>\n",
       "      <th>14</th>\n",
       "      <th>15</th>\n",
       "      <th>16</th>\n",
       "      <th>17</th>\n",
       "      <th>...</th>\n",
       "      <th>91</th>\n",
       "      <th>92</th>\n",
       "      <th>93</th>\n",
       "      <th>94</th>\n",
       "      <th>95</th>\n",
       "      <th>96</th>\n",
       "      <th>97</th>\n",
       "      <th>98</th>\n",
       "      <th>99</th>\n",
       "      <th>TYPE</th>\n",
       "    </tr>\n",
       "  </thead>\n",
       "  <tbody>\n",
       "    <tr>\n",
       "      <th>ENST00000002165.6</th>\n",
       "      <td>0.003689</td>\n",
       "      <td>0.254581</td>\n",
       "      <td>0.014238</td>\n",
       "      <td>0.091091</td>\n",
       "      <td>-0.000442</td>\n",
       "      <td>0.001545</td>\n",
       "      <td>-0.056720</td>\n",
       "      <td>0.137365</td>\n",
       "      <td>-0.025269</td>\n",
       "      <td>0.007413</td>\n",
       "      <td>...</td>\n",
       "      <td>0.005352</td>\n",
       "      <td>-0.209853</td>\n",
       "      <td>-0.212490</td>\n",
       "      <td>0.167473</td>\n",
       "      <td>-0.064458</td>\n",
       "      <td>-0.090392</td>\n",
       "      <td>-0.164697</td>\n",
       "      <td>-0.126204</td>\n",
       "      <td>-0.029774</td>\n",
       "      <td>1.0</td>\n",
       "    </tr>\n",
       "    <tr>\n",
       "      <th>ENST00000004531.10</th>\n",
       "      <td>-0.043409</td>\n",
       "      <td>0.283412</td>\n",
       "      <td>0.054422</td>\n",
       "      <td>0.054727</td>\n",
       "      <td>-0.036419</td>\n",
       "      <td>0.014435</td>\n",
       "      <td>-0.025514</td>\n",
       "      <td>0.139263</td>\n",
       "      <td>-0.045349</td>\n",
       "      <td>-0.014162</td>\n",
       "      <td>...</td>\n",
       "      <td>-0.040117</td>\n",
       "      <td>-0.210883</td>\n",
       "      <td>-0.178781</td>\n",
       "      <td>0.149320</td>\n",
       "      <td>-0.047340</td>\n",
       "      <td>-0.115984</td>\n",
       "      <td>-0.172277</td>\n",
       "      <td>-0.111183</td>\n",
       "      <td>-0.052920</td>\n",
       "      <td>1.0</td>\n",
       "    </tr>\n",
       "    <tr>\n",
       "      <th>ENST00000005558.4</th>\n",
       "      <td>-0.033050</td>\n",
       "      <td>0.323022</td>\n",
       "      <td>0.030809</td>\n",
       "      <td>0.088739</td>\n",
       "      <td>0.040822</td>\n",
       "      <td>0.098041</td>\n",
       "      <td>-0.050957</td>\n",
       "      <td>0.122822</td>\n",
       "      <td>-0.010079</td>\n",
       "      <td>-0.035426</td>\n",
       "      <td>...</td>\n",
       "      <td>-0.012589</td>\n",
       "      <td>-0.178201</td>\n",
       "      <td>-0.215189</td>\n",
       "      <td>0.153687</td>\n",
       "      <td>-0.056532</td>\n",
       "      <td>-0.136635</td>\n",
       "      <td>-0.139743</td>\n",
       "      <td>-0.101545</td>\n",
       "      <td>-0.063998</td>\n",
       "      <td>1.0</td>\n",
       "    </tr>\n",
       "    <tr>\n",
       "      <th>ENST00000006101.4</th>\n",
       "      <td>0.035741</td>\n",
       "      <td>0.331534</td>\n",
       "      <td>-0.084932</td>\n",
       "      <td>0.095210</td>\n",
       "      <td>0.097590</td>\n",
       "      <td>0.100812</td>\n",
       "      <td>-0.119700</td>\n",
       "      <td>0.080089</td>\n",
       "      <td>-0.097209</td>\n",
       "      <td>-0.058467</td>\n",
       "      <td>...</td>\n",
       "      <td>0.068650</td>\n",
       "      <td>-0.250810</td>\n",
       "      <td>-0.244137</td>\n",
       "      <td>0.241494</td>\n",
       "      <td>-0.067607</td>\n",
       "      <td>-0.044267</td>\n",
       "      <td>-0.091211</td>\n",
       "      <td>-0.193827</td>\n",
       "      <td>-0.107381</td>\n",
       "      <td>1.0</td>\n",
       "    </tr>\n",
       "    <tr>\n",
       "      <th>ENST00000011898.5</th>\n",
       "      <td>0.004582</td>\n",
       "      <td>0.303065</td>\n",
       "      <td>-0.053180</td>\n",
       "      <td>0.077485</td>\n",
       "      <td>0.066156</td>\n",
       "      <td>0.094409</td>\n",
       "      <td>-0.154426</td>\n",
       "      <td>0.159862</td>\n",
       "      <td>-0.095405</td>\n",
       "      <td>-0.075168</td>\n",
       "      <td>...</td>\n",
       "      <td>0.077112</td>\n",
       "      <td>-0.223872</td>\n",
       "      <td>-0.263312</td>\n",
       "      <td>0.248244</td>\n",
       "      <td>-0.048247</td>\n",
       "      <td>0.016410</td>\n",
       "      <td>-0.069615</td>\n",
       "      <td>-0.143035</td>\n",
       "      <td>-0.083935</td>\n",
       "      <td>1.0</td>\n",
       "    </tr>\n",
       "  </tbody>\n",
       "</table>\n",
       "<p>5 rows × 101 columns</p>\n",
       "</div>"
      ],
      "text/plain": [
       "                           0         1        10        11        12  \\\n",
       "ENST00000002165.6   0.003689  0.254581  0.014238  0.091091 -0.000442   \n",
       "ENST00000004531.10 -0.043409  0.283412  0.054422  0.054727 -0.036419   \n",
       "ENST00000005558.4  -0.033050  0.323022  0.030809  0.088739  0.040822   \n",
       "ENST00000006101.4   0.035741  0.331534 -0.084932  0.095210  0.097590   \n",
       "ENST00000011898.5   0.004582  0.303065 -0.053180  0.077485  0.066156   \n",
       "\n",
       "                          13        14        15        16        17  ...   \\\n",
       "ENST00000002165.6   0.001545 -0.056720  0.137365 -0.025269  0.007413  ...    \n",
       "ENST00000004531.10  0.014435 -0.025514  0.139263 -0.045349 -0.014162  ...    \n",
       "ENST00000005558.4   0.098041 -0.050957  0.122822 -0.010079 -0.035426  ...    \n",
       "ENST00000006101.4   0.100812 -0.119700  0.080089 -0.097209 -0.058467  ...    \n",
       "ENST00000011898.5   0.094409 -0.154426  0.159862 -0.095405 -0.075168  ...    \n",
       "\n",
       "                          91        92        93        94        95  \\\n",
       "ENST00000002165.6   0.005352 -0.209853 -0.212490  0.167473 -0.064458   \n",
       "ENST00000004531.10 -0.040117 -0.210883 -0.178781  0.149320 -0.047340   \n",
       "ENST00000005558.4  -0.012589 -0.178201 -0.215189  0.153687 -0.056532   \n",
       "ENST00000006101.4   0.068650 -0.250810 -0.244137  0.241494 -0.067607   \n",
       "ENST00000011898.5   0.077112 -0.223872 -0.263312  0.248244 -0.048247   \n",
       "\n",
       "                          96        97        98        99  TYPE  \n",
       "ENST00000002165.6  -0.090392 -0.164697 -0.126204 -0.029774   1.0  \n",
       "ENST00000004531.10 -0.115984 -0.172277 -0.111183 -0.052920   1.0  \n",
       "ENST00000005558.4  -0.136635 -0.139743 -0.101545 -0.063998   1.0  \n",
       "ENST00000006101.4  -0.044267 -0.091211 -0.193827 -0.107381   1.0  \n",
       "ENST00000011898.5   0.016410 -0.069615 -0.143035 -0.083935   1.0  \n",
       "\n",
       "[5 rows x 101 columns]"
      ]
     },
     "execution_count": 9,
     "metadata": {},
     "output_type": "execute_result"
    }
   ],
   "source": [
    "df_8mer = pd.read_csv(\"vectors_8mer.csv\", index_col=0)\n",
    "df_8mer.head()"
   ]
  },
  {
   "cell_type": "code",
   "execution_count": 44,
   "metadata": {},
   "outputs": [
    {
     "data": {
      "text/html": [
       "<div>\n",
       "<table border=\"1\" class=\"dataframe\">\n",
       "  <thead>\n",
       "    <tr style=\"text-align: right;\">\n",
       "      <th></th>\n",
       "      <th>0</th>\n",
       "      <th>1</th>\n",
       "      <th>10</th>\n",
       "      <th>11</th>\n",
       "      <th>12</th>\n",
       "      <th>13</th>\n",
       "      <th>14</th>\n",
       "      <th>15</th>\n",
       "      <th>16</th>\n",
       "      <th>17</th>\n",
       "      <th>...</th>\n",
       "      <th>91</th>\n",
       "      <th>92</th>\n",
       "      <th>93</th>\n",
       "      <th>94</th>\n",
       "      <th>95</th>\n",
       "      <th>96</th>\n",
       "      <th>97</th>\n",
       "      <th>98</th>\n",
       "      <th>99</th>\n",
       "      <th>TYPE</th>\n",
       "    </tr>\n",
       "  </thead>\n",
       "  <tbody>\n",
       "    <tr>\n",
       "      <th>ENST00000003302.4</th>\n",
       "      <td>0.013014</td>\n",
       "      <td>0.227924</td>\n",
       "      <td>-0.029424</td>\n",
       "      <td>0.072023</td>\n",
       "      <td>0.062128</td>\n",
       "      <td>0.095390</td>\n",
       "      <td>-0.159689</td>\n",
       "      <td>0.004302</td>\n",
       "      <td>-0.032853</td>\n",
       "      <td>-0.079117</td>\n",
       "      <td>...</td>\n",
       "      <td>0.006808</td>\n",
       "      <td>-0.078969</td>\n",
       "      <td>-0.122714</td>\n",
       "      <td>0.283493</td>\n",
       "      <td>-0.055594</td>\n",
       "      <td>0.132653</td>\n",
       "      <td>-0.081758</td>\n",
       "      <td>-0.171676</td>\n",
       "      <td>-0.075468</td>\n",
       "      <td>1.0</td>\n",
       "    </tr>\n",
       "    <tr>\n",
       "      <th>ENST00000004531.10</th>\n",
       "      <td>0.005034</td>\n",
       "      <td>0.218099</td>\n",
       "      <td>-0.021391</td>\n",
       "      <td>0.062405</td>\n",
       "      <td>0.038848</td>\n",
       "      <td>0.059509</td>\n",
       "      <td>-0.153098</td>\n",
       "      <td>0.006686</td>\n",
       "      <td>-0.028458</td>\n",
       "      <td>-0.069184</td>\n",
       "      <td>...</td>\n",
       "      <td>-0.002370</td>\n",
       "      <td>-0.088688</td>\n",
       "      <td>-0.114525</td>\n",
       "      <td>0.269773</td>\n",
       "      <td>-0.055501</td>\n",
       "      <td>0.129165</td>\n",
       "      <td>-0.091422</td>\n",
       "      <td>-0.175493</td>\n",
       "      <td>-0.094955</td>\n",
       "      <td>1.0</td>\n",
       "    </tr>\n",
       "    <tr>\n",
       "      <th>ENST00000039989.4</th>\n",
       "      <td>0.013898</td>\n",
       "      <td>0.222597</td>\n",
       "      <td>-0.030311</td>\n",
       "      <td>0.072261</td>\n",
       "      <td>0.077322</td>\n",
       "      <td>0.092299</td>\n",
       "      <td>-0.170222</td>\n",
       "      <td>0.008648</td>\n",
       "      <td>-0.027080</td>\n",
       "      <td>-0.075595</td>\n",
       "      <td>...</td>\n",
       "      <td>0.015816</td>\n",
       "      <td>-0.078679</td>\n",
       "      <td>-0.125496</td>\n",
       "      <td>0.286451</td>\n",
       "      <td>-0.056895</td>\n",
       "      <td>0.138354</td>\n",
       "      <td>-0.078589</td>\n",
       "      <td>-0.173689</td>\n",
       "      <td>-0.077113</td>\n",
       "      <td>1.0</td>\n",
       "    </tr>\n",
       "    <tr>\n",
       "      <th>ENST00000161863.4</th>\n",
       "      <td>0.010175</td>\n",
       "      <td>0.218329</td>\n",
       "      <td>-0.018945</td>\n",
       "      <td>0.069467</td>\n",
       "      <td>0.046624</td>\n",
       "      <td>0.072574</td>\n",
       "      <td>-0.146672</td>\n",
       "      <td>0.001543</td>\n",
       "      <td>-0.026758</td>\n",
       "      <td>-0.075712</td>\n",
       "      <td>...</td>\n",
       "      <td>-0.008355</td>\n",
       "      <td>-0.086001</td>\n",
       "      <td>-0.117623</td>\n",
       "      <td>0.274815</td>\n",
       "      <td>-0.052710</td>\n",
       "      <td>0.122917</td>\n",
       "      <td>-0.091540</td>\n",
       "      <td>-0.170351</td>\n",
       "      <td>-0.086798</td>\n",
       "      <td>1.0</td>\n",
       "    </tr>\n",
       "    <tr>\n",
       "      <th>ENST00000181796.2</th>\n",
       "      <td>0.009842</td>\n",
       "      <td>0.224181</td>\n",
       "      <td>-0.021594</td>\n",
       "      <td>0.063872</td>\n",
       "      <td>0.057209</td>\n",
       "      <td>0.084500</td>\n",
       "      <td>-0.147764</td>\n",
       "      <td>-0.000716</td>\n",
       "      <td>-0.020504</td>\n",
       "      <td>-0.077441</td>\n",
       "      <td>...</td>\n",
       "      <td>0.009349</td>\n",
       "      <td>-0.081899</td>\n",
       "      <td>-0.121543</td>\n",
       "      <td>0.272167</td>\n",
       "      <td>-0.055240</td>\n",
       "      <td>0.136472</td>\n",
       "      <td>-0.085518</td>\n",
       "      <td>-0.170695</td>\n",
       "      <td>-0.087758</td>\n",
       "      <td>1.0</td>\n",
       "    </tr>\n",
       "  </tbody>\n",
       "</table>\n",
       "<p>5 rows × 101 columns</p>\n",
       "</div>"
      ],
      "text/plain": [
       "                           0         1        10        11        12  \\\n",
       "ENST00000003302.4   0.013014  0.227924 -0.029424  0.072023  0.062128   \n",
       "ENST00000004531.10  0.005034  0.218099 -0.021391  0.062405  0.038848   \n",
       "ENST00000039989.4   0.013898  0.222597 -0.030311  0.072261  0.077322   \n",
       "ENST00000161863.4   0.010175  0.218329 -0.018945  0.069467  0.046624   \n",
       "ENST00000181796.2   0.009842  0.224181 -0.021594  0.063872  0.057209   \n",
       "\n",
       "                          13        14        15        16        17  ...   \\\n",
       "ENST00000003302.4   0.095390 -0.159689  0.004302 -0.032853 -0.079117  ...    \n",
       "ENST00000004531.10  0.059509 -0.153098  0.006686 -0.028458 -0.069184  ...    \n",
       "ENST00000039989.4   0.092299 -0.170222  0.008648 -0.027080 -0.075595  ...    \n",
       "ENST00000161863.4   0.072574 -0.146672  0.001543 -0.026758 -0.075712  ...    \n",
       "ENST00000181796.2   0.084500 -0.147764 -0.000716 -0.020504 -0.077441  ...    \n",
       "\n",
       "                          91        92        93        94        95  \\\n",
       "ENST00000003302.4   0.006808 -0.078969 -0.122714  0.283493 -0.055594   \n",
       "ENST00000004531.10 -0.002370 -0.088688 -0.114525  0.269773 -0.055501   \n",
       "ENST00000039989.4   0.015816 -0.078679 -0.125496  0.286451 -0.056895   \n",
       "ENST00000161863.4  -0.008355 -0.086001 -0.117623  0.274815 -0.052710   \n",
       "ENST00000181796.2   0.009349 -0.081899 -0.121543  0.272167 -0.055240   \n",
       "\n",
       "                          96        97        98        99  TYPE  \n",
       "ENST00000003302.4   0.132653 -0.081758 -0.171676 -0.075468   1.0  \n",
       "ENST00000004531.10  0.129165 -0.091422 -0.175493 -0.094955   1.0  \n",
       "ENST00000039989.4   0.138354 -0.078589 -0.173689 -0.077113   1.0  \n",
       "ENST00000161863.4   0.122917 -0.091540 -0.170351 -0.086798   1.0  \n",
       "ENST00000181796.2   0.136472 -0.085518 -0.170695 -0.087758   1.0  \n",
       "\n",
       "[5 rows x 101 columns]"
      ]
     },
     "execution_count": 44,
     "metadata": {},
     "output_type": "execute_result"
    }
   ],
   "source": [
    "df.head()"
   ]
  },
  {
   "cell_type": "markdown",
   "metadata": {},
   "source": [
    "# Try to classify"
   ]
  },
  {
   "cell_type": "code",
   "execution_count": 13,
   "metadata": {
    "collapsed": true
   },
   "outputs": [],
   "source": [
    "from sklearn.linear_model import LogisticRegression\n",
    "from sklearn.model_selection import cross_val_score\n",
    "from sklearn.metrics import f1_score\n",
    "from sklearn.model_selection import StratifiedKFold"
   ]
  },
  {
   "cell_type": "code",
   "execution_count": 79,
   "metadata": {
    "collapsed": true
   },
   "outputs": [],
   "source": [
    "lr = LogisticRegression()"
   ]
  },
  {
   "cell_type": "code",
   "execution_count": 80,
   "metadata": {
    "collapsed": true
   },
   "outputs": [],
   "source": [
    "y = np.array(df.ix[:,-1], dtype=np.int32)\n",
    "X = np.array(df.ix[:,:-1])"
   ]
  },
  {
   "cell_type": "code",
   "execution_count": 81,
   "metadata": {},
   "outputs": [
    {
     "data": {
      "text/plain": [
       "array([ 0.70439414,  0.766     ,  0.78      ,  0.78666667])"
      ]
     },
     "execution_count": 81,
     "metadata": {},
     "output_type": "execute_result"
    }
   ],
   "source": [
    "cross_val_score(lr, X, y, cv = 4)"
   ]
  },
  {
   "cell_type": "code",
   "execution_count": 89,
   "metadata": {
    "collapsed": true
   },
   "outputs": [],
   "source": [
    "def my_cv(model, df):\n",
    "    y = np.array(df.ix[:,-1], dtype=np.int32)\n",
    "    X = np.array(df.ix[:,:-1])\n",
    "    res = []\n",
    "    skf = StratifiedKFold(n_splits=3, random_state=23)\n",
    "    for train_index, test_index in skf.split(X, y):\n",
    "        X_test, y_test = X[test_index], y[test_index]\n",
    "        X_train, y_train = X[train_index], y[train_index]\n",
    "        model.fit(X_train, y_train)\n",
    "        pred = model.predict(X_test)\n",
    "        if len(set(pred)) == 1:\n",
    "            print(\"ITS FAIL!\")\n",
    "            return\n",
    "        score = f1_score(y_test, pred)\n",
    "        print(score)\n",
    "        res.append(score)\n",
    "    print(\"MEAN:\", np.mean(res))\n",
    "    print(\"=\"*20)\n",
    "    return np.mean(res)"
   ]
  },
  {
   "cell_type": "markdown",
   "metadata": {},
   "source": [
    "## Experiments for different kmer length"
   ]
  },
  {
   "cell_type": "code",
   "execution_count": 100,
   "metadata": {},
   "outputs": [
    {
     "name": "stdout",
     "output_type": "stream",
     "text": [
      "3\n",
      "0.603651987111\n",
      "0.669505055881\n",
      "0.732267732268\n",
      "MEAN: 0.668474925086\n",
      "====================\n",
      "4\n",
      "0.629750271444\n",
      "0.708224201152\n",
      "0.762855716425\n",
      "MEAN: 0.700276729674\n",
      "====================\n",
      "5\n",
      "0.650459211237\n",
      "0.737773152966\n",
      "0.784684236698\n",
      "MEAN: 0.724305533634\n",
      "====================\n",
      "6\n",
      "0.673393520977\n",
      "0.75\n",
      "0.8\n",
      "MEAN: 0.741131173659\n",
      "====================\n",
      "7\n",
      "0.68680445151\n",
      "0.760824742268\n",
      "0.796668299853\n",
      "MEAN: 0.748099164544\n",
      "====================\n",
      "8\n",
      "0.690237467018\n",
      "0.770015298317\n",
      "0.801753531417\n",
      "MEAN: 0.754002098918\n",
      "====================\n"
     ]
    }
   ],
   "source": [
    "df_dict = {}\n",
    "scores = []\n",
    "for k in range(3, 9):\n",
    "    print(k)\n",
    "    df_tmp = make_df_from_dic([noncode,code], num_for_class = 3000, kmer=k)\n",
    "    df_dict[k] = df_tmp\n",
    "    res = my_cv(lr, df_tmp)\n",
    "    scores.append(res)"
   ]
  },
  {
   "cell_type": "code",
   "execution_count": 99,
   "metadata": {},
   "outputs": [
    {
     "data": {
      "text/plain": [
       "<matplotlib.text.Text at 0x7f204074c4a8>"
      ]
     },
     "execution_count": 99,
     "metadata": {},
     "output_type": "execute_result"
    },
    {
     "data": {
      "image/png": "[encoded data removed]",
      "text/plain": [
       "<matplotlib.figure.Figure at 0x7f2040ed02e8>"
      ]
     },
     "metadata": {},
     "output_type": "display_data"
    }
   ],
   "source": [
    "plt.plot(range(3,9),scores)\n",
    "plt.title(\"f1 from k dependency\")\n",
    "plt.xlabel(\"kmer length,\\nk\")\n",
    "plt.ylabel(\"f1_score\")"
   ]
  },
  {
   "cell_type": "code",
   "execution_count": 11,
   "metadata": {},
   "outputs": [
    {
     "name": "stderr",
     "output_type": "stream",
     "text": [
      "/home/fogside/virtualenv/py3/lib/python3.4/site-packages/sklearn/cross_validation.py:44: DeprecationWarning: This module was deprecated in version 0.18 in favor of the model_selection module into which all the refactored classes and functions are moved. Also note that the interface of the new CV iterators are different from that of this module. This module will be removed in 0.20.\n",
      "  \"This module will be removed in 0.20.\", DeprecationWarning)\n"
     ]
    }
   ],
   "source": [
    "from xgboost import XGBClassifier"
   ]
  },
  {
   "cell_type": "code",
   "execution_count": 12,
   "metadata": {},
   "outputs": [],
   "source": [
    "xgb = XGBClassifier()"
   ]
  },
  {
   "cell_type": "code",
   "execution_count": 104,
   "metadata": {},
   "outputs": [
    {
     "name": "stdout",
     "output_type": "stream",
     "text": [
      "0.819498069498\n",
      "0.814814814815\n",
      "0.80259222333\n",
      "MEAN: 0.812301702548\n",
      "====================\n"
     ]
    },
    {
     "data": {
      "text/plain": [
       "0.81230170254763134"
      ]
     },
     "execution_count": 104,
     "metadata": {},
     "output_type": "execute_result"
    }
   ],
   "source": [
    "my_cv(xgb, df_dict[8])"
   ]
  },
  {
   "cell_type": "code",
   "execution_count": 105,
   "metadata": {},
   "outputs": [
    {
     "name": "stdout",
     "output_type": "stream",
     "text": [
      "3\n",
      "0.800779347297\n",
      "0.787695410993\n",
      "0.785819793205\n",
      "MEAN: 0.791431517165\n",
      "====================\n",
      "4\n",
      "0.800783162017\n",
      "0.807770961145\n",
      "0.787878787879\n",
      "MEAN: 0.798810970347\n",
      "====================\n",
      "5\n",
      "0.808468734613\n",
      "0.810672139559\n",
      "0.80059970015\n",
      "MEAN: 0.806580191441\n",
      "====================\n",
      "6\n",
      "0.821971554684\n",
      "0.814701378254\n",
      "0.793189784677\n",
      "MEAN: 0.809954239205\n",
      "====================\n",
      "7\n",
      "0.821463414634\n",
      "0.805970149254\n",
      "0.795386158475\n",
      "MEAN: 0.807606574121\n",
      "====================\n",
      "8\n",
      "0.819498069498\n",
      "0.814814814815\n",
      "0.80259222333\n",
      "MEAN: 0.812301702548\n",
      "====================\n"
     ]
    },
    {
     "data": {
      "text/plain": [
       "<matplotlib.text.Text at 0x7f2040ce8e80>"
      ]
     },
     "execution_count": 105,
     "metadata": {},
     "output_type": "execute_result"
    },
    {
     "data": {
      "image/png": "[encoded data removed]",
      "text/plain": [
       "<matplotlib.figure.Figure at 0x7f2040742b70>"
      ]
     },
     "metadata": {},
     "output_type": "display_data"
    }
   ],
   "source": [
    "df_dict = {}\n",
    "scores = []\n",
    "for k in range(3, 9):\n",
    "    print(k)\n",
    "    df_tmp = make_df_from_dic([noncode,code], num_for_class = 3000, kmer=k)\n",
    "    df_dict[k] = df_tmp\n",
    "    res = my_cv(xgb, df_tmp)\n",
    "    scores.append(res)\n",
    "plt.plot(range(3,9),scores)\n",
    "plt.title(\"f1 from k dependency\\n XGB\")\n",
    "plt.xlabel(\"kmer length,\\nk\")\n",
    "plt.ylabel(\"f1_score\")"
   ]
  },
  {
   "cell_type": "markdown",
   "metadata": {
    "collapsed": true
   },
   "source": [
    "# test on TEST"
   ]
  },
  {
   "cell_type": "code",
   "execution_count": 81,
   "metadata": {},
   "outputs": [
    {
     "name": "stderr",
     "output_type": "stream",
     "text": [
      "  1%|          | 24/3000 [00:00<00:12, 236.28it/s]"
     ]
    },
    {
     "name": "stdout",
     "output_type": "stream",
     "text": [
      "type:  0\n"
     ]
    },
    {
     "name": "stderr",
     "output_type": "stream",
     "text": [
      "100%|██████████| 3000/3000 [00:07<00:00, 414.39it/s]\n",
      "  1%|          | 23/3000 [00:00<00:13, 218.42it/s]"
     ]
    },
    {
     "name": "stdout",
     "output_type": "stream",
     "text": [
      "type:  1\n"
     ]
    },
    {
     "name": "stderr",
     "output_type": "stream",
     "text": [
      "100%|██████████| 3000/3000 [00:13<00:00, 217.44it/s]\n"
     ]
    }
   ],
   "source": [
    "df_test_human = make_df_from_dic([test_noncode, test_code], kmer=8, num_for_class=3000)"
   ]
  },
  {
   "cell_type": "code",
   "execution_count": 83,
   "metadata": {},
   "outputs": [
    {
     "data": {
      "text/html": [
       "<div>\n",
       "<table border=\"1\" class=\"dataframe\">\n",
       "  <thead>\n",
       "    <tr style=\"text-align: right;\">\n",
       "      <th></th>\n",
       "      <th>0</th>\n",
       "      <th>1</th>\n",
       "      <th>10</th>\n",
       "      <th>11</th>\n",
       "      <th>12</th>\n",
       "      <th>13</th>\n",
       "      <th>14</th>\n",
       "      <th>15</th>\n",
       "      <th>16</th>\n",
       "      <th>17</th>\n",
       "      <th>...</th>\n",
       "      <th>91</th>\n",
       "      <th>92</th>\n",
       "      <th>93</th>\n",
       "      <th>94</th>\n",
       "      <th>95</th>\n",
       "      <th>96</th>\n",
       "      <th>97</th>\n",
       "      <th>98</th>\n",
       "      <th>99</th>\n",
       "      <th>TYPE</th>\n",
       "    </tr>\n",
       "  </thead>\n",
       "  <tbody>\n",
       "    <tr>\n",
       "      <th>ENST00000000412.3</th>\n",
       "      <td>-0.020780</td>\n",
       "      <td>0.266829</td>\n",
       "      <td>0.028400</td>\n",
       "      <td>0.047240</td>\n",
       "      <td>0.019998</td>\n",
       "      <td>0.050590</td>\n",
       "      <td>-0.056026</td>\n",
       "      <td>0.153826</td>\n",
       "      <td>-0.069123</td>\n",
       "      <td>-0.027942</td>\n",
       "      <td>...</td>\n",
       "      <td>0.023470</td>\n",
       "      <td>-0.194917</td>\n",
       "      <td>-0.204174</td>\n",
       "      <td>0.181589</td>\n",
       "      <td>-0.047986</td>\n",
       "      <td>-0.058019</td>\n",
       "      <td>-0.124078</td>\n",
       "      <td>-0.127703</td>\n",
       "      <td>-0.041864</td>\n",
       "      <td>1.0</td>\n",
       "    </tr>\n",
       "    <tr>\n",
       "      <th>ENST00000002501.6</th>\n",
       "      <td>0.006974</td>\n",
       "      <td>0.291226</td>\n",
       "      <td>-0.066695</td>\n",
       "      <td>0.107407</td>\n",
       "      <td>0.123877</td>\n",
       "      <td>0.175659</td>\n",
       "      <td>-0.215934</td>\n",
       "      <td>0.108930</td>\n",
       "      <td>-0.052624</td>\n",
       "      <td>-0.066919</td>\n",
       "      <td>...</td>\n",
       "      <td>0.104955</td>\n",
       "      <td>-0.200699</td>\n",
       "      <td>-0.306164</td>\n",
       "      <td>0.293668</td>\n",
       "      <td>-0.069772</td>\n",
       "      <td>0.100253</td>\n",
       "      <td>-0.082885</td>\n",
       "      <td>-0.123530</td>\n",
       "      <td>-0.072631</td>\n",
       "      <td>1.0</td>\n",
       "    </tr>\n",
       "    <tr>\n",
       "      <th>ENST00000005178.5</th>\n",
       "      <td>-0.055988</td>\n",
       "      <td>0.290624</td>\n",
       "      <td>0.058650</td>\n",
       "      <td>0.074831</td>\n",
       "      <td>-0.001086</td>\n",
       "      <td>0.039430</td>\n",
       "      <td>0.005063</td>\n",
       "      <td>0.128427</td>\n",
       "      <td>-0.028392</td>\n",
       "      <td>-0.011766</td>\n",
       "      <td>...</td>\n",
       "      <td>-0.058732</td>\n",
       "      <td>-0.206171</td>\n",
       "      <td>-0.184977</td>\n",
       "      <td>0.140002</td>\n",
       "      <td>-0.071920</td>\n",
       "      <td>-0.118730</td>\n",
       "      <td>-0.188816</td>\n",
       "      <td>-0.106942</td>\n",
       "      <td>-0.039843</td>\n",
       "      <td>1.0</td>\n",
       "    </tr>\n",
       "    <tr>\n",
       "      <th>ENST00000005374.6</th>\n",
       "      <td>-0.031913</td>\n",
       "      <td>0.295317</td>\n",
       "      <td>0.009682</td>\n",
       "      <td>0.042724</td>\n",
       "      <td>-0.021109</td>\n",
       "      <td>0.060888</td>\n",
       "      <td>-0.009953</td>\n",
       "      <td>0.160893</td>\n",
       "      <td>-0.057528</td>\n",
       "      <td>-0.069271</td>\n",
       "      <td>...</td>\n",
       "      <td>-0.049047</td>\n",
       "      <td>-0.219174</td>\n",
       "      <td>-0.187463</td>\n",
       "      <td>0.176764</td>\n",
       "      <td>-0.061204</td>\n",
       "      <td>-0.150797</td>\n",
       "      <td>-0.163936</td>\n",
       "      <td>-0.059616</td>\n",
       "      <td>-0.073246</td>\n",
       "      <td>1.0</td>\n",
       "    </tr>\n",
       "    <tr>\n",
       "      <th>ENST00000042381.4</th>\n",
       "      <td>-0.005640</td>\n",
       "      <td>0.270949</td>\n",
       "      <td>-0.074681</td>\n",
       "      <td>0.128724</td>\n",
       "      <td>0.115967</td>\n",
       "      <td>0.129678</td>\n",
       "      <td>-0.166883</td>\n",
       "      <td>0.168572</td>\n",
       "      <td>-0.048348</td>\n",
       "      <td>-0.061452</td>\n",
       "      <td>...</td>\n",
       "      <td>0.084178</td>\n",
       "      <td>-0.216177</td>\n",
       "      <td>-0.286693</td>\n",
       "      <td>0.283724</td>\n",
       "      <td>-0.068113</td>\n",
       "      <td>0.077244</td>\n",
       "      <td>-0.092749</td>\n",
       "      <td>-0.169412</td>\n",
       "      <td>-0.017378</td>\n",
       "      <td>1.0</td>\n",
       "    </tr>\n",
       "  </tbody>\n",
       "</table>\n",
       "<p>5 rows × 101 columns</p>\n",
       "</div>"
      ],
      "text/plain": [
       "                          0         1        10        11        12        13  \\\n",
       "ENST00000000412.3 -0.020780  0.266829  0.028400  0.047240  0.019998  0.050590   \n",
       "ENST00000002501.6  0.006974  0.291226 -0.066695  0.107407  0.123877  0.175659   \n",
       "ENST00000005178.5 -0.055988  0.290624  0.058650  0.074831 -0.001086  0.039430   \n",
       "ENST00000005374.6 -0.031913  0.295317  0.009682  0.042724 -0.021109  0.060888   \n",
       "ENST00000042381.4 -0.005640  0.270949 -0.074681  0.128724  0.115967  0.129678   \n",
       "\n",
       "                         14        15        16        17  ...         91  \\\n",
       "ENST00000000412.3 -0.056026  0.153826 -0.069123 -0.027942  ...   0.023470   \n",
       "ENST00000002501.6 -0.215934  0.108930 -0.052624 -0.066919  ...   0.104955   \n",
       "ENST00000005178.5  0.005063  0.128427 -0.028392 -0.011766  ...  -0.058732   \n",
       "ENST00000005374.6 -0.009953  0.160893 -0.057528 -0.069271  ...  -0.049047   \n",
       "ENST00000042381.4 -0.166883  0.168572 -0.048348 -0.061452  ...   0.084178   \n",
       "\n",
       "                         92        93        94        95        96        97  \\\n",
       "ENST00000000412.3 -0.194917 -0.204174  0.181589 -0.047986 -0.058019 -0.124078   \n",
       "ENST00000002501.6 -0.200699 -0.306164  0.293668 -0.069772  0.100253 -0.082885   \n",
       "ENST00000005178.5 -0.206171 -0.184977  0.140002 -0.071920 -0.118730 -0.188816   \n",
       "ENST00000005374.6 -0.219174 -0.187463  0.176764 -0.061204 -0.150797 -0.163936   \n",
       "ENST00000042381.4 -0.216177 -0.286693  0.283724 -0.068113  0.077244 -0.092749   \n",
       "\n",
       "                         98        99  TYPE  \n",
       "ENST00000000412.3 -0.127703 -0.041864   1.0  \n",
       "ENST00000002501.6 -0.123530 -0.072631   1.0  \n",
       "ENST00000005178.5 -0.106942 -0.039843   1.0  \n",
       "ENST00000005374.6 -0.059616 -0.073246   1.0  \n",
       "ENST00000042381.4 -0.169412 -0.017378   1.0  \n",
       "\n",
       "[5 rows x 101 columns]"
      ]
     },
     "execution_count": 83,
     "metadata": {},
     "output_type": "execute_result"
    }
   ],
   "source": [
    "df_test_human.head()"
   ]
  },
  {
   "cell_type": "code",
   "execution_count": 84,
   "metadata": {},
   "outputs": [
    {
     "data": {
      "text/plain": [
       "XGBClassifier(base_score=0.5, colsample_bylevel=1, colsample_bytree=1,\n",
       "       gamma=0, learning_rate=0.1, max_delta_step=0, max_depth=3,\n",
       "       min_child_weight=1, missing=None, n_estimators=100, nthread=-1,\n",
       "       objective='binary:logistic', reg_alpha=0, reg_lambda=1,\n",
       "       scale_pos_weight=1, seed=0, silent=True, subsample=1)"
      ]
     },
     "execution_count": 84,
     "metadata": {},
     "output_type": "execute_result"
    }
   ],
   "source": [
    "y = np.array(df_8mer.ix[:,-1], dtype=np.int32)\n",
    "X = np.array(df_8mer.ix[:,:-1])\n",
    "xgb.fit(X, y)"
   ]
  },
  {
   "cell_type": "code",
   "execution_count": 85,
   "metadata": {},
   "outputs": [],
   "source": [
    "y_test = np.array(df_test_human.ix[:,-1], dtype=np.int32)\n",
    "X_test = np.array(df_test_human.ix[:,:-1])\n",
    "y_pred = xgb.predict(X_test)"
   ]
  },
  {
   "cell_type": "code",
   "execution_count": 86,
   "metadata": {
    "collapsed": true
   },
   "outputs": [],
   "source": [
    "from sklearn.metrics import f1_score"
   ]
  },
  {
   "cell_type": "code",
   "execution_count": 87,
   "metadata": {},
   "outputs": [
    {
     "data": {
      "text/plain": [
       "0.81741153015451062"
      ]
     },
     "execution_count": 87,
     "metadata": {},
     "output_type": "execute_result"
    }
   ],
   "source": [
    "f1_score(y_test, y_pred)"
   ]
  },
  {
   "cell_type": "markdown",
   "metadata": {
    "collapsed": true
   },
   "source": [
    "# test on mouse"
   ]
  },
  {
   "cell_type": "code",
   "execution_count": 49,
   "metadata": {
    "collapsed": true
   },
   "outputs": [],
   "source": [
    "def test_species(cod_path, non_cod_path):\n",
    "    coding = read_FASTA(cod_path)\n",
    "    noncoding = read_FASTA(non_cod_path)\n",
    "    df_test = make_df_from_dic([noncoding, coding], kmer=8, num_for_class=3000)\n",
    "    \n",
    "    y_test = np.array(df_test.ix[:,-1], dtype=np.int32)\n",
    "    X_test = np.array(df_test.ix[:,:-1])\n",
    "    y_pred = xgb.predict(X_test)\n",
    "    \n",
    "    return f1_score(y_test, y_pred)"
   ]
  },
  {
   "cell_type": "code",
   "execution_count": 25,
   "metadata": {
    "collapsed": true
   },
   "outputs": [],
   "source": [
    "mouse_coding = read_FASTA(\"../../data/another_data/gencode_mouse/gencode.vM12.pc_transcripts.fa\")\n",
    "mouse_noncoding = read_FASTA(\"../../data/another_data/noncode_mouse/NONCODE2016_mouse.fa\")"
   ]
  },
  {
   "cell_type": "code",
   "execution_count": 26,
   "metadata": {
    "collapsed": true
   },
   "outputs": [],
   "source": [
    "df_test_mouse = make_df_from_dic([mouse_noncoding, mouse_coding], kmer=8, num_for_class=3000)"
   ]
  },
  {
   "cell_type": "code",
   "execution_count": 27,
   "metadata": {},
   "outputs": [
    {
     "data": {
      "text/plain": [
       "0.80877526343064432"
      ]
     },
     "execution_count": 27,
     "metadata": {},
     "output_type": "execute_result"
    }
   ],
   "source": [
    "y_test_m = np.array(df_test_mouse.ix[:,-1], dtype=np.int32)\n",
    "X_test_m = np.array(df_test_mouse.ix[:,:-1])\n",
    "y_pred_m = xgb.predict(X_test_m)\n",
    "f1_score(y_test_m, y_pred_m)"
   ]
  },
  {
   "cell_type": "markdown",
   "metadata": {},
   "source": [
    "# test on Drosophila"
   ]
  },
  {
   "cell_type": "code",
   "execution_count": 28,
   "metadata": {},
   "outputs": [
    {
     "data": {
      "text/plain": [
       "0.79093745760412437"
      ]
     },
     "execution_count": 28,
     "metadata": {},
     "output_type": "execute_result"
    }
   ],
   "source": [
    "cod_p = \"../../data/another_data/Drosophila/Drosophila_melanogaster.BDGP6.cds.all.fa\"\n",
    "ncod_p = \"../../data/another_data/Drosophila/Drosophila_melanogaster.BDGP6.ncrna.fa\"\n",
    "test_species(cod_p, ncod_p)"
   ]
  },
  {
   "cell_type": "markdown",
   "metadata": {},
   "source": [
    "# test on Zebrafish"
   ]
  },
  {
   "cell_type": "code",
   "execution_count": 88,
   "metadata": {},
   "outputs": [
    {
     "name": "stderr",
     "output_type": "stream",
     "text": [
      "  2%|▏         | 62/3000 [00:00<00:04, 601.82it/s]"
     ]
    },
    {
     "name": "stdout",
     "output_type": "stream",
     "text": [
      "type:  0\n"
     ]
    },
    {
     "name": "stderr",
     "output_type": "stream",
     "text": [
      "100%|██████████| 3000/3000 [00:04<00:00, 724.96it/s]\n",
      "  1%|          | 31/3000 [00:00<00:09, 297.04it/s]"
     ]
    },
    {
     "name": "stdout",
     "output_type": "stream",
     "text": [
      "type:  1\n"
     ]
    },
    {
     "name": "stderr",
     "output_type": "stream",
     "text": [
      "100%|██████████| 3000/3000 [00:10<00:00, 293.80it/s]\n"
     ]
    },
    {
     "data": {
      "text/plain": [
       "0.76194895591647327"
      ]
     },
     "execution_count": 88,
     "metadata": {},
     "output_type": "execute_result"
    }
   ],
   "source": [
    "cod_p = \"../../data/another_data/Danio_rerio/Danio_rerio.GRCz10.cds.all.fa\"\n",
    "ncod_p = \"../../data/another_data/Danio_rerio/Danio_rerio.GRCz10.ncrna.fa\"\n",
    "test_species(cod_p, ncod_p)"
   ]
  },
  {
   "cell_type": "code",
   "execution_count": 106,
   "metadata": {},
   "outputs": [],
   "source": [
    "coding = read_FASTA(cod_p)\n",
    "noncoding = read_FASTA(ncod_p)"
   ]
  },
  {
   "cell_type": "markdown",
   "metadata": {
    "collapsed": true
   },
   "source": [
    "# test for long/short accuracy"
   ]
  },
  {
   "cell_type": "code",
   "execution_count": null,
   "metadata": {
    "collapsed": true
   },
   "outputs": [],
   "source": []
  },
  {
   "cell_type": "code",
   "execution_count": null,
   "metadata": {
    "collapsed": true
   },
   "outputs": [],
   "source": []
  },
  {
   "cell_type": "code",
   "execution_count": null,
   "metadata": {
    "collapsed": true
   },
   "outputs": [],
   "source": []
  },
  {
   "cell_type": "code",
   "execution_count": null,
   "metadata": {
    "collapsed": true
   },
   "outputs": [],
   "source": []
  },
  {
   "cell_type": "code",
   "execution_count": null,
   "metadata": {
    "collapsed": true
   },
   "outputs": [],
   "source": []
  },
  {
   "cell_type": "code",
   "execution_count": null,
   "metadata": {
    "collapsed": true
   },
   "outputs": [],
   "source": []
  },
  {
   "cell_type": "markdown",
   "metadata": {
    "collapsed": true
   },
   "source": [
    "# short, human"
   ]
  },
  {
   "cell_type": "code",
   "execution_count": null,
   "metadata": {
    "collapsed": true
   },
   "outputs": [],
   "source": []
  },
  {
   "cell_type": "code",
   "execution_count": null,
   "metadata": {
    "collapsed": true
   },
   "outputs": [],
   "source": []
  },
  {
   "cell_type": "code",
   "execution_count": null,
   "metadata": {
    "collapsed": true
   },
   "outputs": [],
   "source": []
  },
  {
   "cell_type": "code",
   "execution_count": null,
   "metadata": {
    "collapsed": true
   },
   "outputs": [],
   "source": []
  },
  {
   "cell_type": "code",
   "execution_count": null,
   "metadata": {
    "collapsed": true
   },
   "outputs": [],
   "source": []
  },
  {
   "cell_type": "markdown",
   "metadata": {
    "collapsed": true
   },
   "source": [
    "## test lnciPedia 4.0"
   ]
  },
  {
   "cell_type": "code",
   "execution_count": 14,
   "metadata": {},
   "outputs": [],
   "source": [
    "spec = pd.read_excel(\"/home/fogside/lncRNA/data/Spectrum.xlsx\")"
   ]
  },
  {
   "cell_type": "code",
   "execution_count": 15,
   "metadata": {},
   "outputs": [
    {
     "data": {
      "text/html": [
       "<div>\n",
       "<table border=\"1\" class=\"dataframe\">\n",
       "  <thead>\n",
       "    <tr style=\"text-align: right;\">\n",
       "      <th></th>\n",
       "      <th>SpecName</th>\n",
       "      <th>Seq</th>\n",
       "      <th>RT</th>\n",
       "      <th>HI</th>\n",
       "      <th>MS</th>\n",
       "      <th>Prot</th>\n",
       "    </tr>\n",
       "  </thead>\n",
       "  <tbody>\n",
       "    <tr>\n",
       "      <th>0</th>\n",
       "      <td>Locus:2.1.1.1296.9 File:120921_serumPool_wcx_h...</td>\n",
       "      <td>GCSELHSTLDN</td>\n",
       "      <td>1,784.00</td>\n",
       "      <td>15.48445</td>\n",
       "      <td>Ctrl_001_MGFPeaklist</td>\n",
       "      <td>lnc-RP11-150O12.3.1-3:1_(+2)</td>\n",
       "    </tr>\n",
       "    <tr>\n",
       "      <th>1</th>\n",
       "      <td>Locus:1.1.1.2593.5 File:120921_serumPool_wcx_h...</td>\n",
       "      <td>AEFSALEEESGLOKPE</td>\n",
       "      <td>5,838.00</td>\n",
       "      <td>27.82945</td>\n",
       "      <td>Ctrl_001_MGFPeaklist</td>\n",
       "      <td>lnc-MPP2-1:2_(+1)</td>\n",
       "    </tr>\n",
       "    <tr>\n",
       "      <th>2</th>\n",
       "      <td>Locus:1.1.1.2588.7 File:120921_serumPool_wcx_h...</td>\n",
       "      <td>AEFSALEEESGLOKPE</td>\n",
       "      <td>5,822.00</td>\n",
       "      <td>27.82945</td>\n",
       "      <td>Ctrl_001_MGFPeaklist</td>\n",
       "      <td>lnc-MPP2-1:2_(+1)</td>\n",
       "    </tr>\n",
       "    <tr>\n",
       "      <th>3</th>\n",
       "      <td>Locus:3.1.1.767.14 File:120921_serumPool_wcx_h...</td>\n",
       "      <td>SALEEESGLOKPE</td>\n",
       "      <td>695</td>\n",
       "      <td>17.07045</td>\n",
       "      <td>Ctrl_001_MGFPeaklist</td>\n",
       "      <td>lnc-MPP2-1:2_(+1)</td>\n",
       "    </tr>\n",
       "    <tr>\n",
       "      <th>4</th>\n",
       "      <td>Locus:1.1.1.1590.2 File:120921_serumPool_wcx_h...</td>\n",
       "      <td>SALEEESGLOKPE</td>\n",
       "      <td>2,630.00</td>\n",
       "      <td>17.07045</td>\n",
       "      <td>Ctrl_001_MGFPeaklist</td>\n",
       "      <td>lnc-MPP2-1:2_(+1)</td>\n",
       "    </tr>\n",
       "  </tbody>\n",
       "</table>\n",
       "</div>"
      ],
      "text/plain": [
       "                                            SpecName               Seq  \\\n",
       "0  Locus:2.1.1.1296.9 File:120921_serumPool_wcx_h...       GCSELHSTLDN   \n",
       "1  Locus:1.1.1.2593.5 File:120921_serumPool_wcx_h...  AEFSALEEESGLOKPE   \n",
       "2  Locus:1.1.1.2588.7 File:120921_serumPool_wcx_h...  AEFSALEEESGLOKPE   \n",
       "3  Locus:3.1.1.767.14 File:120921_serumPool_wcx_h...     SALEEESGLOKPE   \n",
       "4  Locus:1.1.1.1590.2 File:120921_serumPool_wcx_h...     SALEEESGLOKPE   \n",
       "\n",
       "         RT        HI                    MS                          Prot  \n",
       "0  1,784.00  15.48445  Ctrl_001_MGFPeaklist  lnc-RP11-150O12.3.1-3:1_(+2)  \n",
       "1  5,838.00  27.82945  Ctrl_001_MGFPeaklist             lnc-MPP2-1:2_(+1)  \n",
       "2  5,822.00  27.82945  Ctrl_001_MGFPeaklist             lnc-MPP2-1:2_(+1)  \n",
       "3       695  17.07045  Ctrl_001_MGFPeaklist             lnc-MPP2-1:2_(+1)  \n",
       "4  2,630.00  17.07045  Ctrl_001_MGFPeaklist             lnc-MPP2-1:2_(+1)  "
      ]
     },
     "execution_count": 15,
     "metadata": {},
     "output_type": "execute_result"
    }
   ],
   "source": [
    "spec.head()"
   ]
  },
  {
   "cell_type": "code",
   "execution_count": 16,
   "metadata": {
    "collapsed": true
   },
   "outputs": [],
   "source": [
    "from collections import Counter"
   ]
  },
  {
   "cell_type": "code",
   "execution_count": 17,
   "metadata": {},
   "outputs": [],
   "source": [
    "hit_spec_dic = Counter(spec['Prot'])"
   ]
  },
  {
   "cell_type": "code",
   "execution_count": 18,
   "metadata": {
    "collapsed": true
   },
   "outputs": [
    {
     "data": {
      "text/plain": [
       "[('lnc-MAPK15-2:1_(+2)', 148),\n",
       " ('lnc-NKD1-3:1_(+1)', 106),\n",
       " ('lnc-CEP152-1:1_(+3)', 106),\n",
       " ('lnc-ZNF584-1:1_(+1)', 86),\n",
       " ('lnc-TRAT1-2:7_(+1)', 66),\n",
       " ('lnc-SRPRB-4:1_(+2)', 50),\n",
       " ('lnc-NXPH2-3:3_(+1)', 50),\n",
       " ('lnc-C1orf216-1:1_(+3)', 49),\n",
       " ('lnc-DHRS2-3:1_(+1)', 46),\n",
       " ('lnc-RP3-377D14.1.1-3:19_(+3)', 45),\n",
       " ('lnc-ZNF519-1:9_(+3)', 39),\n",
       " ('lnc-CPEB2-13:1_(+2)', 38),\n",
       " ('lnc-ALKBH4-1:1_(+3)', 31),\n",
       " ('lnc-SLC22A23-6:1_(+3)', 28),\n",
       " ('lnc-SRSF2-1:1_(+2)', 26),\n",
       " ('lnc-SNX20-4:1_(+3)', 25),\n",
       " ('lnc-ATP5I-1:6_(+1),lnc-ATP5I-1:7_(+3)', 22),\n",
       " ('lnc-NKAIN3-1:1_(+3)', 21),\n",
       " ('lnc-ELP3-1:1_(+2)', 21),\n",
       " ('lnc-C12orf10-1:5_(+1)', 21),\n",
       " ('lnc-AGPAT6-3:1_(+1)', 20),\n",
       " ('lnc-RARS-5:1_(+3)', 18),\n",
       " ('lnc-ATP1A3-1:1_(+2)', 17),\n",
       " ('lnc-AZIN1-1:4_(+3)', 17),\n",
       " ('DNAJB8-AS1:7_(+2)', 17),\n",
       " ('lnc-MPP2-1:2_(+1)', 16),\n",
       " ('lnc-NUP214-3:1_(+2)', 16),\n",
       " ('LINC01015:2_(+1),LINC01015:4_(+2)', 15),\n",
       " ('lnc-GMDS-19:1_(+1)', 15),\n",
       " ('lnc-LSMD1-2:2_(+2)', 15),\n",
       " ('lnc-SERPINI1-11:1_(+3)', 15),\n",
       " ('lnc-PTGDR-2:2_(+3)', 15),\n",
       " ('lnc-NDUFAF2-3:1_(+3)', 14),\n",
       " ('lnc-RP11-1277H1.1.1-4:1_(+2)', 14),\n",
       " ('lnc-LL22NC03-63E9.3.1-10:1_(+1)', 14),\n",
       " ('lnc-AC004223.1-1:1_(+3)', 14),\n",
       " ('lnc-CDYL-2:2_(+3)', 14),\n",
       " ('lnc-RP3-377D14.1.1-7:14_(+3)', 13),\n",
       " ('lnc-GPR31-1:2_(+2)', 13),\n",
       " ('lnc-FAM212B-3:1_(+2)', 13),\n",
       " ('lnc-FZD10-6:1_(+1)', 13),\n",
       " ('lnc-ANGPTL1-5:1_(+3)', 13),\n",
       " ('lnc-NOS1-2:1_(+2)', 13),\n",
       " ('lnc-CDC40-5:1_(+1)', 12),\n",
       " ('lnc-MAN1C1-1:1_(+2)', 12),\n",
       " ('lnc-RP11-50B3.2.1-1:2_(+3)', 12),\n",
       " ('lnc-ERP44-3:6_(+3),lnc-ERP44-3:7_(+1)', 12),\n",
       " ('lnc-GS1-211B7.1.1-3:1_(+1)', 12),\n",
       " ('lnc-C19orf44-1:1_(+3)', 11),\n",
       " ('lnc-AC127496.1-1:1_(+2)', 11),\n",
       " ('PAX8-AS1:23_(+1),PAX8-AS1:24_(+1)', 11),\n",
       " ('lnc-ANKRD36-12:1_(+3),lnc-FAHD2B-4:1_(+3)', 11),\n",
       " ('LINC01517:10_(+2),LINC01517:16_(+1),LINC01517:6_(+2)', 11),\n",
       " ('lnc-GNAQ-3:6_(+3)', 11),\n",
       " ('lnc-FOXQ1-11:1_(+1)', 11),\n",
       " ('lnc-RPF2-1:1_(+2)', 11),\n",
       " ('lnc-LINC00273-2:1_(+3)', 11),\n",
       " ('ENO1-IT1:1_(+2)', 11),\n",
       " ('LINC01020:2_(+1),LINC01020:4_(+1)', 11),\n",
       " ('lnc-PDK2-3:1_(+1)', 11),\n",
       " ('lnc-HDAC4-1:1_(+2)', 10),\n",
       " ('lnc-SPINT2-5:1_(+3)', 10),\n",
       " ('lnc-C22orf34-1:3_(+2)', 10),\n",
       " ('lnc-ANGPTL2-6:1_(+1),lnc-ANGPTL2-6:2_(+2)', 10),\n",
       " ('lnc-C16orf58-8:1_(+3)', 10),\n",
       " ('lnc-LRRTM4-3:2_(+1)', 9),\n",
       " ('lnc-EIF2D-1:2_(+2)', 9),\n",
       " ('lnc-ZNF841-1:1_(+1),lnc-ZNF841-1:2_(+1)', 9),\n",
       " ('LINC00578:5_(+2)', 9),\n",
       " ('LINC00384:1_(+2)', 9),\n",
       " ('lnc-SIK2-2:1_(+1)', 9),\n",
       " ('lnc-RP11-422N16.3.1-5:1_(+1)', 9),\n",
       " ('lnc-GLT6D1-3:1_(+3)', 9),\n",
       " ('lnc-CHRAC1-1:1_(+1)', 8),\n",
       " ('lnc-SLC35F3-1:1_(+1)', 8),\n",
       " ('lnc-LRCH1-10:1_(+2)', 8),\n",
       " ('lnc-SPATA19-7:1_(+2)', 8),\n",
       " ('lnc-SPATA21-1:1_(+2)', 8),\n",
       " ('lnc-TMPRSS15-19:2_(+1),lnc-TMPRSS15-19:3_(+1),lnc-TMPRSS15-19:6_(+1)', 8),\n",
       " ('lnc-SUMO4-5:1_(+3)', 8),\n",
       " ('lnc-GLIPR1-5:1_(+3)', 8),\n",
       " ('LINC00173:6_(+1),LINC00173:9_(+2)', 8),\n",
       " ('lnc-SH3YL1-1:11_(+2)', 8),\n",
       " ('lnc-RAB27B-11:4_(+2)', 8),\n",
       " ('lnc-TRIM26-2:11_(+1)', 8),\n",
       " ('lnc-HRASLS5-3:1_(+3)', 7),\n",
       " ('lnc-RP11-796G6.2.1-4:8_(+1)', 7),\n",
       " ('lnc-FPR2-1:7_(+2)', 7),\n",
       " ('DLEU2:26_(+3)', 7),\n",
       " ('lnc-CTSL2-2:8_(+3)', 7),\n",
       " ('lnc-GAB4-4:1_(+2)', 7),\n",
       " ('TLX1NB:2_(+3)', 7),\n",
       " ('lnc-MAX-9:1_(+1)', 7),\n",
       " ('LINC00941:4_(+3)', 7),\n",
       " ('LINC00589:3_(+1)', 7),\n",
       " ('lnc-DAAM2-5:1_(+1)', 7),\n",
       " ('FAM66C:13_(+2)', 7),\n",
       " ('lnc-METTL14-3:9_(+1)', 7),\n",
       " ('KCNQ1OT1:2_(+3),KCNQ1OT1:5_(+2)', 7),\n",
       " ('lnc-LSM6-1:3_(+2)', 7),\n",
       " ('lnc-PLEKHA5-1:2_(+1)', 7),\n",
       " ('lnc-ALPL-1:1_(+3)', 7),\n",
       " ('lnc-GINS1-2:2_(+2)', 7),\n",
       " ('LINC00649:23_(+3)', 7),\n",
       " ('lnc-SLCO1C1-1:2_(+3)', 7),\n",
       " ('lnc-MYOCD-1:1_(+1)', 7),\n",
       " ('KCNQ1OT1:2_(+2),KCNQ1OT1:5_(+1)', 7),\n",
       " ('lnc-TAT-1:1_(+2)', 7),\n",
       " ('lnc-SFTPC-1:1_(+3)', 7),\n",
       " ('lnc-FAM101A-1:1_(+2),lnc-FAM101A-1:3_(+2),lnc-FAM101A-1:4_(+2)', 7),\n",
       " ('lnc-KLHL36-2:1_(+3)', 6),\n",
       " ('lnc-BLID-8:1_(+2)', 6),\n",
       " ('SUCLG2-AS1:5_(+3)', 6),\n",
       " ('lnc-LIPH-2:1_(+3),lnc-LIPH-2:2_(+3),lnc-LIPH-2:3_(+3)', 6),\n",
       " ('lnc-TMEM110-MUSTN1-3:2_(+2)', 6),\n",
       " ('lnc-HOOK1-6:1_(+3)', 6),\n",
       " ('lnc-ARHGAP11B-1:6_(+1)', 6),\n",
       " ('lnc-SPTB-1:1_(+2)', 6),\n",
       " ('lnc-THTPA-2:3_(+1)', 6),\n",
       " ('lnc-CYP4F22-3:2_(+3),lnc-CYP4F22-3:3_(+3)', 6),\n",
       " ('lnc-KCNJ15-1:1_(+2)', 6),\n",
       " ('lnc-C5orf64-1:6_(+2)', 6),\n",
       " ('MFI2-AS1:13_(+3)', 6),\n",
       " ('lnc-EDC3-5:1_(+1)', 6),\n",
       " ('CASC20:1_(+2),CASC20:2_(+1)', 6),\n",
       " ('lnc-F13A1-2:1_(+3)', 6),\n",
       " ('lnc-MYC-1:1_(+2)', 6),\n",
       " ('lnc-OR6S1-1:1_(+2)', 5),\n",
       " ('lnc-HMOX1-1:1_(+1)', 5),\n",
       " ('lnc-MESDC2-4:1_(+3)', 5),\n",
       " ('lnc-POTEM-9:1_(+1),lnc-POTEM-9:2_(+1)', 5),\n",
       " ('lnc-MEP1A-4:1_(+3)', 5),\n",
       " ('lnc-ETFDH-2:1_(+3)', 5),\n",
       " ('lnc-FAM76B-4:1_(+2)', 5),\n",
       " ('lnc-LRRTM1-2:8_(+2)', 5),\n",
       " ('lnc-CHD2-4:2_(+3)', 5),\n",
       " ('lnc-LRRC61-3:2_(+3)', 5),\n",
       " ('lnc-EPHA7-7:1_(+2)', 5),\n",
       " ('lnc-DUSP1-2:2_(+2)', 5),\n",
       " ('lnc-GYPA-3:1_(+2)', 5),\n",
       " ('lnc-RFC3-5:1_(+3)', 5),\n",
       " ('lnc-MYO19-1:7_(+1)', 5),\n",
       " ('lnc-ANKRD20A2-3:1_(+2)', 5),\n",
       " ('lnc-ALPK2-7:1_(+3)', 5),\n",
       " ('lnc-FZD10-8:1_(+3)', 5),\n",
       " ('LINC00607:1_(+3)', 5),\n",
       " ('lnc-RBM15-1:1_(+3)', 5),\n",
       " ('DACT3-AS1:3_(+3)', 5),\n",
       " ('lnc-KIAA0513-6:1_(+3)', 5),\n",
       " ('lnc-MBP-8:1_(+2)', 5),\n",
       " ('lnc-FRMD3-5:1_(+2)', 5),\n",
       " ('lnc-DLEU7-4:1_(+1)', 5),\n",
       " ('lnc-CYR61-2:2_(+1)', 5),\n",
       " ('lnc-PADI4-2:1_(+1)', 5),\n",
       " ('lnc-SFSWAP-1:1_(+2),lnc-SFSWAP-1:3_(+3),lnc-STX2-5:4_(+2),lnc-STX2-5:5_(+2)',\n",
       "  5),\n",
       " ('lnc-MYB-8:1_(+1)', 5),\n",
       " ('lnc-PDCL2-4:1_(+3)', 5),\n",
       " ('lnc-HDDC2-2:3_(+2)', 5),\n",
       " ('lnc-NDUFV2-3:1_(+2)', 5),\n",
       " ('lnc-CPT2-1:1_(+1)', 5),\n",
       " ('lnc-AEBP2-5:1_(+2)', 5),\n",
       " ('lnc-VPS54-3:1_(+1),lnc-VPS54-3:2_(+1)', 5),\n",
       " ('lnc-SLC38A8-2:2_(+2)', 5),\n",
       " ('lnc-RTN4IP1-2:10_(+3)', 5),\n",
       " ('lnc-ASB4-3:6_(+1)', 5),\n",
       " ('lnc-C17orf97-3:2_(+1),lnc-C17orf97-3:7_(+1)', 5),\n",
       " ('lnc-GRIA3-5:1_(+2)', 5),\n",
       " ('lnc-IL34-3:1_(+1)', 4),\n",
       " ('lnc-SYT13-2:1_(+1)', 4),\n",
       " ('lnc-CRTC1-2:1_(+2)', 4),\n",
       " ('GNAS-AS1:10_(+2)', 4),\n",
       " ('lnc-CHAF1B-6:2_(+2)', 4),\n",
       " ('TMEM72-AS1:2_(+1)', 4),\n",
       " ('lnc-CEP44-4:3_(+2)', 4),\n",
       " ('lnc-TOPBP1-6:1_(+2)', 4),\n",
       " ('LINC01215:1_(+3)', 4),\n",
       " ('lnc-TRIM26-2:25_(+2)', 4),\n",
       " ('lnc-MRPS18A-2:6_(+3)', 4),\n",
       " ('lnc-RP11-204N11.1.1-6:1_(+1)', 4),\n",
       " ('lnc-ANKRD65-3:6_(+2)', 4),\n",
       " ('lnc-FAM208B-1:1_(+1)', 4),\n",
       " ('lnc-PAG1-5:1_(+1)', 4),\n",
       " ('lnc-VPS33B-6:1_(+3)', 4),\n",
       " ('lnc-LANCL2-7:1_(+1)', 4),\n",
       " ('lnc-RFPL4B-1:2_(+1)', 4),\n",
       " ('lnc-PCNX-3:1_(+2)', 4),\n",
       " ('lnc-CPSF4-1:1_(+3)', 4),\n",
       " ('lnc-GLB1L2-1:8_(+1)', 4),\n",
       " ('MFI2-AS1:9_(+3)', 4),\n",
       " ('lnc-CDH8-5:1_(+2)', 4),\n",
       " ('lnc-SRPK2-1:9_(+3)', 4),\n",
       " ('lnc-ACYP2-4:1_(+1)', 4),\n",
       " ('lnc-ARF5-15:1_(+1)', 4),\n",
       " ('lnc-ZP4-4:1_(+3)', 4),\n",
       " ('lnc-AC011239.1.1-4:1_(+2)', 4),\n",
       " ('lnc-IPO5-3:1_(+1)', 4),\n",
       " ('lnc-PIEZO2-7:1_(+1)', 4),\n",
       " ('CASC15:22_(+2)', 4),\n",
       " ('lnc-CYP1B1-7:3_(+1),lnc-CYP1B1-7:4_(+3)', 4),\n",
       " ('lnc-CALCOCO2-8:18_(+1),lnc-CALCOCO2-8:21_(+3),lnc-CALCOCO2-8:22_(+3)', 4),\n",
       " ('lnc-GGCT-1:39_(+3)', 4),\n",
       " ('lnc-ZNF85-7:1_(+1)', 4),\n",
       " ('lnc-HNRNPU-5:2_(+2)', 4),\n",
       " ('lnc-QPCT-3:5_(+1)', 4),\n",
       " ('lnc-PRR18-1:4_(+1)', 4),\n",
       " ('SVIL-AS1:12_(+3),SVIL-AS1:13_(+3),SVIL-AS1:7_(+2)', 4),\n",
       " ('lnc-BTG4-2:1_(+3)', 4),\n",
       " ('lnc-C2CD4A-4:1_(+2)', 4),\n",
       " ('lnc-SRPK2-1:5_(+2)', 4),\n",
       " ('lnc-C6orf201-9:1_(+3)', 4),\n",
       " ('lnc-SNURF-1:7_(+2)', 4),\n",
       " ('SRP14-AS1:19_(+2)', 4),\n",
       " ('lnc-APOC1-1:2_(+3)', 4),\n",
       " ('lnc-ZNF567-2:4_(+1)', 4),\n",
       " ('lnc-RFPL4B-1:2_(+3)', 4),\n",
       " ('lnc-C6orf222-2:1_(+1)', 4),\n",
       " ('SCHLAP1:11_(+1)', 4),\n",
       " ('lnc-ZSCAN5C-1:1_(+3)', 4),\n",
       " ('MAFG-AS1:4_(+2)', 4),\n",
       " ('lnc-OR4F16-12:1_(+1)', 4),\n",
       " ('lnc-RHOB-2:1_(+1),lnc-RHOB-2:2_(+3)', 4),\n",
       " ('lnc-ADAM8-3:1_(+2)', 4),\n",
       " ('lnc-TMEM144-6:1_(+2)', 4),\n",
       " ('lnc-ALDH7A1-2:2_(+1),lnc-ALDH7A1-2:3_(+3),lnc-ALDH7A1-2:5_(+3)', 4),\n",
       " ('lnc-KIAA1147-5:2_(+2)', 4),\n",
       " ('lnc-LDB2-2:1_(+3),lnc-LDB2-2:2_(+1),lnc-LDB2-2:3_(+1)', 4),\n",
       " ('lnc-RP11-327F22.5.1-9:1_(+1)', 4),\n",
       " ('lnc-PFDN4-6:1_(+1)', 4),\n",
       " ('lnc-PMM2-6:3_(+2)', 4),\n",
       " ('lnc-RP11-57A19.3.1-1:1_(+1)', 3),\n",
       " ('lnc-GJA10-15:1_(+3)', 3),\n",
       " ('LINC00339:4_(+2)', 3),\n",
       " ('lnc-DYSF-4:1_(+2)', 3),\n",
       " ('lnc-C17orf46-2:6_(+2)', 3),\n",
       " ('lnc-PLCXD2-1:1_(+1)', 3),\n",
       " ('lnc-FAM46A-3:1_(+1),lnc-FAM46A-3:2_(+2)', 3),\n",
       " ('lnc-ABCC11-2:1_(+2)', 3),\n",
       " ('lnc-C6orf125-2:1_(+3)', 3),\n",
       " ('lnc-AGBL1-3:1_(+1)', 3),\n",
       " ('lnc-MYH15-1:1_(+2)', 3),\n",
       " ('lnc-C1orf187-2:1_(+3)', 3),\n",
       " ('lnc-PDCD2L-3:1_(+2)', 3),\n",
       " ('lnc-MMD-5:1_(+1)', 3),\n",
       " ('lnc-MDH1B-1:1_(+3)', 3),\n",
       " ('lnc-AGRN-2:2_(+1),lnc-AGRN-2:4_(+3),lnc-AGRN-2:5_(+1)', 3),\n",
       " ('LINC00298:2_(+3)', 3),\n",
       " ('CARMN:12_(+1),CARMN:5_(+3)', 3),\n",
       " ('lnc-IGFBP7-5:5_(+3)', 3),\n",
       " ('lnc-BCOR-6:1_(+2)', 3),\n",
       " ('lnc-ANKRD18A-5:1_(+2)', 3),\n",
       " ('lnc-FCGR3A-2:1_(+3)', 3),\n",
       " ('lnc-ITGB3BP-13:1_(+3)', 3),\n",
       " ('lnc-HSBP1L1-1:1_(+1)', 3),\n",
       " ('lnc-MYCBP2-2:2_(+1)', 3),\n",
       " ('LINC00930:1_(+2)', 3),\n",
       " ('lnc-ANKRD20A3-5:1_(+2)', 3),\n",
       " ('lnc-SLC39A11-1:24_(+1)', 3),\n",
       " ('lnc-CDK14-1:1_(+2)', 3),\n",
       " ('lnc-ITIH2-2:1_(+1)', 3),\n",
       " ('lnc-PTN-2:1_(+2)', 3),\n",
       " ('lnc-CDH20-3:1_(+2)', 3),\n",
       " ('lnc-ST8SIA5-1:1_(+2)', 3),\n",
       " ('lnc-LIPC-4:1_(+2)', 3),\n",
       " ('lnc-NEURL-2:1_(+3)', 3),\n",
       " ('lnc-C6orf108-1:1_(+2)', 3),\n",
       " ('lnc-TRIM44-2:1_(+2)', 3),\n",
       " ('lnc-AGPAT2-2:4_(+1)', 3),\n",
       " ('lnc-C12orf75-5:1_(+1)', 3),\n",
       " ('lnc-LRRC52-2:1_(+1)', 3),\n",
       " ('lnc-OR2G6-1:1_(+3)', 3),\n",
       " ('LINC00683:3_(+1)', 3),\n",
       " ('lnc-ASXL2-1:1_(+1)', 3),\n",
       " ('lnc-THTPA-2:5_(+1)', 3),\n",
       " ('lnc-AC015804.1-4:1_(+2)', 3),\n",
       " ('lnc-AHSP-2:1_(+1)', 3),\n",
       " ('lnc-GLIPR1L1-1:7_(+3)', 3),\n",
       " ('lnc-AC005594.1-2:1_(+1)', 3),\n",
       " ('lnc-RP11-32K4.2.1-4:1_(+1)', 3),\n",
       " ('GRIK1-AS1:6_(+2)', 3),\n",
       " ('lnc-DLX2-9:1_(+3)', 3),\n",
       " ('lnc-NOP16-1:2_(+2)', 3),\n",
       " ('lnc-ANKRD30A-5:4_(+1)', 3),\n",
       " ('lnc-LYSMD2-2:1_(+2)', 3),\n",
       " ('lnc-RP11-32K4.2.1-2:3_(+3)', 3),\n",
       " ('lnc-UGT2A3-9:1_(+3)', 3),\n",
       " ('lnc-SPACA3-3:4_(+3)', 3),\n",
       " ('lnc-PRMT8-6:2_(+2)', 3),\n",
       " ('lnc-FAM153A-2:2_(+1)', 3),\n",
       " ('lnc-GAB4-1:1_(+2)', 3),\n",
       " ('lnc-AL137798.1-1:2_(+2)', 3),\n",
       " ('lnc-ECE2-3:1_(+2)', 3),\n",
       " ('lnc-C4orf48-2:1_(+1)', 3),\n",
       " ('lnc-AC026150.9.1-2:4_(+2)', 3),\n",
       " ('lnc-MCL1-1:1_(+2)', 3),\n",
       " ('lnc-ADO-2:1_(+1)', 3),\n",
       " ('lnc-WFIKKN2-2:2_(+2)', 3),\n",
       " ('lnc-C8orf58-2:2_(+1)', 3),\n",
       " ('lnc-NEUROD6-7:2_(+3)', 3),\n",
       " ('ZBED5-AS1:12_(+2)', 3),\n",
       " ('lnc-LYZL1-11:1_(+1)', 3),\n",
       " ('lnc-CYLD-1:1_(+1)', 3),\n",
       " ('lnc-SLC25A30-2:2_(+3),lnc-SLC25A30-2:3_(+3)', 3),\n",
       " ('lnc-YLPM1-1:5_(+1)', 3),\n",
       " ('lnc-SCAND1-5:1_(+2)', 3),\n",
       " ('lnc-WNT5B-4:1_(+2)', 3),\n",
       " ('lnc-RABIF-1:1_(+2)', 3),\n",
       " ('LINC-PINT:24_(+3)', 3),\n",
       " ('lnc-SAV1-1:1_(+1)', 3),\n",
       " ('lnc-PRY-6:2_(+3),lnc-PRYP3-1:1_(+3),lnc-PRYP4-1:1_(+3)', 3),\n",
       " ('lnc-C6orf201-21:1_(+3)', 3),\n",
       " ('DANT1:2_(+3)', 3),\n",
       " ('lnc-TLX3-6:1_(+3)', 3),\n",
       " ('LINC00707:1_(+1)', 3),\n",
       " ('lnc-RPL26L1-3:5_(+2)', 3),\n",
       " ('lnc-RARA-1:1_(+2)', 3),\n",
       " ('lnc-COL4A4-2:1_(+2)', 3),\n",
       " ('lnc-SHANK1-2:1_(+2)', 3),\n",
       " ('lnc-MESDC1-2:1_(+1)', 3),\n",
       " ('GAS5:4_(+1)', 3),\n",
       " ('lnc-PRR20A-8:1_(+3)', 2),\n",
       " ('lnc-PRKCH-1:1_(+2)', 2),\n",
       " ('lnc-ADARB2-7:1_(+2)', 2),\n",
       " ('DLX6-AS1:3_(+3)', 2),\n",
       " ('lnc-CEP95-3:1_(+3)', 2),\n",
       " ('LINC00886:1_(+2)', 2),\n",
       " ('lnc-LANCL2-7:1_(+2)', 2),\n",
       " ('LINC00917:1_(+1)', 2),\n",
       " ('lnc-TMEM123-3:1_(+2)', 2),\n",
       " ('lnc-CRHR1-6:1_(+1)', 2),\n",
       " ('lnc-RGS18-1:2_(+3)', 2),\n",
       " ('lnc-MEGF6-5:1_(+2)', 2),\n",
       " ('lnc-ZNF792-1:4_(+1)', 2),\n",
       " ('lnc-RP11-63E5.6.1-1:3_(+3)', 2),\n",
       " ('lnc-TMEM18-11:1_(+1)', 2),\n",
       " ('lnc-MTRNR2L5-3:3_(+2)', 2),\n",
       " ('ZMIZ1-AS1:2_(+2)', 2),\n",
       " ('lnc-PSMA2-2:3_(+1)', 2),\n",
       " ('lnc-PCM1-1:1_(+3)', 2),\n",
       " ('lnc-KATNAL2-1:7_(+3)', 2),\n",
       " ('lnc-RAB27B-1:1_(+1)', 2),\n",
       " ('lnc-RHOJ-1:1_(+3)', 2),\n",
       " ('CASC15:24_(+2)', 2),\n",
       " ('lnc-ENTPD4-1:1_(+3)', 2),\n",
       " ('lnc-MAD2L2-3:1_(+3)', 2),\n",
       " ('lnc-PRR20A-6:1_(+2)', 2),\n",
       " ('lnc-PPIC-1:2_(+2)', 2),\n",
       " ('lnc-C1orf109-1:1_(+2)', 2),\n",
       " ('lnc-DRAP1-1:3_(+2)', 2),\n",
       " ('lnc-FMN2-4:1_(+3)', 2),\n",
       " ('lnc-DDX47-1:1_(+3)', 2),\n",
       " ('MCPH1-AS1:4_(+3)', 2),\n",
       " ('PRKAR2A-AS1:6_(+1),PRKAR2A-AS1:7_(+3),PRKAR2A-AS1:8_(+2)', 2),\n",
       " ('lnc-MBOAT1-9:1_(+2)', 2),\n",
       " ('LOXL1-AS1:16_(+1)', 2),\n",
       " ('lnc-HSPA5-3:2_(+2)', 2),\n",
       " ('lnc-C1orf200-3:1_(+1)', 2),\n",
       " ('lnc-NAP1L2-4:1_(+3)', 2),\n",
       " ('lnc-AC069257.9.1-7:1_(+2)', 2),\n",
       " ('lnc-PPM1D-6:1_(+3)', 2),\n",
       " ('lnc-FTMT-1:1_(+2)', 2),\n",
       " ('lnc-C9orf50-3:1_(+3)', 2),\n",
       " ('lnc-CRHR2-3:1_(+1)', 2),\n",
       " ('lnc-CHRNB4-1:3_(+1)', 2),\n",
       " ('lnc-MARCKS-14:1_(+3)', 2),\n",
       " ('LINC01591:4_(+2)', 2),\n",
       " ('lnc-MRPS30-8:1_(+2)', 2),\n",
       " ('lnc-MRPL33-1:12_(+3)', 2),\n",
       " ('lnc-SH3BGRL-1:1_(+1)', 2),\n",
       " ('lnc-SCN5A-4:1_(+3)', 2),\n",
       " ('lnc-MAP1LC3A-2:1_(+2)', 2),\n",
       " ('lnc-ZDHHC11-1:1_(+1)', 2),\n",
       " ('lnc-KLHL18-7:2_(+2)', 2),\n",
       " ('lnc-C10orf28-4:1_(+2)', 2),\n",
       " ('lnc-POLR3E-4:3_(+1),lnc-RP11-645C24.1.1-5:15_(+1)', 2),\n",
       " ('lnc-TRIM38-1:5_(+2)', 2),\n",
       " ('lnc-ATP6V1G3-9:1_(+1)', 2),\n",
       " ('LINC01146:8_(+3)', 2),\n",
       " ('lnc-FARP1-2:1_(+2)', 2),\n",
       " ('lnc-STIM1-2:11_(+1)', 2),\n",
       " ('lnc-TRIM41-3:3_(+3)', 2),\n",
       " ('lnc-THAP5-1:1_(+2)', 2),\n",
       " ('lnc-ZNF92-5:1_(+3)', 2),\n",
       " ('lnc-LRP12-8:1_(+2)', 2),\n",
       " ('lnc-ANGPTL5-1:1_(+3)', 2),\n",
       " ('lnc-TMC7-5:1_(+3)', 2),\n",
       " ('lnc-PHKA2-2:1_(+1)', 2),\n",
       " ('lnc-ITGB8-2:8_(+3)', 2),\n",
       " ('lnc-AKAP17A-2:1_(+3),lnc-RPS4Y1-5:1_(+3)', 2),\n",
       " ('lnc-C2orf40-8:1_(+3)', 2),\n",
       " ('lnc-TRIM29-6:1_(+2)', 2),\n",
       " ('lnc-HS6ST3-3:1_(+2)', 2),\n",
       " ('lnc-AGMAT-1:2_(+1)', 2),\n",
       " ('lnc-SOX11-1:2_(+3)', 2),\n",
       " ('LINC01296:4_(+1),lnc-POTEG-4:2_(+1)', 2),\n",
       " ('lnc-HIST1H2BI-3:1_(+3)', 2),\n",
       " ('lnc-ZNF792-1:3_(+3)', 2),\n",
       " ('lnc-LGALS8-1:1_(+3)', 2),\n",
       " ('lnc-AFP-3:1_(+1)', 2),\n",
       " ('lnc-RAD51C-2:5_(+2)', 2),\n",
       " ('LINC00211:4_(+1)', 2),\n",
       " ('lnc-TTLL7-2:10_(+1)', 2),\n",
       " ('lnc-CWC27-4:1_(+3)', 2),\n",
       " ('lnc-SIGLEC11-2:6_(+2)', 2),\n",
       " ('UGDH-AS1:1_(+1)', 2),\n",
       " ('lnc-C22orf15-2:1_(+1)', 2),\n",
       " ('KCNQ1OT1:2_(+1),KCNQ1OT1:5_(+3)', 2),\n",
       " ('lnc-RTCD1-1:2_(+1)', 2),\n",
       " ('lnc-ATG16L1-1:1_(+3)', 2),\n",
       " ('lnc-EID1-3:2_(+1)', 2),\n",
       " ('PRKCQ-AS1:9_(+2)', 2),\n",
       " ('lnc-STX18-3:1_(+1)', 2),\n",
       " ('lnc-C20orf166-3:2_(+2)', 2),\n",
       " ('lnc-RP11-383H13.1.1-2:4_(+3)', 2),\n",
       " ('lnc-MRPS35-1:1_(+2)', 2),\n",
       " ('lnc-RC3H1-1:6_(+2)', 2),\n",
       " ('lnc-RP11-17M16.1.1-6:5_(+3)', 2),\n",
       " ('lnc-FBXO8-6:1_(+1),lnc-FBXO8-6:2_(+1)', 2),\n",
       " ('lnc-KLF10-5:1_(+1)', 2),\n",
       " ('lnc-RSPH1-6:1_(+3)', 2),\n",
       " ('lnc-IL37-4:1_(+1)', 2),\n",
       " ('lnc-ERICH1-19:9_(+3)', 2),\n",
       " ('lnc-SLC25A19-4:1_(+2)', 2),\n",
       " ('lnc-PREX1-9:1_(+3)', 2),\n",
       " ('lnc-C5orf43-8:1_(+2)', 2),\n",
       " ('lnc-UNC93B1-1:2_(+3)', 2),\n",
       " ('lnc-UXS1-4:3_(+1)', 2),\n",
       " ('lnc-GNLY-1:1_(+3)', 2),\n",
       " ('lnc-AL033381.1-4:6_(+1)', 2),\n",
       " ('lnc-KCNJ12-6:1_(+2)', 2),\n",
       " ('lnc-PAFAH1B2-2:7_(+1)', 2),\n",
       " ('lnc-GRPEL1-6:1_(+3)', 2),\n",
       " ('lnc-OAZ3-6:1_(+2)', 2),\n",
       " ('lnc-MBD2-6:1_(+3)', 2),\n",
       " ('lnc-CPT2-6:1_(+3)', 2),\n",
       " ('lnc-STOX2-5:1_(+2)', 2),\n",
       " ('LINC01146:8_(+2)', 2),\n",
       " ('lnc-KLHL28-5:1_(+3)', 2),\n",
       " ('lnc-ZNF330-5:1_(+3)', 2),\n",
       " ('lnc-ISX-2:2_(+3),lnc-ISX-2:3_(+1)', 2),\n",
       " ('lnc-TFAP2A-10:1_(+1)', 2),\n",
       " ('lnc-NSMCE1-8:1_(+3)', 2),\n",
       " ('lnc-WHSC2-1:1_(+3)', 2),\n",
       " ('lnc-RP11-1212A22.2.1-2:2_(+1)', 2),\n",
       " ('lnc-CLDN24-2:1_(+3),lnc-CLDN24-2:4_(+1)', 2),\n",
       " ('lnc-ZNF33B-5:1_(+1)', 2),\n",
       " ('lnc-DCUN1D1-2:1_(+3)', 2),\n",
       " ('lnc-CENPW-1:1_(+3)', 2),\n",
       " ('lnc-PCK1-4:1_(+3)', 2),\n",
       " ('lnc-ZNF273-6:1_(+3)', 2),\n",
       " ('lnc-LRRC61-1:1_(+3)', 2),\n",
       " ('lnc-RPL26L1-3:4_(+3)', 2),\n",
       " ('LINC01435:8_(+2)', 2),\n",
       " ('lnc-TUBGCP3-6:6_(+3)', 2),\n",
       " ('lnc-C1QL4-1:4_(+3)', 2),\n",
       " ('lnc-CTNNA1-2:3_(+1)', 2),\n",
       " ('lnc-BCL7C-1:2_(+3)', 2),\n",
       " ('lnc-ARHGAP24-2:1_(+3)', 2),\n",
       " ('lnc-AC091132.2-10:1_(+2)', 2),\n",
       " ('lnc-RP11-728F11.4.1-1:5_(+1)', 2),\n",
       " ('lnc-WDR25-2:1_(+2)', 2),\n",
       " ('lnc-VEGFC-3:1_(+3)', 2),\n",
       " ('LINC00607:1_(+2)', 2),\n",
       " ('lnc-PDE1C-1:1_(+3)', 2),\n",
       " ('lnc-CLSTN2-3:1_(+3)', 2),\n",
       " ('lnc-C22orf15-1:1_(+1)', 2),\n",
       " ('LINC00906:2_(+2),LINC00906:3_(+1)', 2),\n",
       " ('lnc-CXorf28-10:1_(+1)', 2),\n",
       " ('lnc-HMGB2-1:1_(+1)', 2),\n",
       " ('WT1-AS:10_(+2)', 2),\n",
       " ('lnc-AAGAB-3:2_(+1)', 2),\n",
       " ('lnc-JUN-5:5_(+2)', 2),\n",
       " ('lnc-XPO7-3:4_(+1)', 2),\n",
       " ('lnc-UMPS-2:1_(+3)', 2),\n",
       " ('lnc-C1orf220-5:1_(+3)', 2),\n",
       " ('lnc-MRPL39-2:1_(+3)', 2),\n",
       " ('lnc-GDA-6:1_(+3)', 2),\n",
       " ('lnc-FOXA2-7:1_(+2),lnc-FOXA2-7:2_(+2)', 2),\n",
       " ('lnc-ARHGEF4-1:5_(+2)', 2),\n",
       " ('lnc-SLC46A3-2:1_(+2)', 2),\n",
       " ('lnc-TRIML1-2:1_(+1)', 2),\n",
       " ('lnc-IRX2-6:1_(+2)', 2),\n",
       " ('lnc-AL137798.1-1:2_(+1)', 2),\n",
       " ('lnc-POFUT1-2:1_(+2)', 2),\n",
       " ('KCNJ2-AS1:2_(+1)', 2),\n",
       " ('CTBP1-AS2:4_(+3)', 2),\n",
       " ('lnc-SNAP25-4:1_(+1)', 2),\n",
       " ('lnc-RP1-127H14.3.1-1:2_(+3)', 2),\n",
       " ('lnc-MBP-2:3_(+3)', 2),\n",
       " ('lnc-SLC6A18-2:1_(+1)', 2),\n",
       " ('lnc-PCBP3-3:10_(+2)', 2),\n",
       " ('lnc-CADM2-8:1_(+2),lnc-CADM2-8:2_(+2)', 2),\n",
       " ('lnc-ATHL1-1:5_(+3),lnc-ATHL1-1:6_(+3)', 2),\n",
       " ('lnc-YWHAZ-2:1_(+2)', 2),\n",
       " ('lnc-NQO2-9:1_(+3),lnc-NQO2-9:3_(+3),lnc-NQO2-9:4_(+3)', 2),\n",
       " ('lnc-SKA1-1:1_(+1)', 2),\n",
       " ('lnc-ISM1-1:2_(+2)', 2),\n",
       " ('lnc-TNNT1-1:1_(+3)', 2),\n",
       " ('lnc-INTS7-2:2_(+2)', 2),\n",
       " ('lnc-LRIG3-1:2_(+2),lnc-LRIG3-1:3_(+2)', 2),\n",
       " ('lnc-SUCNR1-4:1_(+3)', 2),\n",
       " ('lnc-C14orf162-5:1_(+1)', 2),\n",
       " ('lnc-THAP6-3:1_(+3)', 2),\n",
       " ('lnc-TATDN3-2:1_(+1)', 2),\n",
       " ('lnc-RPL35A-2:1_(+1)', 2),\n",
       " ('lnc-CCDC84-3:1_(+1)', 2),\n",
       " ('lnc-CCDC70-2:1_(+3)', 2),\n",
       " ('lnc-FOXA2-3:2_(+2),lnc-FOXA2-3:7_(+2)', 2),\n",
       " ('lnc-PREX1-3:2_(+3)', 2),\n",
       " ('lnc-TMEM138-1:8_(+3)', 2),\n",
       " ('lnc-STX4-1:2_(+2)', 2),\n",
       " ('lnc-TRIM32-1:1_(+3)', 2),\n",
       " ('lnc-PDZRN3-1:1_(+1)', 2),\n",
       " ('lnc-FER-2:2_(+2)', 2),\n",
       " ('lnc-TUBB3-1:1_(+1)', 2),\n",
       " ('lnc-C1orf132-1:2_(+3)', 2),\n",
       " ('lnc-ARIH2-4:1_(+1)', 2),\n",
       " ('lnc-KCNA1-3:3_(+3)', 2),\n",
       " ('lnc-GMDS-6:5_(+2)', 2),\n",
       " ('lnc-ROPN1B-13:1_(+1)', 2),\n",
       " ('lnc-RP1L1-3:1_(+3),lnc-RP1L1-3:3_(+2)', 2),\n",
       " ('lnc-ATP6V1C1-1:1_(+1)', 2),\n",
       " ('lnc-DNASE1L1-1:1_(+2)', 2),\n",
       " ('lnc-RHOXF1-3:11_(+3)', 2),\n",
       " ('lnc-ZG16-2:2_(+2)', 2),\n",
       " ('lnc-CDC42EP5-3:1_(+1)', 2),\n",
       " ('LINC00251:4_(+2)', 2),\n",
       " ('lnc-C5orf43-4:3_(+1),lnc-C5orf43-4:9_(+2)', 2),\n",
       " ('lnc-DIRAS1-1:1_(+1)', 2),\n",
       " ('UGDH-AS1:1_(+2)', 2),\n",
       " ('lnc-CPEB2-15:1_(+2)', 2),\n",
       " ('lnc-OLFM4-4:2_(+2)', 2),\n",
       " ('lnc-MAP1LC3B2-1:1_(+2),lnc-MAP1LC3B2-1:2_(+2),lnc-MAP1LC3B2-1:3_(+1),lnc-MAP1LC3B2-1:4_(+3)',\n",
       "  2),\n",
       " ('lnc-C3orf38-3:1_(+2)', 2),\n",
       " ('lnc-KCNMB4-3:11_(+2)', 2),\n",
       " ('lnc-TG-2:1_(+2)', 1),\n",
       " ('lnc-SLC16A1-6:1_(+2)', 1),\n",
       " ('lnc-FBXO30-1:1_(+1)', 1),\n",
       " ('lnc-LY6H-3:1_(+2)', 1),\n",
       " ('lnc-C3orf58-2:1_(+1)', 1),\n",
       " ('lnc-MID1-5:1_(+2)', 1),\n",
       " ('ZNF337-AS1:2_(+3)', 1),\n",
       " ('lnc-MTFR1-4:1_(+2)', 1),\n",
       " ('lnc-ATP6V0A1-2:1_(+3)', 1),\n",
       " ('lnc-UCHL3-5:4_(+1)', 1),\n",
       " ('lnc-MOGAT2-4:1_(+1)', 1),\n",
       " ('lnc-ACOXL-3:1_(+2),lnc-ACOXL-3:2_(+2)', 1),\n",
       " ('lnc-CTA-299D3.8.1-1:3_(+3)', 1),\n",
       " ('lnc-TUBB3-4:2_(+1)', 1),\n",
       " ('lnc-ARMCX3-2:1_(+2)', 1),\n",
       " ('lnc-LRMP-4:3_(+2)', 1),\n",
       " ('lnc-YIF1A-5:1_(+3)', 1),\n",
       " ('lnc-PPIE-3:1_(+1),lnc-PPIE-3:2_(+3)', 1),\n",
       " ('lnc-CMTM6-2:1_(+3)', 1),\n",
       " ('lnc-DHRS7B-1:2_(+2)', 1),\n",
       " ('lnc-C11orf36-3:1_(+2)', 1),\n",
       " ('lnc-AC005008.2.1-4:1_(+3)', 1),\n",
       " ('lnc-CWC27-2:1_(+1)', 1),\n",
       " ('lnc-DMRTA1-25:2_(+3)', 1),\n",
       " ('lnc-SGCG-7:2_(+1)', 1),\n",
       " ('lnc-ZNF101-4:1_(+1)', 1),\n",
       " ('lnc-AKAP1-4:2_(+3)', 1),\n",
       " ('lnc-LEPROTL1-8:1_(+2)', 1),\n",
       " ('lnc-CD180-9:1_(+3)', 1),\n",
       " ('lnc-SOX11-6:1_(+3)', 1),\n",
       " ('lnc-EGFLAM-1:1_(+3)', 1),\n",
       " ('lnc-ALX4-11:1_(+3)', 1),\n",
       " ('lnc-RCOR1-1:3_(+1)', 1),\n",
       " ('lnc-C11orf61-1:1_(+1)', 1),\n",
       " ('lnc-RP4-725G10.1.1-3:2_(+3)', 1),\n",
       " ('lnc-ONECUT2-2:1_(+2)', 1),\n",
       " ('lnc-MORF4L2-3:1_(+2)', 1),\n",
       " ('lnc-KLHL32-8:1_(+2)', 1),\n",
       " ('lnc-AC092811.1-1:1_(+3)', 1),\n",
       " ('BCYRN1:2_(+3)', 1),\n",
       " ('lnc-CILP2-1:1_(+3)', 1),\n",
       " ('lnc-EME2-2:4_(+3)', 1),\n",
       " ('lnc-APOC3-6:4_(+2)', 1),\n",
       " ('lnc-C15orf53-2:1_(+3)', 1),\n",
       " ('lnc-KCNN2-1:1_(+2)', 1),\n",
       " ('lnc-PSMB9-6:5_(+1)', 1),\n",
       " ('lnc-CTDSP2-1:1_(+3),lnc-CTDSP2-1:2_(+1),lnc-CTDSP2-1:3_(+1)', 1),\n",
       " ('lnc-PBX3-4:1_(+1)', 1),\n",
       " ('lnc-C15orf55-2:1_(+2)', 1),\n",
       " ('lnc-MARCH7-3:1_(+1)', 1),\n",
       " ('lnc-ADAM19-1:2_(+2)', 1),\n",
       " ('LINC01569:18_(+3),LINC01569:3_(+1)', 1),\n",
       " ('lnc-MC1R-1:3_(+3)', 1),\n",
       " ('lnc-POTEF-6:10_(+2)', 1),\n",
       " ('MAPKAPK5-AS1:11_(+1),MAPKAPK5-AS1:13_(+1),MAPKAPK5-AS1:16_(+1),MAPKAPK5-AS1:17_(+3)',\n",
       "  1),\n",
       " ('lnc-RAB18-3:4_(+2)', 1),\n",
       " ('lnc-DDX27-3:1_(+3)', 1),\n",
       " ('lnc-C11orf1-1:1_(+1)', 1),\n",
       " ('lnc-ST6GAL2-1:1_(+1)', 1),\n",
       " ('LINC01471:13_(+1)', 1),\n",
       " ('lnc-C4orf33-9:1_(+3)', 1),\n",
       " ('lnc-NKD1-2:1_(+2)', 1),\n",
       " ('lnc-ZNF649-2:1_(+3)', 1),\n",
       " ('lnc-PIK3CD-1:1_(+3)', 1),\n",
       " ('lnc-GXYLT1-4:4_(+2)', 1),\n",
       " ('SLC25A5-AS1:6_(+1)', 1),\n",
       " ('lnc-C6orf201-15:2_(+1)', 1),\n",
       " ('lnc-CDH5-7:1_(+1)', 1),\n",
       " ('lnc-PDLIM1-3:1_(+2)', 1),\n",
       " ('lnc-PHKA2-2:1_(+3)', 1),\n",
       " ('LINC01104:1_(+2)', 1),\n",
       " ('lnc-PDDC1-1:1_(+1)', 1),\n",
       " ('lnc-DSCR4-15:1_(+1)', 1),\n",
       " ('lnc-PIEZO2-7:1_(+3)', 1),\n",
       " ('lnc-SEMA3F-1:1_(+3)', 1),\n",
       " ('lnc-GPRC5A-5:1_(+2)', 1),\n",
       " ('lnc-BNIP3-2:1_(+3)', 1),\n",
       " ('lnc-USP2-2:1_(+1)', 1),\n",
       " ('lnc-DOC2B-3:2_(+3)', 1),\n",
       " ('lnc-RP11-706O15.1.1-1:4_(+3),lnc-RP11-706O15.1.1-2:4_(+3),lnc-RP11-706O15.1.1-3:1_(+2)',\n",
       "  1),\n",
       " ('lnc-MYOM1-6:3_(+3)', 1),\n",
       " ('lnc-GOLGA6L6-5:1_(+3)', 1),\n",
       " ('lnc-DRD1-1:2_(+3)', 1),\n",
       " ('ZNF667-AS1:3_(+3)', 1),\n",
       " ('lnc-TMEM220-1:2_(+2)', 1),\n",
       " ('lnc-AC233264.1-1:1_(+1),lnc-AC233264.1-1:2_(+3)', 1),\n",
       " ('lnc-FMO4-3:1_(+2)', 1),\n",
       " ('lnc-LTA4H-5:1_(+1)', 1),\n",
       " ('lnc-PLEKHF1-1:1_(+2)', 1),\n",
       " ('HOXC-AS3:4_(+1)', 1),\n",
       " ('lnc-ZNF546-3:1_(+2)', 1),\n",
       " ('lnc-BTBD10-7:2_(+2)', 1),\n",
       " ('lnc-UTP11L-3:1_(+1)', 1),\n",
       " ('lnc-GOSR2-2:1_(+1)', 1),\n",
       " ('LINC01522:3_(+1)', 1),\n",
       " ('lnc-ISPD-1:2_(+3)', 1),\n",
       " ('lnc-F13A1-3:7_(+2)', 1),\n",
       " ('lnc-NIPA2-3:1_(+1)', 1),\n",
       " ('lnc-NIPAL3-3:1_(+2)', 1),\n",
       " ('lnc-PMP2-1:1_(+1)', 1),\n",
       " ('lnc-ABCA9-5:1_(+3)', 1),\n",
       " ('lnc-POU3F3-1:1_(+1)', 1),\n",
       " ('lnc-ASPM-2:1_(+2)', 1),\n",
       " ('lnc-MAFB-6:1_(+1)', 1),\n",
       " ('lnc-IL17B-2:1_(+3)', 1),\n",
       " ('lnc-STAM-3:1_(+1)', 1),\n",
       " ('lnc-ALG2-6:3_(+2),lnc-ALG2-6:6_(+2)', 1),\n",
       " ('lnc-AC005481.5.1-2:1_(+1)', 1),\n",
       " ('lnc-SMPD1-2:2_(+1)', 1),\n",
       " ('LAMTOR5-AS1:42_(+2)', 1),\n",
       " ('lnc-ZNF841-1:1_(+2),lnc-ZNF841-1:2_(+2)', 1),\n",
       " ('CLIP1-AS1:4_(+3)', 1),\n",
       " ('lnc-KCNQ3-1:1_(+3)', 1),\n",
       " ('lnc-DHX38-4:5_(+2)', 1),\n",
       " ('MIR100HG:16_(+3)', 1),\n",
       " ('lnc-NMS-4:1_(+1)', 1),\n",
       " ('lnc-CLDN23-3:1_(+2)', 1),\n",
       " ('lnc-RALY-2:1_(+3)', 1),\n",
       " ('TRAF3IP2-AS1:1_(+2)', 1),\n",
       " ('lnc-ERICH1-13:1_(+3)', 1),\n",
       " ('lnc-ARHGAP6-1:1_(+2),lnc-ARHGAP6-1:8_(+2)', 1),\n",
       " ('lnc-BCS1L-2:1_(+3)', 1),\n",
       " ('lnc-OSR2-1:1_(+3)', 1),\n",
       " ('lnc-IL20RA-3:1_(+2)', 1),\n",
       " ('lnc-RCAN2-2:1_(+1)', 1),\n",
       " ('lnc-AC008132.1-1:1_(+3)', 1),\n",
       " ('lnc-FAM126B-1:2_(+1)', 1),\n",
       " ('lnc-SNAPIN-1:1_(+3)', 1),\n",
       " ('lnc-CARD11-3:1_(+1)', 1),\n",
       " ('lnc-C3orf77-6:1_(+1)', 1),\n",
       " ('lnc-ACACA-5:2_(+3),lnc-ACACA-5:9_(+3)', 1),\n",
       " ('H19:2_(+2)', 1),\n",
       " ('lnc-CMTM4-2:1_(+3)', 1),\n",
       " ('lnc-ERCC4-6:1_(+3)', 1),\n",
       " ('lnc-ITK-2:1_(+3)', 1),\n",
       " ('lnc-TAF1C-1:1_(+3)', 1),\n",
       " ('lnc-JHDM1D-3:1_(+2)', 1),\n",
       " ('PCF11-AS1:1_(+3)', 1),\n",
       " ('lnc-GMDS-2:2_(+1)', 1),\n",
       " ('lnc-MRP63-8:1_(+3)', 1),\n",
       " ('lnc-FAM131B-1:3_(+1)', 1),\n",
       " ('lnc-FAM71E2-1:5_(+3)', 1),\n",
       " ('lnc-C11orf96-1:1_(+1)', 1),\n",
       " ('LINC00665:12_(+3)', 1),\n",
       " ('lnc-PDCD6IP-2:11_(+1)', 1),\n",
       " ('lnc-NEU3-3:3_(+2)', 1),\n",
       " ('lnc-RNMT-5:1_(+1)', 1),\n",
       " ('lnc-SUMO4-2:1_(+3)', 1),\n",
       " ('lnc-AC018816.3.1-10:1_(+2)', 1),\n",
       " ('lnc-MRPS18A-1:2_(+3)', 1),\n",
       " ('lnc-SLC30A8-1:1_(+3)', 1),\n",
       " ('LINC01488:1_(+3)', 1),\n",
       " ('lnc-KIAA0947-1:2_(+2)', 1),\n",
       " ('lnc-GPR85-1:1_(+2)', 1),\n",
       " ('LINC00472:10_(+1)', 1),\n",
       " ('lnc-TBL1Y-1:1_(+3)', 1),\n",
       " ('lnc-CTD-2523D13.1.1-2:2_(+3)', 1),\n",
       " ('lnc-PHKB-5:1_(+3)', 1),\n",
       " ('lnc-GRAMD4-4:1_(+3)', 1),\n",
       " ('lnc-TNFRSF13C-1:1_(+1)', 1),\n",
       " ('TSIX:1_(+3)', 1),\n",
       " ('lnc-RTP2-1:2_(+1)', 1),\n",
       " ('lnc-DMXL1-5:1_(+1)', 1),\n",
       " ('lnc-CLEC5A-1:1_(+1)', 1),\n",
       " ('lnc-NPHP1-1:4_(+3)', 1),\n",
       " ('lnc-PLCXD3-1:1_(+3)', 1),\n",
       " ('lnc-CEP170-4:3_(+3)', 1),\n",
       " ('lnc-ACTA2-1:1_(+2),lnc-ACTA2-1:2_(+2),lnc-ACTA2-1:3_(+2)', 1),\n",
       " ('lnc-CRYBA4-1:39_(+1)', 1),\n",
       " ('lnc-RYR2-1:2_(+2)', 1),\n",
       " ('lnc-CDH10-11:1_(+2)', 1),\n",
       " ('lnc-GSTM5-1:7_(+3)', 1),\n",
       " ('lnc-METTL16-3:1_(+3)', 1),\n",
       " ('lnc-MINA-2:2_(+1)', 1),\n",
       " ('lnc-ZNF585B-3:1_(+3)', 1),\n",
       " ('lnc-TNRC6C-4:1_(+2)', 1),\n",
       " ('lnc-ACSBG1-5:1_(+1)', 1),\n",
       " ('lnc-ADAP1-3:1_(+2)', 1),\n",
       " ('lnc-ADAMTS9-6:1_(+3)', 1),\n",
       " ('lnc-RBM45-7:1_(+2)', 1),\n",
       " ('lnc-ARHGAP11B-1:9_(+1)', 1),\n",
       " ('lnc-ANKRD6-1:2_(+1)', 1),\n",
       " ('lnc-CDK5R1-3:1_(+2)', 1),\n",
       " ('lnc-PSMG4-11:2_(+3)', 1),\n",
       " ('lnc-SLC36A4-6:1_(+3)', 1),\n",
       " ('FGF14-IT1:3_(+3),FGF14-IT1:4_(+3)', 1),\n",
       " ('lnc-PRDM8-4:6_(+1)', 1),\n",
       " ('lnc-NCOA3-14:1_(+1)', 1),\n",
       " ('lnc-SSH1-1:1_(+2)', 1),\n",
       " ('lnc-TMEM30B-3:10_(+2),lnc-TMEM30B-3:4_(+2)', 1),\n",
       " ('lnc-TRIML2-13:1_(+2)', 1),\n",
       " ('lnc-KRTAP10-12-2:1_(+2)', 1),\n",
       " ('lnc-ANKRD20A2-4:1_(+3)', 1),\n",
       " ('lnc-TBX2-3:2_(+3)', 1),\n",
       " ('lnc-AC016251.1-11:1_(+1)', 1),\n",
       " ('SOCS2-AS1:2_(+3),SOCS2-AS1:3_(+3)', 1),\n",
       " ('lnc-CLMP-2:1_(+3),lnc-CLMP-2:2_(+3),lnc-CLMP-2:3_(+1),lnc-CLMP-2:4_(+1)',\n",
       "  1),\n",
       " ('lnc-GPX7-1:1_(+3)', 1),\n",
       " ('lnc-ZNF131-2:15_(+3)', 1),\n",
       " ('lnc-FAM182A-5:1_(+2)', 1),\n",
       " ('lnc-C17orf63-2:1_(+2)', 1),\n",
       " ('lnc-RP11-701P16.2.1-2:1_(+3)', 1),\n",
       " ('lnc-DYNC1H1-1:1_(+2)', 1),\n",
       " ('lnc-ABCG5-1:1_(+3)', 1),\n",
       " ('lnc-SH2D6-1:1_(+1)', 1),\n",
       " ('lnc-ANKRD20A3-1:2_(+2)', 1),\n",
       " ('lnc-DDHD1-2:1_(+2)', 1),\n",
       " ('lnc-MLLT10-3:1_(+3)', 1),\n",
       " ('lnc-TCHP-1:2_(+3)', 1),\n",
       " ('lnc-C16orf78-1:3_(+3)', 1),\n",
       " ('lnc-C17orf51-3:1_(+1)', 1),\n",
       " ('lnc-GRM7-8:1_(+2)', 1),\n",
       " ('FBXL19-AS1:2_(+2)', 1),\n",
       " ('C6orf47-AS1:1_(+2)', 1),\n",
       " ('lnc-MGAT1-3:8_(+1)', 1),\n",
       " ('lnc-HIBCH-1:1_(+1)', 1),\n",
       " ('ZNF295-AS1:4_(+1)', 1),\n",
       " ('lnc-PLEKHA2-3:2_(+1)', 1),\n",
       " ('lnc-TIMM21-9:1_(+1)', 1),\n",
       " ('lnc-KLHL28-2:1_(+2)', 1),\n",
       " ('lnc-ADAMTS12-2:2_(+2)', 1),\n",
       " ('lnc-ANKRD18B-4:1_(+3)', 1),\n",
       " ('lnc-ITGAD-1:2_(+2)', 1),\n",
       " ('lnc-CAMK2G-2:1_(+1)', 1),\n",
       " ('lnc-ZADH2-1:2_(+3)', 1),\n",
       " ('lnc-AL391421.1-2:2_(+2)', 1),\n",
       " ('lnc-SERHL2-5:1_(+2)', 1),\n",
       " ('lnc-GYPB-3:5_(+1)', 1),\n",
       " ('lnc-PPP4R1-19:1_(+2)', 1),\n",
       " ('lnc-LIMK2-2:1_(+3)', 1),\n",
       " ('KANTR:12_(+2)', 1),\n",
       " ('lnc-UTP11L-1:2_(+1)', 1),\n",
       " ('lnc-GALT-2:1_(+2)', 1),\n",
       " ('lnc-USP35-9:1_(+2),lnc-USP35-9:2_(+1)', 1),\n",
       " ('lnc-SAMD5-1:1_(+3)', 1),\n",
       " ('lnc-NLRP3-1:3_(+3)', 1),\n",
       " ('C20orf166-AS1:2_(+1),C20orf166-AS1:3_(+2),C20orf166-AS1:6_(+1)', 1),\n",
       " ('lnc-KSR2-1:1_(+1)', 1),\n",
       " ('lnc-AC012414.1-3:1_(+2)', 1),\n",
       " ('lnc-CD44-2:1_(+1)', 1),\n",
       " ('lnc-ZNF90-3:1_(+3)', 1),\n",
       " ('lnc-C1QTNF1-4:1_(+1)', 1),\n",
       " ('lnc-IRF2-2:14_(+1),lnc-IRF2-2:20_(+1)', 1),\n",
       " ('lnc-FAM206A-1:1_(+2)', 1),\n",
       " ('lnc-IL2RA-6:1_(+2)', 1),\n",
       " ('lnc-PIGY-3:1_(+3)', 1),\n",
       " ('lnc-LRRN2-1:1_(+1)', 1),\n",
       " ('lnc-SUV420H2-1:1_(+2)', 1),\n",
       " ('lnc-SLC22A23-4:1_(+3)', 1),\n",
       " ('LINC00907:2_(+3)', 1),\n",
       " ('lnc-NDP-2:1_(+2)', 1),\n",
       " ('lnc-FAS-2:2_(+1)', 1),\n",
       " ('lnc-ALDH18A1-1:1_(+1)', 1),\n",
       " ('lnc-SOCS6-18:1_(+3)', 1),\n",
       " ('lnc-CCL18-5:2_(+3)', 1),\n",
       " ('lnc-CACNA2D1-1:1_(+1)', 1),\n",
       " ('lnc-RGS18-10:1_(+3)', 1),\n",
       " ('TRG-AS1:3_(+2),TRG-AS1:5_(+3)', 1),\n",
       " ('lnc-HPS6-1:1_(+2)', 1),\n",
       " ('lnc-GTSF1L-8:1_(+2)', 1),\n",
       " ('lnc-RPL19-6:5_(+1)', 1),\n",
       " ('lnc-ZNF681-1:1_(+2)', 1),\n",
       " ('CDRT7:1_(+1)', 1),\n",
       " ('lnc-CD244-1:1_(+2)', 1),\n",
       " ('lnc-MAX-9:1_(+2)', 1),\n",
       " ('lnc-RALGAPA2-5:2_(+3)', 1),\n",
       " ('lnc-FAM75A6-2:1_(+3)', 1),\n",
       " ('lnc-TGM6-4:1_(+2)', 1),\n",
       " ('lnc-RAB27B-5:1_(+2)', 1),\n",
       " ('LINC00894:1_(+3)', 1),\n",
       " ('lnc-NR2F1-1:4_(+1)', 1),\n",
       " ('lnc-C9orf72-3:1_(+2),lnc-C9orf72-3:2_(+2)', 1),\n",
       " ('GATA2-AS1:1_(+3)', 1),\n",
       " ('lnc-IDS-16:1_(+2)', 1),\n",
       " ('lnc-FIGNL1-1:1_(+3)', 1),\n",
       " ('lnc-RASGRF1-6:1_(+3)', 1),\n",
       " ('lnc-TMEM242-6:1_(+1)', 1),\n",
       " ('lnc-C3orf43-2:1_(+2)', 1),\n",
       " ('lnc-ASPHD1-3:1_(+2)', 1),\n",
       " ('lnc-DLX4-3:1_(+2)', 1),\n",
       " ('lnc-TH-1:1_(+1)', 1),\n",
       " ('lnc-PRDM11-8:1_(+3)', 1),\n",
       " ('lnc-C6orf99-7:2_(+1)', 1),\n",
       " ('lnc-SERPINB1-1:10_(+3)', 1),\n",
       " ('lnc-TSPYL6-1:1_(+2)', 1),\n",
       " ('lnc-ZNF536-2:1_(+2)', 1),\n",
       " ('LINC-PINT:18_(+1)', 1),\n",
       " ('lnc-USP40-2:1_(+2)', 1),\n",
       " ('lnc-TMEM132C-10:1_(+1)', 1),\n",
       " ('LMLN-AS1:3_(+1)', 1),\n",
       " ('lnc-WNT7B-2:1_(+1)', 1),\n",
       " ('KIF9-AS1:9_(+1)', 1),\n",
       " ('LINC01087:1_(+1)', 1),\n",
       " ('lnc-TSKU-1:1_(+1)', 1),\n",
       " ('lnc-CD9-4:1_(+2)', 1),\n",
       " ('LINC00628:2_(+1)', 1),\n",
       " ('lnc-KRTAP10-12-2:1_(+1)', 1),\n",
       " ('lnc-PSMG4-6:4_(+3)', 1),\n",
       " ('LINC00293:11_(+2)', 1),\n",
       " ('lnc-PTPRU-9:1_(+1)', 1),\n",
       " ('lnc-BAZ2A-1:2_(+2)', 1),\n",
       " ('ADAMTS9-AS2:12_(+2)', 1),\n",
       " ('lnc-SLC16A9-2:1_(+1)', 1),\n",
       " ('lnc-SYCP2-4:1_(+1)', 1),\n",
       " ('lnc-CXorf65-2:1_(+1)', 1),\n",
       " ('lnc-CNTN2-5:1_(+2)', 1),\n",
       " ('lnc-KBTBD3-3:1_(+1)', 1),\n",
       " ('lnc-RP11-324D17.2.1-3:1_(+2)', 1),\n",
       " ('lnc-C11orf74-12:1_(+2)', 1),\n",
       " ('lnc-RREB1-3:1_(+3)', 1),\n",
       " ('lnc-KATNAL2-2:2_(+1)', 1),\n",
       " ('lnc-CKB-1:1_(+3)', 1),\n",
       " ('lnc-BOD1-1:10_(+1)', 1),\n",
       " ('lnc-GPR65-3:3_(+3)', 1),\n",
       " ('lnc-A1BG-2:3_(+2)', 1),\n",
       " ('lnc-TAF12-3:1_(+2)', 1),\n",
       " ('lnc-APOD-3:1_(+3)', 1),\n",
       " ('lnc-TMEM65-4:1_(+2)', 1),\n",
       " ('lnc-EPG5-5:1_(+3)', 1),\n",
       " ('lnc-LINGO2-4:1_(+3)', 1),\n",
       " ('LINC01091:4_(+2)', 1),\n",
       " ('lnc-MLYCD-2:4_(+2)', 1),\n",
       " ('lnc-MS4A2-1:1_(+1)', 1),\n",
       " ('lnc-SLC6A18-2:1_(+2)', 1),\n",
       " ('SLC16A1-AS1:14_(+2)', 1),\n",
       " ('lnc-PIK3C3-2:4_(+1)', 1),\n",
       " ('lnc-SH3BGRL2-9:2_(+2)', 1),\n",
       " ('lnc-RHOU-7:1_(+3)', 1),\n",
       " ('lnc-ANKRD33-3:1_(+3)', 1),\n",
       " ('lnc-ARMC1-5:1_(+1)', 1),\n",
       " ('lnc-VPS13B-1:2_(+3)', 1),\n",
       " ('lnc-ZNF85-1:1_(+2)', 1),\n",
       " ('lnc-HOMER1-6:1_(+3)', 1),\n",
       " ('lnc-TBCEL-2:1_(+1)', 1),\n",
       " ('lnc-SLC1A1-8:1_(+2)', 1),\n",
       " ('lnc-NDRG2-4:1_(+1),lnc-NDRG2-4:2_(+3)', 1),\n",
       " ('lnc-ANKRD33B-11:1_(+1)', 1),\n",
       " ('lnc-CLK3-1:1_(+2)', 1),\n",
       " ('lnc-FAM113B-11:1_(+3)', 1),\n",
       " ('lnc-ABCC3-6:1_(+1)', 1),\n",
       " ('lnc-CKB-1:1_(+1)', 1),\n",
       " ('lnc-KCNMB1-3:3_(+1)', 1),\n",
       " ('lnc-SLC35F5-3:5_(+2)', 1),\n",
       " ('lnc-DNAJB12-1:1_(+2)', 1),\n",
       " ('lnc-AC016251.1-2:1_(+2)', 1),\n",
       " ('lnc-ITPRIP-4:1_(+2)', 1),\n",
       " ('lnc-CAMKMT-1:1_(+2)', 1),\n",
       " ('lnc-MRPL19-15:4_(+2)', 1),\n",
       " ('lnc-C1orf191-3:1_(+3)', 1),\n",
       " ('lnc-PER2-7:2_(+3)', 1),\n",
       " ('lnc-NEDD4L-1:1_(+1)', 1),\n",
       " ('lnc-SOX1-1:1_(+2)', 1),\n",
       " ('lnc-SPATA21-2:16_(+3)', 1),\n",
       " ('LINC00472:10_(+3)', 1),\n",
       " ('lnc-ACTL8-1:3_(+3)', 1),\n",
       " ('LINC01010:1_(+2)', 1),\n",
       " ('lnc-SLC7A6-3:1_(+1)', 1),\n",
       " ('lnc-SMURF1-2:1_(+2)', 1),\n",
       " ('lnc-RP11-150O12.1.1-2:3_(+2)', 1),\n",
       " ('lnc-CLDN20-1:1_(+2)', 1),\n",
       " ('lnc-RP11-712L6.5.1-2:2_(+3),lnc-RP11-712L6.5.1-2:4_(+3)', 1),\n",
       " ('LINC01016:10_(+2),LINC01016:3_(+1),LINC01016:4_(+1)', 1),\n",
       " ('lnc-QPCT-3:5_(+2)', 1),\n",
       " ('lnc-ZNF582-2:1_(+1)', 1),\n",
       " ('lnc-GCNT1-6:1_(+3)', 1),\n",
       " ('SMC5-AS1:3_(+2)', 1),\n",
       " ('lnc-EFCAB1-4:1_(+1)', 1),\n",
       " ('lnc-ECE1-4:1_(+2)', 1),\n",
       " ('lnc-GRM1-1:6_(+1)', 1),\n",
       " ('lnc-TIGD1-1:12_(+1),lnc-TIGD1-1:13_(+1)', 1),\n",
       " ('lnc-NOC2L-2:2_(+1)', 1),\n",
       " ('lnc-SCAP-1:1_(+3),lnc-SCAP-1:2_(+1)', 1),\n",
       " ('LBX1-AS1:8_(+3)', 1),\n",
       " ('lnc-CASP3-1:5_(+1)', 1),\n",
       " ('lnc-ZNF226-1:1_(+2)', 1),\n",
       " ('lnc-SCARA3-1:1_(+1)', 1),\n",
       " ('LINC01138:7_(+1)', 1),\n",
       " ('lnc-CRIPT-1:5_(+2)', 1),\n",
       " ('HCP5:1_(+1),HCP5:2_(+2)', 1),\n",
       " ('lnc-KIAA1715-2:2_(+3)', 1),\n",
       " ('lnc-FBXL8-1:4_(+2)', 1),\n",
       " ('lnc-TBC1D19-2:2_(+1)', 1),\n",
       " ('lnc-POLR3GL-3:3_(+3)', 1),\n",
       " ('lnc-YWHAG-1:1_(+2)', 1),\n",
       " ('lnc-OR4N2-1:1_(+3)', 1),\n",
       " ('lnc-ASB4-7:1_(+3)', 1),\n",
       " ('lnc-COG5-6:1_(+1)', 1),\n",
       " ('lnc-XYLT1-2:1_(+2)', 1),\n",
       " ('lnc-ST6GAL2-3:1_(+1)', 1),\n",
       " ('LINC01423:1_(+1)', 1),\n",
       " ('lnc-TRIM26-4:1_(+1)', 1),\n",
       " ('lnc-GBP5-3:3_(+3)', 1),\n",
       " ('lnc-AC114546.1-9:1_(+2)', 1),\n",
       " ('lnc-STK33-1:1_(+1)', 1),\n",
       " ('lnc-TNPO3-6:2_(+3)', 1),\n",
       " ('lnc-ZNF658-2:1_(+3)', 1),\n",
       " ('PITPNA-AS1:3_(+3)', 1),\n",
       " ('lnc-SPIRE1-3:1_(+1)', 1),\n",
       " ('lnc-SRGAP1-3:1_(+2)', 1),\n",
       " ('lnc-LTBP3-2:5_(+2)', 1),\n",
       " ('lnc-CHRM3-1:4_(+2)', 1),\n",
       " ('lnc-PIK3C3-15:1_(+2)', 1),\n",
       " ('lnc-ZHX2-2:1_(+2)', 1),\n",
       " ('lnc-CTA-299D3.8.1-8:3_(+1)', 1),\n",
       " ('lnc-SLC15A1-1:1_(+2)', 1),\n",
       " ('lnc-C17orf84-1:2_(+3)', 1),\n",
       " ('lnc-NAT10-2:2_(+2)', 1),\n",
       " ('lnc-FOXD4L2-1:3_(+2)', 1),\n",
       " ('lnc-SPATA12-6:4_(+2)', 1),\n",
       " ('lnc-PEX14-1:5_(+1)', 1),\n",
       " ('lnc-METTL4-4:1_(+2)', 1),\n",
       " ('lnc-APCDD1L-2:1_(+3)', 1),\n",
       " ('LINC00539:9_(+1)', 1),\n",
       " ('EIF1B-AS1:10_(+1)', 1),\n",
       " ('lnc-CD47-1:3_(+2)', 1),\n",
       " ('lnc-S100A7A-1:1_(+2)', 1),\n",
       " ('lnc-RHOB-19:2_(+1),lnc-RHOB-19:3_(+2)', 1),\n",
       " ('lnc-HGSNAT-10:1_(+2)', 1),\n",
       " ('lnc-IRF2-3:3_(+2)', 1),\n",
       " ('lnc-DAGLA-1:1_(+1),lnc-DAGLA-1:2_(+2),lnc-DAGLA-1:3_(+2),lnc-DAGLA-1:5_(+2),lnc-DAGLA-1:6_(+3),lnc-DAGLA-1:7_(+2)',\n",
       "  1),\n",
       " ('lnc-C17orf47-1:1_(+1)', 1),\n",
       " ('lnc-TDG-1:1_(+1)', 1),\n",
       " ('lnc-GPR148-2:1_(+3),lnc-GPR148-2:2_(+3),lnc-POTEI-2:2_(+3),lnc-POTEI-2:3_(+3)',\n",
       "  1),\n",
       " ('lnc-OLFM1-4:1_(+3)', 1),\n",
       " ('lnc-ALDH3B2-3:3_(+1)', 1),\n",
       " ('lnc-FAM86C1-1:5_(+1)', 1),\n",
       " ('SGMS1-AS1:2_(+2)', 1),\n",
       " ('lnc-CCDC166-1:1_(+3)', 1),\n",
       " ('LINC01089:31_(+2)', 1),\n",
       " ('lnc-RPL31-6:1_(+1)', 1),\n",
       " ('lnc-PPP1R3D-4:1_(+1)', 1),\n",
       " ('lnc-SYNPO2-1:2_(+2)', 1),\n",
       " ('lnc-PZP-5:1_(+1)', 1),\n",
       " ('lnc-PEX19-3:1_(+2)', 1),\n",
       " ('lnc-DGKA-1:1_(+2)', 1),\n",
       " ('LINC00881:3_(+1)', 1),\n",
       " ('lnc-IGFL3-4:1_(+2)', 1),\n",
       " ('lnc-MMP15-2:4_(+3)', 1),\n",
       " ('lnc-TSPAN15-1:1_(+2)', 1),\n",
       " ('lnc-SF3B2-2:1_(+1)', 1),\n",
       " ('lnc-DRG1-1:2_(+3)', 1),\n",
       " ('lnc-TSPAN13-3:1_(+2)', 1),\n",
       " ('lnc-AC093802.1.1-1:1_(+1)', 1),\n",
       " ('STAU2-AS1:2_(+1),STAU2-AS1:3_(+1)', 1),\n",
       " ('lnc-ZCCHC7-3:1_(+2)', 1),\n",
       " ('lnc-C16orf78-3:1_(+2),lnc-C16orf78-3:2_(+2)', 1),\n",
       " ('lnc-ZNF8-2:1_(+2)', 1),\n",
       " ('lnc-BHLHA15-1:1_(+2)', 1),\n",
       " ('lnc-TMPRSS15-8:1_(+3)', 1),\n",
       " ('lnc-ARID2-11:1_(+3)', 1),\n",
       " ('lnc-GAN-1:1_(+2)', 1),\n",
       " ('lnc-DOK4-2:1_(+1)', 1),\n",
       " ('lnc-GTF2H2-9:1_(+2)', 1),\n",
       " ('lnc-ATG16L2-8:1_(+2)', 1),\n",
       " ('lnc-PLXND1-3:1_(+1)', 1),\n",
       " ('lnc-TBX2-4:4_(+2)', 1),\n",
       " ('lnc-C18orf21-3:1_(+3)', 1),\n",
       " ('lnc-CAST-8:1_(+2)', 1),\n",
       " ('lnc-C12orf50-6:2_(+3)', 1),\n",
       " ('lnc-AP3S1-6:1_(+1)', 1),\n",
       " ('DNAJC3-AS1:2_(+3)', 1),\n",
       " ('lnc-ZFAND3-1:1_(+2)', 1),\n",
       " ('lnc-EMCN-3:6_(+3),lnc-EMCN-3:8_(+3),lnc-EMCN-3:9_(+3)', 1),\n",
       " ('lnc-MLIP-1:2_(+2),lnc-MLIP-1:4_(+1)', 1),\n",
       " ('lnc-RASSF2-2:1_(+3)', 1),\n",
       " ('lnc-HTR5A-1:1_(+2)', 1),\n",
       " ...]"
      ]
     },
     "execution_count": 18,
     "metadata": {},
     "output_type": "execute_result"
    }
   ],
   "source": [
    "hit_spec_dic.most_common()"
   ]
  },
  {
   "cell_type": "code",
   "execution_count": 41,
   "metadata": {
    "collapsed": true
   },
   "outputs": [],
   "source": [
    "lncipedia_4 = read_FASTA(\"/home/fogside/lncRNA/data/lncipedia_4_0_hc.fasta\")"
   ]
  },
  {
   "cell_type": "code",
   "execution_count": 47,
   "metadata": {
    "scrolled": true
   },
   "outputs": [
    {
     "name": "stderr",
     "output_type": "stream",
     "text": [
      "  0%|          | 27/80403 [00:00<04:57, 269.89it/s]"
     ]
    },
    {
     "name": "stdout",
     "output_type": "stream",
     "text": [
      "type:  0\n"
     ]
    },
    {
     "name": "stderr",
     "output_type": "stream",
     "text": [
      "100%|██████████| 80403/80403 [03:02<00:00, 440.75it/s]\n"
     ]
    }
   ],
   "source": [
    "lnc4_df = make_df_from_dic([lncipedia_4], num_for_class=len(lncipedia_4), kmer=8)"
   ]
  },
  {
   "cell_type": "code",
   "execution_count": 94,
   "metadata": {},
   "outputs": [
    {
     "data": {
      "text/plain": [
       "'CTTCACTTTCAGAGACTTCAGCGTTCCATGTCTGCTGTGCTGTGGAACCCAGAGTGCTCTTGCCTGGATGGCTGAGAATCCCTTGGACCCTGGAAGCACCTACTCCATGATGGCCCGCAGGAGGACCAAACTGGAGACAGTCCTGGCTCTGAGGAAACAGGAAGGAAGGAGGGTGAAAGGAACGTCCACCTGCACACAAAGGAAAGATGAAAAAGAGTCACCTACCATGGGACCTGGCAAAGTACTTCAGAACTTTTATTCCTTCCAGAAGCAGGTAAGTACCCCAAGTCCTCATCGTATTCCCAGCATAGGGCTTGGTATACGGGGGGATATTTCATTCAGCATATTGGCTGAATGAAAGGTCTGATAGGTATACCTGGGAGAAGGTCCTTAGGGACATGGCTTAAAAAATGAGAGAGGGGCAGGGCAGTGAGTCTAAAAGGATGTGGATGCTCACATCTGCTCTTACAATCATGCTACAGTTCATTTATTGAGTGGAAACAGTTCCCTACTTATTGACAATTCATTTACTGAATAGGTAATCAGTAAATACATTTTGTATCAATCTAACAATTAGGCATAAACTACAGCCTCCTACACCCAATATCTGAGGTGTTCTAAGATTTAACTACTCAAATGTTTGATATTTGATAAATTGTTTAAGTTCTCTGCAATTCAGTTCCACCTCCTATAACAGCACTTCTGAAAATGTGGTCTGTGAACCTCTGAGGGGTTCCTGAGACACTGTCAGGGAGCAAGTGAGACATGGCTATTTTTATAATATTAAACTATTAGCCTTTGTCACTGTGTTGTCATTTACCTAGGATAGGTAC'"
      ]
     },
     "execution_count": 94,
     "metadata": {},
     "output_type": "execute_result"
    }
   ],
   "source": [
    "list(lncipedia_4.items())[644][1]"
   ]
  },
  {
   "cell_type": "code",
   "execution_count": 92,
   "metadata": {},
   "outputs": [
    {
     "data": {
      "text/html": [
       "<div>\n",
       "<table border=\"1\" class=\"dataframe\">\n",
       "  <thead>\n",
       "    <tr style=\"text-align: right;\">\n",
       "      <th></th>\n",
       "      <th>0</th>\n",
       "      <th>1</th>\n",
       "      <th>10</th>\n",
       "      <th>11</th>\n",
       "      <th>12</th>\n",
       "      <th>13</th>\n",
       "      <th>14</th>\n",
       "      <th>15</th>\n",
       "      <th>16</th>\n",
       "      <th>17</th>\n",
       "      <th>...</th>\n",
       "      <th>91</th>\n",
       "      <th>92</th>\n",
       "      <th>93</th>\n",
       "      <th>94</th>\n",
       "      <th>95</th>\n",
       "      <th>96</th>\n",
       "      <th>97</th>\n",
       "      <th>98</th>\n",
       "      <th>99</th>\n",
       "      <th>TYPE</th>\n",
       "    </tr>\n",
       "  </thead>\n",
       "  <tbody>\n",
       "    <tr>\n",
       "      <th>A1BG-AS1:4</th>\n",
       "      <td>0.036029</td>\n",
       "      <td>0.286006</td>\n",
       "      <td>-0.072962</td>\n",
       "      <td>0.096971</td>\n",
       "      <td>0.096752</td>\n",
       "      <td>0.095567</td>\n",
       "      <td>-0.217422</td>\n",
       "      <td>0.097726</td>\n",
       "      <td>-0.069422</td>\n",
       "      <td>-0.009610</td>\n",
       "      <td>...</td>\n",
       "      <td>0.122590</td>\n",
       "      <td>-0.196569</td>\n",
       "      <td>-0.281443</td>\n",
       "      <td>0.283634</td>\n",
       "      <td>-0.057258</td>\n",
       "      <td>0.096980</td>\n",
       "      <td>-0.116203</td>\n",
       "      <td>-0.170660</td>\n",
       "      <td>-0.026831</td>\n",
       "      <td>0.0</td>\n",
       "    </tr>\n",
       "    <tr>\n",
       "      <th>A1BG-AS1:5</th>\n",
       "      <td>0.030476</td>\n",
       "      <td>0.300949</td>\n",
       "      <td>-0.073210</td>\n",
       "      <td>0.104854</td>\n",
       "      <td>0.122116</td>\n",
       "      <td>0.100656</td>\n",
       "      <td>-0.210483</td>\n",
       "      <td>0.095434</td>\n",
       "      <td>-0.070673</td>\n",
       "      <td>0.009873</td>\n",
       "      <td>...</td>\n",
       "      <td>0.155414</td>\n",
       "      <td>-0.167454</td>\n",
       "      <td>-0.277507</td>\n",
       "      <td>0.262960</td>\n",
       "      <td>-0.055156</td>\n",
       "      <td>0.112796</td>\n",
       "      <td>-0.142341</td>\n",
       "      <td>-0.182145</td>\n",
       "      <td>-0.074393</td>\n",
       "      <td>0.0</td>\n",
       "    </tr>\n",
       "    <tr>\n",
       "      <th>A1BG-AS1:6</th>\n",
       "      <td>0.033599</td>\n",
       "      <td>0.285375</td>\n",
       "      <td>-0.044347</td>\n",
       "      <td>0.102738</td>\n",
       "      <td>0.086212</td>\n",
       "      <td>0.093061</td>\n",
       "      <td>-0.197801</td>\n",
       "      <td>0.094905</td>\n",
       "      <td>-0.077900</td>\n",
       "      <td>-0.019881</td>\n",
       "      <td>...</td>\n",
       "      <td>0.145343</td>\n",
       "      <td>-0.197261</td>\n",
       "      <td>-0.285266</td>\n",
       "      <td>0.279878</td>\n",
       "      <td>-0.067034</td>\n",
       "      <td>0.063345</td>\n",
       "      <td>-0.104890</td>\n",
       "      <td>-0.171446</td>\n",
       "      <td>-0.027718</td>\n",
       "      <td>0.0</td>\n",
       "    </tr>\n",
       "    <tr>\n",
       "      <th>A1BG-AS1:8</th>\n",
       "      <td>0.053209</td>\n",
       "      <td>0.303587</td>\n",
       "      <td>-0.040555</td>\n",
       "      <td>0.163074</td>\n",
       "      <td>0.075777</td>\n",
       "      <td>0.164370</td>\n",
       "      <td>-0.166042</td>\n",
       "      <td>0.103731</td>\n",
       "      <td>-0.063073</td>\n",
       "      <td>-0.037618</td>\n",
       "      <td>...</td>\n",
       "      <td>0.133503</td>\n",
       "      <td>-0.176494</td>\n",
       "      <td>-0.305441</td>\n",
       "      <td>0.285651</td>\n",
       "      <td>-0.087367</td>\n",
       "      <td>0.044785</td>\n",
       "      <td>-0.085997</td>\n",
       "      <td>-0.143035</td>\n",
       "      <td>-0.034010</td>\n",
       "      <td>0.0</td>\n",
       "    </tr>\n",
       "    <tr>\n",
       "      <th>A1BG-AS1:9</th>\n",
       "      <td>0.034189</td>\n",
       "      <td>0.301724</td>\n",
       "      <td>-0.048584</td>\n",
       "      <td>0.101367</td>\n",
       "      <td>0.062436</td>\n",
       "      <td>0.095605</td>\n",
       "      <td>-0.194543</td>\n",
       "      <td>0.088817</td>\n",
       "      <td>-0.079353</td>\n",
       "      <td>-0.019320</td>\n",
       "      <td>...</td>\n",
       "      <td>0.131745</td>\n",
       "      <td>-0.196624</td>\n",
       "      <td>-0.306341</td>\n",
       "      <td>0.280009</td>\n",
       "      <td>-0.080239</td>\n",
       "      <td>0.038836</td>\n",
       "      <td>-0.106274</td>\n",
       "      <td>-0.163400</td>\n",
       "      <td>-0.041809</td>\n",
       "      <td>0.0</td>\n",
       "    </tr>\n",
       "  </tbody>\n",
       "</table>\n",
       "<p>5 rows × 101 columns</p>\n",
       "</div>"
      ],
      "text/plain": [
       "                   0         1        10        11        12        13  \\\n",
       "A1BG-AS1:4  0.036029  0.286006 -0.072962  0.096971  0.096752  0.095567   \n",
       "A1BG-AS1:5  0.030476  0.300949 -0.073210  0.104854  0.122116  0.100656   \n",
       "A1BG-AS1:6  0.033599  0.285375 -0.044347  0.102738  0.086212  0.093061   \n",
       "A1BG-AS1:8  0.053209  0.303587 -0.040555  0.163074  0.075777  0.164370   \n",
       "A1BG-AS1:9  0.034189  0.301724 -0.048584  0.101367  0.062436  0.095605   \n",
       "\n",
       "                  14        15        16        17  ...         91        92  \\\n",
       "A1BG-AS1:4 -0.217422  0.097726 -0.069422 -0.009610  ...   0.122590 -0.196569   \n",
       "A1BG-AS1:5 -0.210483  0.095434 -0.070673  0.009873  ...   0.155414 -0.167454   \n",
       "A1BG-AS1:6 -0.197801  0.094905 -0.077900 -0.019881  ...   0.145343 -0.197261   \n",
       "A1BG-AS1:8 -0.166042  0.103731 -0.063073 -0.037618  ...   0.133503 -0.176494   \n",
       "A1BG-AS1:9 -0.194543  0.088817 -0.079353 -0.019320  ...   0.131745 -0.196624   \n",
       "\n",
       "                  93        94        95        96        97        98  \\\n",
       "A1BG-AS1:4 -0.281443  0.283634 -0.057258  0.096980 -0.116203 -0.170660   \n",
       "A1BG-AS1:5 -0.277507  0.262960 -0.055156  0.112796 -0.142341 -0.182145   \n",
       "A1BG-AS1:6 -0.285266  0.279878 -0.067034  0.063345 -0.104890 -0.171446   \n",
       "A1BG-AS1:8 -0.305441  0.285651 -0.087367  0.044785 -0.085997 -0.143035   \n",
       "A1BG-AS1:9 -0.306341  0.280009 -0.080239  0.038836 -0.106274 -0.163400   \n",
       "\n",
       "                  99  TYPE  \n",
       "A1BG-AS1:4 -0.026831   0.0  \n",
       "A1BG-AS1:5 -0.074393   0.0  \n",
       "A1BG-AS1:6 -0.027718   0.0  \n",
       "A1BG-AS1:8 -0.034010   0.0  \n",
       "A1BG-AS1:9 -0.041809   0.0  \n",
       "\n",
       "[5 rows x 101 columns]"
      ]
     },
     "execution_count": 92,
     "metadata": {},
     "output_type": "execute_result"
    }
   ],
   "source": [
    "lnc4_df.head()"
   ]
  },
  {
   "cell_type": "code",
   "execution_count": 89,
   "metadata": {},
   "outputs": [
    {
     "data": {
      "text/plain": [
       "1429"
      ]
     },
     "execution_count": 89,
     "metadata": {},
     "output_type": "execute_result"
    }
   ],
   "source": [
    "len([k[:-5].upper() for k in hit_spec_dic.keys()])"
   ]
  },
  {
   "cell_type": "code",
   "execution_count": 100,
   "metadata": {},
   "outputs": [
    {
     "data": {
      "text/plain": [
       "1281"
      ]
     },
     "execution_count": 100,
     "metadata": {},
     "output_type": "execute_result"
    }
   ],
   "source": [
    "intersection = set([k.upper() for k in lnc4_df.index]) & set([k[:-5].upper() for k in hit_spec_dic.keys()])\n",
    "len(intersection)"
   ]
  },
  {
   "cell_type": "code",
   "execution_count": 91,
   "metadata": {},
   "outputs": [
    {
     "data": {
      "text/plain": [
       "1281"
      ]
     },
     "execution_count": 91,
     "metadata": {},
     "output_type": "execute_result"
    }
   ],
   "source": [
    "len(set([k.upper() for k in lncipedia_4.keys()]) & set([k[:-5].upper() for k in hit_spec_dic.keys()]))"
   ]
  },
  {
   "cell_type": "markdown",
   "metadata": {},
   "source": [
    "# Те, что не нашлись"
   ]
  },
  {
   "cell_type": "code",
   "execution_count": 132,
   "metadata": {},
   "outputs": [
    {
     "data": {
      "text/plain": [
       "115"
      ]
     },
     "execution_count": 132,
     "metadata": {},
     "output_type": "execute_result"
    }
   ],
   "source": [
    "len(set([k[:-5].upper() for k in hit_spec_dic.keys()]) - set([k.upper() for k in lncipedia_4.keys()]))"
   ]
  },
  {
   "cell_type": "markdown",
   "metadata": {},
   "source": [
    "## Сам тест:\n",
    "1) Предсказываем на всей lncipedia4\n",
    "\n",
    "2) Предсказываем только на пересечении найденных"
   ]
  },
  {
   "cell_type": "code",
   "execution_count": 130,
   "metadata": {},
   "outputs": [],
   "source": [
    "lnc4_pred = xgb.predict(np.array(lnc4_df.ix[:, :-1]))"
   ]
  },
  {
   "cell_type": "code",
   "execution_count": 131,
   "metadata": {},
   "outputs": [
    {
     "data": {
      "text/plain": [
       "15723"
      ]
     },
     "execution_count": 131,
     "metadata": {},
     "output_type": "execute_result"
    }
   ],
   "source": [
    "np.sum(lnc4_pred)"
   ]
  },
  {
   "cell_type": "markdown",
   "metadata": {},
   "source": [
    "#### Пересечение"
   ]
  },
  {
   "cell_type": "code",
   "execution_count": 129,
   "metadata": {},
   "outputs": [
    {
     "data": {
      "text/plain": [
       "41"
      ]
     },
     "execution_count": 129,
     "metadata": {},
     "output_type": "execute_result"
    }
   ],
   "source": [
    "lnc4_pred_1 = xgb.predict(np.array(lnc4_df.ix[intersection, :-1]))\n",
    "np.sum(lnc4_pred_1)"
   ]
  },
  {
   "cell_type": "code",
   "execution_count": 140,
   "metadata": {},
   "outputs": [
    {
     "name": "stdout",
     "output_type": "stream",
     "text": [
      "LINC00886:1\n",
      "HOXA10-AS:2\n",
      "GNAS-AS1:10\n",
      "LINC00467:10\n",
      "SGMS1-AS1:2\n",
      "LINC01488:1\n",
      "TRAF3IP2-AS1:1\n",
      "ZNF571-AS1:1\n",
      "LINC00211:4\n",
      "MFI2-AS1:13\n",
      "ZNF295-AS1:4\n",
      "WT1-AS:10\n",
      "LINC00607:1\n",
      "LOXL1-AS1:21\n",
      "LINC01435:8\n",
      "LINC00589:3\n",
      "TMEM72-AS1:2\n",
      "KCNJ2-AS1:2\n",
      "CTBP1-AS2:4\n",
      "LINC-PINT:18\n",
      "H1FX-AS1:3\n",
      "LINC01124:8\n",
      "H19:2\n",
      "ITGA9-AS1:20\n",
      "MCPH1-AS1:4\n",
      "LINC00941:4\n",
      "LINC00463:2\n",
      "LINC01471:13\n",
      "LINC00894:1\n",
      "UGDH-AS1:1\n",
      "DANT1:2\n",
      "DNAJC3-AS1:2\n",
      "GATA2-AS1:1\n",
      "PRKCQ-AS1:9\n",
      "FBXL19-AS1:2\n",
      "LINC01104:1\n",
      "LINC01591:4\n",
      "MAFG-AS1:4\n",
      "LINC00384:1\n",
      "SLC25A5-AS1:6\n",
      "CDRT7:1\n"
     ]
    }
   ],
   "source": [
    "with open(\"Coding_by_model_and_ms_lncip4.csv\", 'w') as fn:\n",
    "    for s in lnc4_df.ix[intersection, :-1].ix[lnc4_pred_1==1].index:\n",
    "        print(s)\n",
    "        fn.write(s+'\\n')"
   ]
  },
  {
   "cell_type": "markdown",
   "metadata": {},
   "source": [
    "### С предсказанием вероятностей"
   ]
  },
  {
   "cell_type": "code",
   "execution_count": 127,
   "metadata": {
    "collapsed": true
   },
   "outputs": [],
   "source": [
    "lnc4_pred_1_proba = xgb.predict_proba(np.array(lnc4_df.ix[intersection, :-1]))\n",
    "# np.sum(lnc4_pred_1)"
   ]
  },
  {
   "cell_type": "code",
   "execution_count": 128,
   "metadata": {},
   "outputs": [
    {
     "data": {
      "image/png": "[encoded data removed]",
      "text/plain": [
       "<matplotlib.figure.Figure at 0x7f17757f3e48>"
      ]
     },
     "metadata": {},
     "output_type": "display_data"
    }
   ],
   "source": [
    "plt.hist(lnc4_pred_1_proba[:, 1])\n",
    "plt.semilogy()\n",
    "plt.title(\"Распределение вероятностей быть кодирующим\\n среди последовательностей, найденных в крови\")\n",
    "plt.show()"
   ]
  },
  {
   "cell_type": "code",
   "execution_count": 123,
   "metadata": {},
   "outputs": [
    {
     "name": "stderr",
     "output_type": "stream",
     "text": [
      "  1%|          | 41/8000 [00:00<00:19, 406.95it/s]"
     ]
    },
    {
     "name": "stdout",
     "output_type": "stream",
     "text": [
      "type:  0\n"
     ]
    },
    {
     "name": "stderr",
     "output_type": "stream",
     "text": [
      "100%|██████████| 8000/8000 [00:20<00:00, 381.11it/s]\n",
      "  0%|          | 17/8000 [00:00<00:47, 167.78it/s]"
     ]
    },
    {
     "name": "stdout",
     "output_type": "stream",
     "text": [
      "type:  1\n"
     ]
    },
    {
     "name": "stderr",
     "output_type": "stream",
     "text": [
      "100%|██████████| 8000/8000 [00:39<00:00, 202.82it/s]\n"
     ]
    }
   ],
   "source": [
    "df_8mer_1 = make_df_from_dic([noncode,code], num_for_class = 8000, kmer=8)"
   ]
  },
  {
   "cell_type": "code",
   "execution_count": 125,
   "metadata": {
    "scrolled": true
   },
   "outputs": [
    {
     "data": {
      "text/plain": [
       "XGBClassifier(base_score=0.5, colsample_bylevel=1, colsample_bytree=1,\n",
       "       gamma=0, learning_rate=0.1, max_delta_step=0, max_depth=3,\n",
       "       min_child_weight=1, missing=None, n_estimators=100, nthread=-1,\n",
       "       objective='binary:logistic', reg_alpha=0, reg_lambda=1,\n",
       "       scale_pos_weight=1, seed=0, silent=True, subsample=1)"
      ]
     },
     "execution_count": 125,
     "metadata": {},
     "output_type": "execute_result"
    }
   ],
   "source": [
    "y = np.array(df_8mer_1.ix[:,-1], dtype=np.int32)\n",
    "X = np.array(df_8mer_1.ix[:,:-1])\n",
    "xgb.fit(X, y)"
   ]
  },
  {
   "cell_type": "code",
   "execution_count": null,
   "metadata": {
    "collapsed": true
   },
   "outputs": [],
   "source": []
  },
  {
   "cell_type": "code",
   "execution_count": null,
   "metadata": {
    "collapsed": true
   },
   "outputs": [],
   "source": []
  },
  {
   "cell_type": "code",
   "execution_count": null,
   "metadata": {
    "collapsed": true
   },
   "outputs": [],
   "source": []
  }
 ],
 "metadata": {
  "kernelspec": {
   "display_name": "Python 3",
   "language": "python",
   "name": "python3"
  },
  "language_info": {
   "codemirror_mode": {
    "name": "ipython",
    "version": 3
   },
   "file_extension": ".py",
   "mimetype": "text/x-python",
   "name": "python",
   "nbconvert_exporter": "python",
   "pygments_lexer": "ipython3",
   "version": "3.4.3"
  }
 },
 "nbformat": 4,
 "nbformat_minor": 2
}
