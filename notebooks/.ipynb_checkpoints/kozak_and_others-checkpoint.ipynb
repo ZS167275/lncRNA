{
 "cells": [
  {
   "cell_type": "code",
   "execution_count": 1,
   "metadata": {
    "collapsed": true
   },
   "outputs": [],
   "source": [
    "import pandas as pd\n",
    "import numpy as np\n",
    "import matplotlib\n",
    "from matplotlib import pyplot as plt\n",
    "matplotlib.style.use('ggplot')\n",
    "%matplotlib inline"
   ]
  },
  {
   "cell_type": "code",
   "execution_count": 2,
   "metadata": {
    "collapsed": true
   },
   "outputs": [],
   "source": [
    "def read_FASTA(file_name):\n",
    "    text = open(file_name, \"r\").read().split(\">\")\n",
    "    text = [x.split(\"\\n\") for x in text if x != \"\"]\n",
    "    text = [[x[0],\"\".join(x[1:]).upper()] for x in text]\n",
    "    return text"
   ]
  },
  {
   "cell_type": "code",
   "execution_count": 118,
   "metadata": {
    "collapsed": true
   },
   "outputs": [],
   "source": [
    "def kozak_feat(seq, find_num):\n",
    "\n",
    "    # first_feature {-3,+4}\n",
    "    # second -- {-2, -1}\n",
    "    # third -- {-6}\n",
    "    # method returns 3 boolean values,\n",
    "    # that mean find or not find for every feature\n",
    "\n",
    "\n",
    "    if find_num < 6:\n",
    "        return -1\n",
    "\n",
    "    else:\n",
    "        feat34 = 0\n",
    "        feat21 = 0\n",
    "        feat6 = 0\n",
    "\n",
    "        num6 = seq[find_num-6]\n",
    "        if len(seq) >= find_num+4:\n",
    "            num4 = seq[find_num+3]\n",
    "        else:\n",
    "            num4 = -1\n",
    "\n",
    "        num3 = seq[find_num-3]\n",
    "        num2 = seq[find_num-2]\n",
    "        num1 = seq[find_num-1]\n",
    "\n",
    "    if num6 == \"G\":\n",
    "        feat6 = 1\n",
    "    if num4 == \"G\" and (num3 == \"A\" or num3 == \"G\"):\n",
    "        feat34 = 1\n",
    "    if num2 == \"C\" and num1 == \"C\":\n",
    "        feat21 = 1\n",
    "\n",
    "    return feat34, feat21, feat6"
   ]
  },
  {
   "cell_type": "code",
   "execution_count": 3,
   "metadata": {
    "collapsed": true
   },
   "outputs": [],
   "source": [
    "coding_data = read_FASTA(\"../data/known_genes_19.fasta\")"
   ]
  },
  {
   "cell_type": "code",
   "execution_count": 5,
   "metadata": {
    "collapsed": true
   },
   "outputs": [],
   "source": [
    "lnc_data = read_FASTA(\"../data/lncipedia_3_1_hc.fasta\")"
   ]
  },
  {
   "cell_type": "code",
   "execution_count": 57,
   "metadata": {
    "collapsed": false
   },
   "outputs": [],
   "source": [
    "from cpmodule import orf\n",
    "import re"
   ]
  },
  {
   "cell_type": "code",
   "execution_count": 63,
   "metadata": {
    "collapsed": true
   },
   "outputs": [],
   "source": [
    "class ORFFinder1:\n",
    "    def __init__(self, seq, start_codons=['ATG'], stop_codons=['TAG', 'TAA', 'TGA']):\n",
    "\n",
    "        self.start_codons = start_codons\n",
    "        self.stop_codons = stop_codons\n",
    "        self.seq = seq.upper()\n",
    "        \n",
    "    def _pairwise_distances_(start_vec, stop_vec):\n",
    "        '''\n",
    "        start_vec, stop_vec -- numpy 1-d arrays with possibly different length;\n",
    "        function returns the matrix of pairwise distances between elements of vectors;\n",
    "        stop_vec -- expected to be the vector of stop_codons' locations.\n",
    "        Distance is positive value. Negative (and zero) distance is replaced by np.inf.\n",
    "        \n",
    "        '''\n",
    "        mtx = stop_vec - start_vec.reshape((len(start_vec), 1))\n",
    "        sh = mtx.shape\n",
    "        mtx = np.array([i if i > 0 else np.inf for i in mtx.flatten()]).reshape(sh)\n",
    "        return mtx\n",
    "        \n",
    "    \n",
    "    def _return_start_stop_(start_vec, stop_vec):\n",
    "        \n",
    "        '''\n",
    "        return positions of start and stop codons\n",
    "        with max distance between them without any stop \n",
    "        \n",
    "#         '''\n",
    "            \n",
    "        dist_mtx = ORFFinder1._pairwise_distances_(start_vec, stop_vec)\n",
    "        \n",
    "        ## just find raw with max element among min elements of the each row ##\n",
    "        indx_start = np.argmax([i if i is not np.inf else -1 for i in np.min(dist_mtx, axis = 1)])\n",
    "        \n",
    "        ## find column with min value for the row number [indx_start]\n",
    "        indx_stop = np.argmin(dist_mtx[indx_start])\n",
    "        return start_vec[indx_start], stop_vec[indx_stop]\n",
    "\n",
    "        \n",
    "        \n",
    "    def _find_three_starts_(self, patterns=['ATG']):\n",
    "\n",
    "        addrs = {0: [], 1: [], 2: []}\n",
    "        bag_of_start = []\n",
    "\n",
    "        for patt in patterns:\n",
    "            bag_of_start.extend([n.start() for n in re.finditer(patt, self.seq)])\n",
    "\n",
    "        if len(bag_of_start) == 0:\n",
    "            print(\"Pattern hasn't been found\")\n",
    "            return -1\n",
    "\n",
    "        for i in range(3):\n",
    "            lst = [j for j in bag_of_start if j % 3 == i]\n",
    "            if len(lst) == 0:\n",
    "                addrs[i] = -1\n",
    "                continue\n",
    "            addrs[i] = lst\n",
    "\n",
    "        return addrs\n",
    "\n",
    "    def find_three_longest(self):\n",
    "\n",
    "        start_addrs = self._find_three_starts_(patterns=self.start_codons)\n",
    "        stop_addrs = self._find_three_starts_(patterns=self.stop_codons)\n",
    "        \n",
    "        self.longests = []\n",
    "        for start_vec, stop_vec in zip(start_addrs.values(), stop_addrs.values()):\n",
    "            if (start_vec !=-1) and (stop_vec != -1):\n",
    "                start, stop = ORFFinder1._return_start_stop_(start_vec, stop_vec)\n",
    "                self.longests.append(self.seq[start:stop + 3])\n",
    "\n",
    "        return self.longests\n",
    "\n",
    "    def longest_orf(self):\n",
    "\n",
    "        find_max = lambda lst: lst[np.argmax([len(k) for k in lst])]\n",
    "        return find_max(self.find_three_longest())"
   ]
  },
  {
   "cell_type": "code",
   "execution_count": 72,
   "metadata": {
    "collapsed": false
   },
   "outputs": [
    {
     "data": {
      "text/plain": [
       "'ATGCCTAGAGTGGGATGGGCCATTGTTCATCTTCTGGCCCCTGTTGTCTGCATGTAACTTAATACCACAACCAGGCATAGGGGAAAGATTGGAGGAAAGATGAGTGAGAGCATCAACTTCTCTCACAACCTAGGCCAGCTCCTGTCTCCCCCCAGGTGTGTGGTGATGCCAGGCATGCCCTTCCCCAGCATCAGGTCTCCAGAGCTGCAGAAGACGACGGCCGACTTGGATCACACTCTTGTGAGTGTCCCCAGTGTTGCAGAGAGCCTCCACCACCCCGAGATCACATTTCTCACTGCCTTTTGTCTGCCCAGTTTCACCAGAAGTAGGCCTCTTCCTGACAGGCAGCTGCACCACTGCCTGGCGCTGTGCCCTTCCTTTGCTCTGCCCGCTGGAGACGGTGTTTGTCATGGGCCTGGTCTGCAGGGATCCTGCTACAAAGGTGAAACCCAGGAGAGTGTGGAGTCCAGAGTGTTGCCAGGACCCAGGCACAGGCATTAGTGCCCGTTGGAGAAAACAGGGGAATCCCGAAGAAATGGTGGGTCCTGGCCATCCGTGAGATCTTCCCAGGGCAGCTCCCCTCTGTGGAATCCAATCTGTCTTCCATCCTGCGTGGCCGAGGGCCAGGCTTCTCACTGGGCCTCTGCAGGAGGCTGCCATTTGTCCTGCCCACCTTCTTAGAAGCGAGACGGAGCAGACCCATCTGCTACTGCCCTTTCTATAATAACTAAAGTTAGCTGCCCTGGACTATTCACCCCCTAGTCTCAATTTAAGAAGATCCCCATGGCCACAGGGCCCCTGCCTGGGGGCTTGTCACCTCCCCCACCTTCTTCCTGAGTCATTCCTGCAGCCTTGCTCCCTAACCTGCCCCACAGCCTTGCCTGGATTTCTATCTCCCTGGCTTGGTGCCAGTTCCTCCAAGTCGATGGCACCTCCCTCCCTCTCAACCACTTGAGCAAACTCCAAGACATCTTCTACCCCAACACCAGCAATTGTGCCAAGGGCCATTAGGCTCTCAGCATGACTATTTTTAGAGACCCCGTGTCTGTCACTGAAACCTTTTTTGTGGGAGACTATTCCTCCCATCTGCAACAGCTGCCCCTGCTGACTGCCCTTCTCTCCTCCCTCTCATCCCAGAGAAACAGGTCAGCTGGGAGCTTCTGCCCCCACTGCCTAGGGACCAACAGGGGCAGGAGGCAGTCACTGACCCCGAGACGTTTGCATCCTGCACAGCTAGAGATCCTTTATTAA'"
      ]
     },
     "execution_count": 72,
     "metadata": {},
     "output_type": "execute_result"
    }
   ],
   "source": [
    "orf_1 = ORFFinder1(coding_data[1][1])\n",
    "orf_1.longest_orf()"
   ]
  },
  {
   "cell_type": "code",
   "execution_count": 76,
   "metadata": {
    "collapsed": false
   },
   "outputs": [
    {
     "data": {
      "text/plain": [
       "array([[ 0,  1,  2,  3],\n",
       "       [ 4,  5,  6,  7],\n",
       "       [ 8,  9, 10, 11],\n",
       "       [12, 13, 14, 15],\n",
       "       [16, 17, 18, 19]])"
      ]
     },
     "execution_count": 76,
     "metadata": {},
     "output_type": "execute_result"
    }
   ],
   "source": [
    "lol = np.array(range(20)).reshape(5,4)\n",
    "lol"
   ]
  },
  {
   "cell_type": "code",
   "execution_count": 125,
   "metadata": {
    "collapsed": false
   },
   "outputs": [
    {
     "data": {
      "text/plain": [
       "array([[ 0,  1,  2,  3,  4],\n",
       "       [-1,  0,  1,  2,  3],\n",
       "       [-2, -1,  0,  1,  2],\n",
       "       [-3, -2, -1,  0,  1]])"
      ]
     },
     "execution_count": 125,
     "metadata": {},
     "output_type": "execute_result"
    }
   ],
   "source": [
    "lol = b - a.reshape((len(a), 1))\n",
    "lol"
   ]
  },
  {
   "cell_type": "code",
   "execution_count": 126,
   "metadata": {
    "collapsed": false
   },
   "outputs": [
    {
     "data": {
      "text/plain": [
       "array([[ inf,   1.,   2.,   3.,   4.],\n",
       "       [ inf,  inf,   1.,   2.,   3.],\n",
       "       [ inf,  inf,  inf,   1.,   2.],\n",
       "       [ inf,  inf,  inf,  inf,   1.]])"
      ]
     },
     "execution_count": 126,
     "metadata": {},
     "output_type": "execute_result"
    }
   ],
   "source": [
    "sh = lol.shape\n",
    "lol = np.array([i if i > 0 else np.inf for i in lol.flatten()]).reshape(sh)\n",
    "lol"
   ]
  },
  {
   "cell_type": "code",
   "execution_count": 120,
   "metadata": {
    "collapsed": false
   },
   "outputs": [
    {
     "data": {
      "text/plain": [
       "array([ 1.,  2.,  3.,  4.,  1.,  2.,  3.,  1.,  2.,  1.])"
      ]
     },
     "execution_count": 120,
     "metadata": {},
     "output_type": "execute_result"
    }
   ],
   "source": [
    "lol[~np.isinf(lol)]"
   ]
  },
  {
   "cell_type": "code",
   "execution_count": 127,
   "metadata": {
    "collapsed": false
   },
   "outputs": [
    {
     "data": {
      "text/plain": [
       "[1.0, 1.0, 1.0, 1.0]"
      ]
     },
     "execution_count": 127,
     "metadata": {},
     "output_type": "execute_result"
    }
   ],
   "source": [
    "[i if i is not np.inf else -1 for i in np.min(lol, axis = 1)]"
   ]
  },
  {
   "cell_type": "code",
   "execution_count": 123,
   "metadata": {
    "collapsed": false
   },
   "outputs": [
    {
     "data": {
      "text/plain": [
       "1.0"
      ]
     },
     "execution_count": 123,
     "metadata": {},
     "output_type": "execute_result"
    }
   ],
   "source": [
    "np.min(lol[0])"
   ]
  },
  {
   "cell_type": "code",
   "execution_count": null,
   "metadata": {
    "collapsed": true
   },
   "outputs": [],
   "source": [
    "np.arg"
   ]
  },
  {
   "cell_type": "code",
   "execution_count": 96,
   "metadata": {
    "collapsed": false
   },
   "outputs": [
    {
     "name": "stdout",
     "output_type": "stream",
     "text": [
      "[0 1 2 3]\n",
      "[0 1 2 3 4]\n"
     ]
    }
   ],
   "source": [
    "a = np.array(range(4))\n",
    "b = np.array(range(5))\n",
    "print(a)\n",
    "print(b)"
   ]
  },
  {
   "cell_type": "code",
   "execution_count": 99,
   "metadata": {
    "collapsed": false
   },
   "outputs": [
    {
     "data": {
      "text/plain": [
       "(0, 4)"
      ]
     },
     "execution_count": 99,
     "metadata": {},
     "output_type": "execute_result"
    }
   ],
   "source": [
    "np.unravel_index(lol.argmax(), lol.shape)"
   ]
  },
  {
   "cell_type": "code",
   "execution_count": 75,
   "metadata": {
    "collapsed": false
   },
   "outputs": [
    {
     "data": {
      "text/plain": [
       "'TGAGTGAGAGCATCAACTTCTCTCACAACCTAGGCCAGCTCCTGTCTCCCCCCAGGTGTGTGGTGATGCCAGGCATGCCCTTCCCCAGCATCAGGTCTCCAGAGCTGCAGAAGACGACGGCCGACTTGGATCACACTCTTGTGAGTGTCCCCAGTGTTGCAGAGAGCCTCCACCACCCCGAGATCACATTTCTCACTGCCTTTTGTCTGCCCAGTTTCACCAGAAGTAGGCCTCTTCCTGACAGGCAGCTGCACCACTGCCTGGCGCTGTGCCCTTCCTTTGCTCTGCCCGCTGGAGACGGTGTTTGTCATGGGCCTGGTCTGCAGGGATCCTGCTACAAAGGTGAAACCCAGGAGAGTGTGGAGTCCAGAGTGTTGCCAGGACCCAGGCACAGGCATT'"
      ]
     },
     "execution_count": 75,
     "metadata": {},
     "output_type": "execute_result"
    }
   ],
   "source": [
    "coding_data[1][1][317:716]"
   ]
  },
  {
   "cell_type": "code",
   "execution_count": 74,
   "metadata": {
    "collapsed": false
   },
   "outputs": [
    {
     "data": {
      "text/plain": [
       "'ATGAGTGAGAGCATCAACTTCTCTCACAACCTAGGCCAGCTCCTGTCTCCCCCCAGGTGTGTGGTGATGCCAGGCATGCCCTTCCCCAGCATCAGGTCTCCAGAGCTGCAGAAGACGACGGCCGACTTGGATCACACTCTTGTGAGTGTCCCCAGTGTTGCAGAGAGCCTCCACCACCCCGAGATCACATTTCTCACTGCCTTTTGTCTGCCCAGTTTCACCAGAAGTAGGCCTCTTCCTGACAGGCAGCTGCACCACTGCCTGGCGCTGTGCCCTTCCTTTGCTCTGCCCGCTGGAGACGGTGTTTGTCATGGGCCTGGTCTGCAGGGATCCTGCTACAAAGGTGAAACCCAGGAGAGTGTGGAGTCCAGAGTGTTGCCAGGACCCAGGCACAGGCATTAG'"
      ]
     },
     "execution_count": 74,
     "metadata": {},
     "output_type": "execute_result"
    }
   ],
   "source": [
    "tmp = orf.ORFFinder(coding_data[1][1])\n",
    "lol = tmp.longest_orf(direction=\"+\")\n",
    "lol[2]"
   ]
  },
  {
   "cell_type": "code",
   "execution_count": 73,
   "metadata": {
    "collapsed": false
   },
   "outputs": [
    {
     "data": {
      "text/plain": [
       "'CTTGCCGTCAGCCTTTTCTTTGACCTCTTCTTTCTGTTCATGTGTATTTGCTGTCTCTTAGCCCAGACTTCCCGTGTCCTTTCCACCGGGCCTTTGAGAGGTCACAGGGTCTTGATGCTGTGGTCTTCATCTGCAGGTGTCTGACTTCCAGCAACTGCTGGCCTGTGCCAGGGTGCAAGCTGAGCACTGGAGTGGAGTTTTCCTGTGGAGAGGAGCCATGCCTAGAGTGGGATGGGCCATTGTTCATCTTCTGGCCCCTGTTGTCTGCATGTAACTTAATACCACAACCAGGCATAGGGGAAAGATTGGAGGAAAGATGAGTGAGAGCATCAACTTCTCTCACAACCTAGGCCAGCTCCTGTCTCCCCCCAGGTGTGTGGTGATGCCAGGCATGCCCTTCCCCAGCATCAGGTCTCCAGAGCTGCAGAAGACGACGGCCGACTTGGATCACACTCTTGTGAGTGTCCCCAGTGTTGCAGAGAGCCTCCACCACCCCGAGATCACATTTCTCACTGCCTTTTGTCTGCCCAGTTTCACCAGAAGTAGGCCTCTTCCTGACAGGCAGCTGCACCACTGCCTGGCGCTGTGCCCTTCCTTTGCTCTGCCCGCTGGAGACGGTGTTTGTCATGGGCCTGGTCTGCAGGGATCCTGCTACAAAGGTGAAACCCAGGAGAGTGTGGAGTCCAGAGTGTTGCCAGGACCCAGGCACAGGCATTAGTGCCCGTTGGAGAAAACAGGGGAATCCCGAAGAAATGGTGGGTCCTGGCCATCCGTGAGATCTTCCCAGGGCAGCTCCCCTCTGTGGAATCCAATCTGTCTTCCATCCTGCGTGGCCGAGGGCCAGGCTTCTCACTGGGCCTCTGCAGGAGGCTGCCATTTGTCCTGCCCACCTTCTTAGAAGCGAGACGGAGCAGACCCATCTGCTACTGCCCTTTCTATAATAACTAAAGTTAGCTGCCCTGGACTATTCACCCCCTAGTCTCAATTTAAGAAGATCCCCATGGCCACAGGGCCCCTGCCTGGGGGCTTGTCACCTCCCCCACCTTCTTCCTGAGTCATTCCTGCAGCCTTGCTCCCTAACCTGCCCCACAGCCTTGCCTGGATTTCTATCTCCCTGGCTTGGTGCCAGTTCCTCCAAGTCGATGGCACCTCCCTCCCTCTCAACCACTTGAGCAAACTCCAAGACATCTTCTACCCCAACACCAGCAATTGTGCCAAGGGCCATTAGGCTCTCAGCATGACTATTTTTAGAGACCCCGTGTCTGTCACTGAAACCTTTTTTGTGGGAGACTATTCCTCCCATCTGCAACAGCTGCCCCTGCTGACTGCCCTTCTCTCCTCCCTCTCATCCCAGAGAAACAGGTCAGCTGGGAGCTTCTGCCCCCACTGCCTAGGGACCAACAGGGGCAGGAGGCAGTCACTGACCCCGAGACGTTTGCATCCTGCACAGCTAGAGATCCTTTATTAAAAGCACACTGTTGGTTTCTG'"
      ]
     },
     "execution_count": 73,
     "metadata": {},
     "output_type": "execute_result"
    }
   ],
   "source": [
    "coding_data[1][1]"
   ]
  },
  {
   "cell_type": "code",
   "execution_count": 71,
   "metadata": {
    "collapsed": false
   },
   "outputs": [
    {
     "data": {
      "text/plain": [
       "'ATGACTATTTTTAGAGACCCCGTGTCTGTCACTGAAACCTTTTTTGTGGGAGACTATTCCTCCCATCTGCAACAGCTGCCCCTGCTGACTGCCCTTCTCTCCTCCCTCTCATCCCAGAGAAACAGGTCAGCTGGGAGCTTCTGCCCCCACTGCCTAGGGACCAACAGGGGCAGGAGGCAGTCACTGACCCCGAGACGTTTGCATCCTGCACAGCTAGAGATCCTTTATTAA'"
      ]
     },
     "execution_count": 71,
     "metadata": {},
     "output_type": "execute_result"
    }
   ],
   "source": [
    "lol[2]"
   ]
  },
  {
   "cell_type": "code",
   "execution_count": 13,
   "metadata": {
    "collapsed": false
   },
   "outputs": [
    {
     "data": {
      "text/plain": [
       "[0, 5, 10, 15]"
      ]
     },
     "execution_count": 13,
     "metadata": {},
     "output_type": "execute_result"
    }
   ],
   "source": [
    "[m.start() for m in re.finditer('test', 'test test test test')]"
   ]
  },
  {
   "cell_type": "code",
   "execution_count": 8,
   "metadata": {
    "collapsed": true
   },
   "outputs": [],
   "source": [
    "seq_test = coding_data[0][1]"
   ]
  },
  {
   "cell_type": "code",
   "execution_count": 21,
   "metadata": {
    "collapsed": false
   },
   "outputs": [
    {
     "data": {
      "text/plain": [
       "[1, 2, 3, 4, [1, 34, 6, 7]]"
      ]
     },
     "execution_count": 21,
     "metadata": {},
     "output_type": "execute_result"
    }
   ],
   "source": [
    "lol = []\n",
    "lol.extend([1,2,3,4])\n",
    "lol.append([1,34,6,7])\n",
    "lol"
   ]
  },
  {
   "cell_type": "code",
   "execution_count": 37,
   "metadata": {
    "collapsed": true
   },
   "outputs": [],
   "source": [
    "def find_three_starts(seq, patterns = ['ATG'], fun = np.min):\n",
    "    \n",
    "    addrs = {0:[], 1:[], 2:[]}\n",
    "    bag_of_start = []\n",
    "    \n",
    "    for patt in patterns:\n",
    "        bag_of_start.extend([n.start() for n in re.finditer(patt, seq)])\n",
    "    \n",
    "    if len(bag_of_start) == 0:\n",
    "        print(\"Pattern hasn't been found\")\n",
    "        return -1\n",
    "    \n",
    "    for i in range(3):\n",
    "        lst = [j for j in bag_of_start if j%3 == i]\n",
    "        if len(lst) == 0:\n",
    "            addrs[i] = -1\n",
    "            continue\n",
    "        addrs[i] = fun(lst)\n",
    "    \n",
    "    return addrs"
   ]
  },
  {
   "cell_type": "code",
   "execution_count": 38,
   "metadata": {
    "collapsed": false
   },
   "outputs": [
    {
     "name": "stdout",
     "output_type": "stream",
     "text": [
      "{0: 39, 1: 217, 2: -1}\n",
      "{0: 1629, 1: 1615, 2: 1433}\n"
     ]
    }
   ],
   "source": [
    "stop_coden=['TAG', 'TAA', 'TGA']\n",
    "\n",
    "start_addrs = find_three_starts(seq_test)\n",
    "stop_addrs = find_three_starts(seq_test, stop_coden, fun = np.max)\n",
    "print start_addrs\n",
    "print stop_addrs"
   ]
  },
  {
   "cell_type": "code",
   "execution_count": 62,
   "metadata": {
    "collapsed": false
   },
   "outputs": [
    {
     "data": {
      "text/plain": [
       "'ATGTGTATTTGCTGTCTCTTAGCCCAGACTTCCCGTGTCCTTTCCACCGGGCCTTTGAGAGGTCACAGGGTCTTGATGCTGTGGTCTTCATCTGCAGGTGTCTGACTTCCAGCAACTGCTGGCCTGTGCCAGGGTGCAAGCTGAGCACTGGAGTGGAGTTTTCCTGTGGAGAGGAGCCATGCCTAGAGTGGGATGGGCCATTGTTCATCTTCTGGCCCCTGTTGTCTGCATGTAACTTAATACCACAACCAGGCATAGGGGAAAGATTGGAGGAAAGATGAGTGAGAGCATCAACTTCTCTCACAACCTAGGCCAGTGTGTGGTGATGCCAGGCATGCCCTTCCCCAGCATCAGGTCTCCAGAGCTGCAGAAGACGACGGCCGACTTGGATCACACTCTTGTGAGTGTCCCCAGTGTTGCAGAGGCAGGGCCATCAGGCACCAAAGGGATTCTGCCAGCATAGTGCTCCTGGACCAGTGATACACCCGGCACCCTGTCCTGGACACGCTGTTGGCCTGGATCTGAGCCCTGGTGGAGGTCAAAGCCACCTTTGGTTCTGCCATTGCTGCTGTGTGGAAGTTCACTCCTGCCTTTTCCTTTCCCTAGAGCCTCCACCACCCCGAGATCACATTTCTCACTGCCTTTTGTCTGCCCAGTTTCACCAGAAGTAGGCCTCTTCCTGACAGGCAGCTGCACCACTGCCTGGCGCTGTGCCCTTCCTTTGCTCTGCCCGCTGGAGACGGTGTTTGTCATGGGCCTGGTCTGCAGGGATCCTGCTACAAAGGTGAAACCCAGGAGAGTGTGGAGTCCAGAGTGTTGCCAGGACCCAGGCACAGGCATTAGTGCCCGTTGGAGAAAACAGGGGAATCCCGAAGAAATGGTGGGTCCTGGCCATCCGTGAGATCTTCCCAGGGCAGCTCCCCTCTGTGGAATCCAATCTGTCTTCCATCCTGCGTGGCCGAGGGCCAGGCTTCTCACTGGGCCTCTGCAGGAGGCTGCCATTTGTCCTGCCCACCTTCTTAGAAGCGAGACGGAGCAGACCCATCTGCTACTGCCCTTTCTATAATAACTAAAGTTAGCTGCCCTGGACTATTCACCCCCTAGTCTCAATTTAAGAAGATCCCCATGGCCACAGGGCCCCTGCCTGGGGGCTTGTCACCTCCCCCACCTTCTTCCTGAGTCATTCCTGCAGCCTTGCTCCCTAACCTGCCCCACAGCCTTGCCTGGATTTCTATCTCCCTGGCTTGGTGCCAGTTCCTCCAAGTCGATGGCACCTCCCTCCCTCTCAACCACTTGAGCAAACTCCAAGACATCTTCTACCCCAACACCAGCAATTGTGCCAAGGGCCATTAGGCTCTCAGCATGACTATTTTTAGAGACCCCGTGTCTGTCACTGAAACCTTTTTTGTGGGAGACTATTCCTCCCATCTGCAACAGCTGCCCCTGCTGACTGCCCTTCTCTCCTCCCTCTCATCCCAGAGAAACAGGTCAGCTGGGAGCTTCTGCCCCCACTGCCTAGGGACCAACAGGGGCAGGAGGCAGTCACTGACCCCGAGACGTTTGCATCCTGCACAGCTAGAGATCCTTTATTAA'"
      ]
     },
     "execution_count": 62,
     "metadata": {},
     "output_type": "execute_result"
    }
   ],
   "source": [
    "seq_test[39:1629+3]"
   ]
  },
  {
   "cell_type": "code",
   "execution_count": 50,
   "metadata": {
    "collapsed": false
   },
   "outputs": [
    {
     "data": {
      "text/plain": [
       "'ATGACTATTTTTAGAGACCCCGTGTCTGTCACTGAAACCTTTTTTGTGGGAGACTATTCCTCCCATCTGCAACAGCTGCCCCTGCTGACTGCCCTTCTCTCCTCCCTCTCATCCCAGAGAAACAGGTCAGCTGGGAGCTTCTGCCCCCACTGCCTAGGGACCAACAGGGGCAGGAGGCAGTCACTGACCCCGAGACGTTTGCATCCTGCACAGCTAGAGATCCTTTATTAA'"
      ]
     },
     "execution_count": 50,
     "metadata": {},
     "output_type": "execute_result"
    }
   ],
   "source": [
    "res"
   ]
  },
  {
   "cell_type": "code",
   "execution_count": 116,
   "metadata": {
    "collapsed": true
   },
   "outputs": [],
   "source": [
    "def find_kozak_feat(seq):\n",
    "\n",
    "    atg_addr = [m.start() for m in re.finditer(\"ATG\", seq)]\n",
    "    atg_feat = []\n",
    "    feat_all = False\n",
    "\n",
    "    if len(atg_addr) <1:\n",
    "        return (0,0,0)\n",
    "\n",
    "    for atg in atg_addr:\n",
    "        feat_all = kozak_feat(seq, atg)\n",
    "        atg_feat.append(feat_all)\n",
    "        if feat_all == -1:\n",
    "            return (0,0,0)\n",
    "        if feat_all == (1, 1, 1):\n",
    "            feat_all = 1\n",
    "            break\n",
    "\n",
    "    if feat_all==1:\n",
    "        return (1, 1, 1)\n",
    "    else:\n",
    "        return atg_feat[np.argmax([sum(i) for i in atg_feat])]"
   ]
  },
  {
   "cell_type": "code",
   "execution_count": 119,
   "metadata": {
    "collapsed": false
   },
   "outputs": [
    {
     "data": {
      "text/plain": [
       "(0, 0, 0)"
      ]
     },
     "execution_count": 119,
     "metadata": {},
     "output_type": "execute_result"
    }
   ],
   "source": [
    "find_kozak_feat('dfgsdfhsdhfghfgh')"
   ]
  },
  {
   "cell_type": "code",
   "execution_count": null,
   "metadata": {
    "collapsed": true
   },
   "outputs": [],
   "source": []
  },
  {
   "cell_type": "code",
   "execution_count": 114,
   "metadata": {
    "collapsed": false
   },
   "outputs": [
    {
     "data": {
      "text/plain": [
       "(1, 0, 0)"
      ]
     },
     "execution_count": 114,
     "metadata": {},
     "output_type": "execute_result"
    }
   ],
   "source": [
    "find_kozak_feat(coding_data[45][1])"
   ]
  },
  {
   "cell_type": "code",
   "execution_count": 103,
   "metadata": {
    "collapsed": false
   },
   "outputs": [
    {
     "data": {
      "text/plain": [
       "['uc021oej.1', 'TGCAACTTACTGAGGGCTTTGAA']"
      ]
     },
     "execution_count": 103,
     "metadata": {},
     "output_type": "execute_result"
    }
   ],
   "source": [
    "coding_data[34]"
   ]
  },
  {
   "cell_type": "code",
   "execution_count": 127,
   "metadata": {
    "collapsed": false
   },
   "outputs": [
    {
     "data": {
      "text/html": [
       "<div>\n",
       "<table border=\"1\" class=\"dataframe\">\n",
       "  <thead>\n",
       "    <tr style=\"text-align: right;\">\n",
       "      <th></th>\n",
       "      <th>sname</th>\n",
       "      <th>mRNA_size</th>\n",
       "      <th>ORF_size</th>\n",
       "      <th>fickett_score</th>\n",
       "      <th>hexamer</th>\n",
       "      <th>gc_content</th>\n",
       "      <th>kozak34</th>\n",
       "      <th>kozak21</th>\n",
       "      <th>kozak6</th>\n",
       "    </tr>\n",
       "  </thead>\n",
       "  <tbody>\n",
       "    <tr>\n",
       "      <th>0</th>\n",
       "      <td>LNC-C8ORF56-1:8</td>\n",
       "      <td>291</td>\n",
       "      <td>174</td>\n",
       "      <td>0.7766</td>\n",
       "      <td>0.028280</td>\n",
       "      <td>0.474227</td>\n",
       "      <td>0</td>\n",
       "      <td>0</td>\n",
       "      <td>0</td>\n",
       "    </tr>\n",
       "    <tr>\n",
       "      <th>1</th>\n",
       "      <td>LNC-PRYP4-3:1</td>\n",
       "      <td>211</td>\n",
       "      <td>201</td>\n",
       "      <td>0.6739</td>\n",
       "      <td>-0.173233</td>\n",
       "      <td>0.364929</td>\n",
       "      <td>0</td>\n",
       "      <td>0</td>\n",
       "      <td>0</td>\n",
       "    </tr>\n",
       "    <tr>\n",
       "      <th>2</th>\n",
       "      <td>LNC-TTLL7-2:5</td>\n",
       "      <td>1991</td>\n",
       "      <td>168</td>\n",
       "      <td>1.1165</td>\n",
       "      <td>-0.076589</td>\n",
       "      <td>0.433451</td>\n",
       "      <td>1</td>\n",
       "      <td>0</td>\n",
       "      <td>1</td>\n",
       "    </tr>\n",
       "    <tr>\n",
       "      <th>3</th>\n",
       "      <td>LNC-CLEC18B-3:5</td>\n",
       "      <td>966</td>\n",
       "      <td>156</td>\n",
       "      <td>0.7548</td>\n",
       "      <td>-0.277914</td>\n",
       "      <td>0.467909</td>\n",
       "      <td>1</td>\n",
       "      <td>1</td>\n",
       "      <td>0</td>\n",
       "    </tr>\n",
       "    <tr>\n",
       "      <th>4</th>\n",
       "      <td>LNC-GPR119-1:1</td>\n",
       "      <td>1646</td>\n",
       "      <td>273</td>\n",
       "      <td>0.7536</td>\n",
       "      <td>0.075378</td>\n",
       "      <td>0.458688</td>\n",
       "      <td>1</td>\n",
       "      <td>0</td>\n",
       "      <td>1</td>\n",
       "    </tr>\n",
       "  </tbody>\n",
       "</table>\n",
       "</div>"
      ],
      "text/plain": [
       "             sname  mRNA_size  ORF_size  fickett_score   hexamer  gc_content  \\\n",
       "0  LNC-C8ORF56-1:8        291       174         0.7766  0.028280    0.474227   \n",
       "1    LNC-PRYP4-3:1        211       201         0.6739 -0.173233    0.364929   \n",
       "2    LNC-TTLL7-2:5       1991       168         1.1165 -0.076589    0.433451   \n",
       "3  LNC-CLEC18B-3:5        966       156         0.7548 -0.277914    0.467909   \n",
       "4   LNC-GPR119-1:1       1646       273         0.7536  0.075378    0.458688   \n",
       "\n",
       "   kozak34  kozak21  kozak6  \n",
       "0        0        0       0  \n",
       "1        0        0       0  \n",
       "2        1        0       1  \n",
       "3        1        1       0  \n",
       "4        1        0       1  "
      ]
     },
     "execution_count": 127,
     "metadata": {},
     "output_type": "execute_result"
    }
   ],
   "source": [
    "lol = pd.read_csv(\"../scripts/my_model/lnc_table.csv.txt\", sep = '\\t')\n",
    "lol.shape\n",
    "lol.head()"
   ]
  },
  {
   "cell_type": "code",
   "execution_count": 131,
   "metadata": {
    "collapsed": false
   },
   "outputs": [
    {
     "data": {
      "text/html": [
       "<div>\n",
       "<table border=\"1\" class=\"dataframe\">\n",
       "  <thead>\n",
       "    <tr style=\"text-align: right;\">\n",
       "      <th></th>\n",
       "      <th></th>\n",
       "      <th></th>\n",
       "      <th></th>\n",
       "      <th></th>\n",
       "      <th></th>\n",
       "      <th></th>\n",
       "      <th></th>\n",
       "      <th>##gff-version 3</th>\n",
       "    </tr>\n",
       "  </thead>\n",
       "  <tbody>\n",
       "    <tr>\n",
       "      <th rowspan=\"2\" valign=\"top\">chr8</th>\n",
       "      <th rowspan=\"2\" valign=\"top\">lncipedia.org</th>\n",
       "      <th rowspan=\"2\" valign=\"top\">exon</th>\n",
       "      <th>104203457</th>\n",
       "      <th>104203674</th>\n",
       "      <th>.</th>\n",
       "      <th>-</th>\n",
       "      <th>.</th>\n",
       "      <td>Parent=lnc-C8orf56-1:8;gene_id=lnc-C8orf56-1;t...</td>\n",
       "    </tr>\n",
       "    <tr>\n",
       "      <th>104215026</th>\n",
       "      <th>104215098</th>\n",
       "      <th>.</th>\n",
       "      <th>-</th>\n",
       "      <th>.</th>\n",
       "      <td>Parent=lnc-C8orf56-1:8;gene_id=lnc-C8orf56-1;t...</td>\n",
       "    </tr>\n",
       "    <tr>\n",
       "      <th rowspan=\"3\" valign=\"top\">chr1</th>\n",
       "      <th rowspan=\"3\" valign=\"top\">lncipedia.org</th>\n",
       "      <th rowspan=\"3\" valign=\"top\">exon</th>\n",
       "      <th>84267199</th>\n",
       "      <th>84268934</th>\n",
       "      <th>.</th>\n",
       "      <th>-</th>\n",
       "      <th>.</th>\n",
       "      <td>Parent=lnc-TTLL7-2:5;gene_id=lnc-TTLL7-2;trans...</td>\n",
       "    </tr>\n",
       "    <tr>\n",
       "      <th>84315590</th>\n",
       "      <th>84315705</th>\n",
       "      <th>.</th>\n",
       "      <th>-</th>\n",
       "      <th>.</th>\n",
       "      <td>Parent=lnc-TTLL7-2:5;gene_id=lnc-TTLL7-2;trans...</td>\n",
       "    </tr>\n",
       "    <tr>\n",
       "      <th>84326091</th>\n",
       "      <th>84326229</th>\n",
       "      <th>.</th>\n",
       "      <th>-</th>\n",
       "      <th>.</th>\n",
       "      <td>Parent=lnc-TTLL7-2:5;gene_id=lnc-TTLL7-2;trans...</td>\n",
       "    </tr>\n",
       "  </tbody>\n",
       "</table>\n",
       "</div>"
      ],
      "text/plain": [
       "                                                                                     ##gff-version 3\n",
       "chr8 lncipedia.org exon 104203457 104203674 . - .  Parent=lnc-C8orf56-1:8;gene_id=lnc-C8orf56-1;t...\n",
       "                        104215026 104215098 . - .  Parent=lnc-C8orf56-1:8;gene_id=lnc-C8orf56-1;t...\n",
       "chr1 lncipedia.org exon 84267199  84268934  . - .  Parent=lnc-TTLL7-2:5;gene_id=lnc-TTLL7-2;trans...\n",
       "                        84315590  84315705  . - .  Parent=lnc-TTLL7-2:5;gene_id=lnc-TTLL7-2;trans...\n",
       "                        84326091  84326229  . - .  Parent=lnc-TTLL7-2:5;gene_id=lnc-TTLL7-2;trans..."
      ]
     },
     "execution_count": 131,
     "metadata": {},
     "output_type": "execute_result"
    }
   ],
   "source": [
    "gff_lnc = pd.read_csv(\"../data/lncipedia_3_1_hc.gff\", sep = \"\\t\")\n",
    "gff_lnc.head()"
   ]
  },
  {
   "cell_type": "code",
   "execution_count": 166,
   "metadata": {
    "collapsed": false
   },
   "outputs": [
    {
     "data": {
      "text/plain": [
       "'chr1\\thg19_knownGene\\texon\\t11874\\t12227\\t0.000000\\t+\\t.\\tgene_id \"uc001aaa.3\"; transcript_id \"uc001aaa.3\"; \\n'"
      ]
     },
     "execution_count": 166,
     "metadata": {},
     "output_type": "execute_result"
    }
   ],
   "source": [
    "gtf = open(\"../data/lncipedia_3_1_hc.gtf\", 'r').readlines()\n",
    "gtf[0]"
   ]
  },
  {
   "cell_type": "code",
   "execution_count": 193,
   "metadata": {
    "collapsed": false
   },
   "outputs": [
    {
     "data": {
      "text/plain": [
       "'chr8\\tlncipedia.org\\texon\\t104203457\\t104203674\\t.\\t-\\t.\\tgene_id lnc-C8orf56-1 ; transcript_id lnc-C8orf56-1:8 ; gene_alias_1 ENSG00000247081 ; gene_alias_2 RP11-318M2.2 ; gene_alias_3 ENSG00000247081.2 ; gene_alias_4 OTTHUMG00000164798.3 ; gene_alias_5 ENSG00000247081.3 ; transcript_alias_1 ENST00000523915 ; transcript_alias_2 ENST00000523915.1 ; transcript_alias_3 RP11-318M2.2-009 ; transcript_alias_4 OTTHUMT00000380358.1 ; transcript_alias_5 NONHSAT128163 ;\\n'"
      ]
     },
     "execution_count": 193,
     "metadata": {},
     "output_type": "execute_result"
    }
   ],
   "source": [
    "gtf = open(\"../data/lncipedia_3_1_hc.gtf\", 'r').readlines()\n",
    "gtf[1]"
   ]
  },
  {
   "cell_type": "code",
   "execution_count": 194,
   "metadata": {
    "collapsed": false
   },
   "outputs": [
    {
     "data": {
      "text/plain": [
       "['chr8',\n",
       " 'lncipedia.org',\n",
       " 'exon',\n",
       " '104203457',\n",
       " '104203674',\n",
       " '.',\n",
       " '-',\n",
       " '.',\n",
       " 'gene_id lnc-C8orf56-1 ']"
      ]
     },
     "execution_count": 194,
     "metadata": {},
     "output_type": "execute_result"
    }
   ],
   "source": [
    "gtf[1].split(\";\")[0].split('\\t')"
   ]
  },
  {
   "cell_type": "code",
   "execution_count": 195,
   "metadata": {
    "collapsed": false
   },
   "outputs": [
    {
     "data": {
      "text/plain": [
       "'transcript_id'"
      ]
     },
     "execution_count": 195,
     "metadata": {},
     "output_type": "execute_result"
    }
   ],
   "source": [
    "gtf[1].split(\";\")[1].split(' ')[1]"
   ]
  },
  {
   "cell_type": "code",
   "execution_count": 196,
   "metadata": {
    "collapsed": false
   },
   "outputs": [
    {
     "data": {
      "text/plain": [
       "['chr8\\tlncipedia.org\\texon\\t104203457\\t104203674\\t.\\t-\\t.\\tgene_id lnc-C8orf56-1 ',\n",
       " ' transcript_id lnc-C8orf56-1:8 ',\n",
       " ' gene_alias_1 ENSG00000247081 ',\n",
       " ' gene_alias_2 RP11-318M2.2 ',\n",
       " ' gene_alias_3 ENSG00000247081.2 ',\n",
       " ' gene_alias_4 OTTHUMG00000164798.3 ',\n",
       " ' gene_alias_5 ENSG00000247081.3 ',\n",
       " ' transcript_alias_1 ENST00000523915 ',\n",
       " ' transcript_alias_2 ENST00000523915.1 ',\n",
       " ' transcript_alias_3 RP11-318M2.2-009 ',\n",
       " ' transcript_alias_4 OTTHUMT00000380358.1 ',\n",
       " ' transcript_alias_5 NONHSAT128163 ',\n",
       " '\\n']"
      ]
     },
     "execution_count": 196,
     "metadata": {},
     "output_type": "execute_result"
    }
   ],
   "source": [
    "gtf[1].split(\";\")"
   ]
  },
  {
   "cell_type": "code",
   "execution_count": 198,
   "metadata": {
    "collapsed": false
   },
   "outputs": [
    {
     "data": {
      "text/plain": [
       "'lnc-C8orf56-1:8'"
      ]
     },
     "execution_count": 198,
     "metadata": {},
     "output_type": "execute_result"
    }
   ],
   "source": [
    "tmp = gtf[1].split(';')\n",
    "name = tmp[1].split(' ')[2] if tmp[1].split(' ')[1].startswith('transcript_id') else None\n",
    "name"
   ]
  },
  {
   "cell_type": "code",
   "execution_count": 202,
   "metadata": {
    "collapsed": false
   },
   "outputs": [],
   "source": [
    "def gtf_parser_hg(file_name, drop_n_first_lines = 1 ):\n",
    "    \n",
    "    exon_length = {}\n",
    "    gtf = []\n",
    "    \n",
    "    with open(file_name, 'r') as f:\n",
    "        gtf = f.readlines()\n",
    "    \n",
    "    gtf = gtf[drop_n_first_lines:]\n",
    "    \n",
    "    for line in gtf:\n",
    "        tmp = line.split(';')\n",
    "        name = tmp[1].split(' ')[2] if tmp[1].split(' ')[1].startswith('transcript_id') else None\n",
    "        tmp = tmp[0].split('\\t')\n",
    "        exon = int(tmp[4]) - int(tmp[3]) if tmp[2] == 'exon' else None\n",
    "        \n",
    "        if name is None:\n",
    "            print(\"Incorrect data format. Use gtf file!\")\n",
    "            return -1\n",
    "        elif exon is None:\n",
    "            continue\n",
    "        else:\n",
    "            if name in exon_length:\n",
    "                exon_length[name].append(exon)\n",
    "            else:\n",
    "                exon_length[name] = [exon]\n",
    "                \n",
    "    res_max = {key:max(val) for key,val in exon_length.items()}\n",
    "    res_mean = {key:np.mean(val) for key,val in exon_length.items()}\n",
    "    res_num = {key:len(val) for key,val in exon_length.items()}\n",
    "    return res_max, res_mean, res_num"
   ]
  },
  {
   "cell_type": "code",
   "execution_count": 142,
   "metadata": {
    "collapsed": false
   },
   "outputs": [
    {
     "data": {
      "text/plain": [
       "['chr8',\n",
       " 'lncipedia.org',\n",
       " 'exon',\n",
       " '104203457',\n",
       " '104203674',\n",
       " '.',\n",
       " '-',\n",
       " '.',\n",
       " 'Parent=lnc-C8orf56-1:8']"
      ]
     },
     "execution_count": 142,
     "metadata": {},
     "output_type": "execute_result"
    }
   ],
   "source": [
    "lol[0].split('\\t')"
   ]
  },
  {
   "cell_type": "code",
   "execution_count": 257,
   "metadata": {
    "collapsed": false
   },
   "outputs": [
    {
     "data": {
      "text/plain": [
       "'dfrey'"
      ]
     },
     "execution_count": 257,
     "metadata": {},
     "output_type": "execute_result"
    }
   ],
   "source": [
    "lol = '\"dfrey\"'\n",
    "lol.replace('\"',)"
   ]
  },
  {
   "cell_type": "code",
   "execution_count": 258,
   "metadata": {
    "collapsed": true
   },
   "outputs": [],
   "source": [
    "def clear_name(name):\n",
    "    name = name.replace('\"', '')\n",
    "    name = name.replace(\"'\", \"\")\n",
    "    return name"
   ]
  },
  {
   "cell_type": "code",
   "execution_count": 259,
   "metadata": {
    "collapsed": true
   },
   "outputs": [],
   "source": [
    "def gtf_parser(file_name, drop_n_first_lines = 1, f_format='gtf'):\n",
    "\n",
    "    exon_length = {}\n",
    "    gtf = []\n",
    "\n",
    "    with open(file_name, 'r') as f:\n",
    "        gtf = f.readlines()\n",
    "\n",
    "    gtf = gtf[drop_n_first_lines:]\n",
    "    print \"samples:\", len(gtf)\n",
    "\n",
    "    for line in gtf:\n",
    "\n",
    "        tmp = line.split(';')\n",
    "        if f_format == 'gff':\n",
    "            name = tmp[2].split('=')[1].upper() if tmp[2].startswith('transcript_id') else None\n",
    "        elif f_format == 'gtf':\n",
    "            name = tmp[1].split(' ')[2].upper() if tmp[1].split(' ')[1].startswith('transcript_id') else None\n",
    "        else:\n",
    "            print(\"Incorrect f_format parameter. Please, choose `gtf` or `gff`\")\n",
    "            return -1\n",
    "\n",
    "        tmp = tmp[0].split('\\t')\n",
    "        exon = int(tmp[4]) - int(tmp[3]) if tmp[2] == 'exon' else None\n",
    "\n",
    "        if name is None:\n",
    "            print(\"Incorrect data format. Use gtf file!\")\n",
    "            return -1\n",
    "        elif exon is None:\n",
    "            continue\n",
    "        else:\n",
    "            name = clear_name(name)\n",
    "            if name in exon_length:\n",
    "                exon_length[name].append(exon)\n",
    "            else:\n",
    "                exon_length[name] = [exon]\n",
    "\n",
    "    res_max = {key:max(val) for key,val in exon_length.items()}\n",
    "    res_mean = {key:np.mean(val) for key,val in exon_length.items()}\n",
    "    res_num = {key:len(val) for key,val in exon_length.items()}\n",
    "    return res_max, res_mean, res_num"
   ]
  },
  {
   "cell_type": "code",
   "execution_count": 160,
   "metadata": {
    "collapsed": false
   },
   "outputs": [
    {
     "data": {
      "text/plain": [
       "[157, 789, 192, 463, 193]"
      ]
     },
     "execution_count": 160,
     "metadata": {},
     "output_type": "execute_result"
    }
   ],
   "source": [
    "res.values()[:5]"
   ]
  },
  {
   "cell_type": "code",
   "execution_count": 247,
   "metadata": {
    "collapsed": true
   },
   "outputs": [],
   "source": [
    "dt = pd.read_csv(\"../scripts/my_model/coding_table.csv.txt\", sep = '\\t', index_col=0)"
   ]
  },
  {
   "cell_type": "code",
   "execution_count": 260,
   "metadata": {
    "collapsed": false
   },
   "outputs": [
    {
     "name": "stdout",
     "output_type": "stream",
     "text": [
      "samples: 1461415\n"
     ]
    }
   ],
   "source": [
    "res_max, res_mean, res_num = gtf_parser(\"../data/hg19_description.gtf\")"
   ]
  },
  {
   "cell_type": "code",
   "execution_count": 248,
   "metadata": {
    "collapsed": true
   },
   "outputs": [],
   "source": [
    "def add_col(col_name, dic):\n",
    "    for i in dt.index:\n",
    "        dt.ix[i, col_name] = dic.get(i, 0)"
   ]
  },
  {
   "cell_type": "code",
   "execution_count": 262,
   "metadata": {
    "collapsed": true
   },
   "outputs": [],
   "source": [
    "add_col('exon_num', res_num)"
   ]
  },
  {
   "cell_type": "code",
   "execution_count": 261,
   "metadata": {
    "collapsed": false
   },
   "outputs": [
    {
     "data": {
      "text/plain": [
       "['UC011CMJ.3', 'UC002NRI.3', 'UC001FUT.3', 'UC001TMS.3']"
      ]
     },
     "execution_count": 261,
     "metadata": {},
     "output_type": "execute_result"
    }
   ],
   "source": [
    "res_mean.keys()[:4]"
   ]
  },
  {
   "cell_type": "code",
   "execution_count": 263,
   "metadata": {
    "collapsed": false
   },
   "outputs": [
    {
     "data": {
      "text/plain": [
       "5065"
      ]
     },
     "execution_count": 263,
     "metadata": {},
     "output_type": "execute_result"
    }
   ],
   "source": [
    "max(dt.exon_num)"
   ]
  },
  {
   "cell_type": "code",
   "execution_count": 246,
   "metadata": {
    "collapsed": false
   },
   "outputs": [
    {
     "data": {
      "text/plain": [
       "205011"
      ]
     },
     "execution_count": 246,
     "metadata": {},
     "output_type": "execute_result"
    }
   ],
   "source": [
    "np.max(res_max.values())"
   ]
  },
  {
   "cell_type": "code",
   "execution_count": 212,
   "metadata": {
    "collapsed": false
   },
   "outputs": [
    {
     "data": {
      "text/plain": [
       "79769"
      ]
     },
     "execution_count": 212,
     "metadata": {},
     "output_type": "execute_result"
    }
   ],
   "source": [
    "len(res_max.values())"
   ]
  },
  {
   "cell_type": "code",
   "execution_count": 216,
   "metadata": {
    "collapsed": false
   },
   "outputs": [
    {
     "data": {
      "text/plain": [
       "0.38721875682629064"
      ]
     },
     "execution_count": 216,
     "metadata": {},
     "output_type": "execute_result"
    }
   ],
   "source": [
    "79769.0/206005"
   ]
  },
  {
   "cell_type": "code",
   "execution_count": 163,
   "metadata": {
    "collapsed": false
   },
   "outputs": [
    {
     "name": "stdout",
     "output_type": "stream",
     "text": [
      "[157, 789, 192, 463, 193]\n",
      "[102.8, 459.0, 116.66666666666667, 414.5, 110.8]\n",
      "[5, 2, 3, 2, 5]\n"
     ]
    }
   ],
   "source": [
    "print(res_max.values()[:5])\n",
    "print(res_mean.values()[:5])\n",
    "print(res_num.values()[:5])"
   ]
  },
  {
   "cell_type": "code",
   "execution_count": 222,
   "metadata": {
    "collapsed": false
   },
   "outputs": [
    {
     "data": {
      "text/html": [
       "<div>\n",
       "<table border=\"1\" class=\"dataframe\">\n",
       "  <thead>\n",
       "    <tr style=\"text-align: right;\">\n",
       "      <th></th>\n",
       "      <th>sname</th>\n",
       "      <th>mRNA_size</th>\n",
       "      <th>ORF_size</th>\n",
       "      <th>fickett_score</th>\n",
       "      <th>hexamer</th>\n",
       "      <th>gc_content</th>\n",
       "      <th>kozak34</th>\n",
       "      <th>kozak21</th>\n",
       "      <th>kozak6</th>\n",
       "      <th>exon_max</th>\n",
       "      <th>exon_mean</th>\n",
       "      <th>exon_num</th>\n",
       "    </tr>\n",
       "  </thead>\n",
       "  <tbody>\n",
       "    <tr>\n",
       "      <th>0</th>\n",
       "      <td>LNC-C8ORF56-1:8</td>\n",
       "      <td>291</td>\n",
       "      <td>174</td>\n",
       "      <td>0.7766</td>\n",
       "      <td>0.028280</td>\n",
       "      <td>0.474227</td>\n",
       "      <td>0</td>\n",
       "      <td>0</td>\n",
       "      <td>0</td>\n",
       "      <td>217</td>\n",
       "      <td>144.500000</td>\n",
       "      <td>2</td>\n",
       "    </tr>\n",
       "    <tr>\n",
       "      <th>1</th>\n",
       "      <td>LNC-PRYP4-3:1</td>\n",
       "      <td>211</td>\n",
       "      <td>201</td>\n",
       "      <td>0.6739</td>\n",
       "      <td>-0.173233</td>\n",
       "      <td>0.364929</td>\n",
       "      <td>0</td>\n",
       "      <td>0</td>\n",
       "      <td>0</td>\n",
       "      <td>0</td>\n",
       "      <td>0.000000</td>\n",
       "      <td>0</td>\n",
       "    </tr>\n",
       "    <tr>\n",
       "      <th>2</th>\n",
       "      <td>LNC-TTLL7-2:5</td>\n",
       "      <td>1991</td>\n",
       "      <td>168</td>\n",
       "      <td>1.1165</td>\n",
       "      <td>-0.076589</td>\n",
       "      <td>0.433451</td>\n",
       "      <td>1</td>\n",
       "      <td>0</td>\n",
       "      <td>1</td>\n",
       "      <td>1735</td>\n",
       "      <td>662.666667</td>\n",
       "      <td>3</td>\n",
       "    </tr>\n",
       "    <tr>\n",
       "      <th>3</th>\n",
       "      <td>LNC-CLEC18B-3:5</td>\n",
       "      <td>966</td>\n",
       "      <td>156</td>\n",
       "      <td>0.7548</td>\n",
       "      <td>-0.277914</td>\n",
       "      <td>0.467909</td>\n",
       "      <td>1</td>\n",
       "      <td>1</td>\n",
       "      <td>0</td>\n",
       "      <td>334</td>\n",
       "      <td>240.500000</td>\n",
       "      <td>4</td>\n",
       "    </tr>\n",
       "    <tr>\n",
       "      <th>4</th>\n",
       "      <td>LNC-GPR119-1:1</td>\n",
       "      <td>1646</td>\n",
       "      <td>273</td>\n",
       "      <td>0.7536</td>\n",
       "      <td>0.075378</td>\n",
       "      <td>0.458688</td>\n",
       "      <td>1</td>\n",
       "      <td>0</td>\n",
       "      <td>1</td>\n",
       "      <td>426</td>\n",
       "      <td>136.166667</td>\n",
       "      <td>12</td>\n",
       "    </tr>\n",
       "  </tbody>\n",
       "</table>\n",
       "</div>"
      ],
      "text/plain": [
       "             sname  mRNA_size  ORF_size  fickett_score   hexamer  gc_content  \\\n",
       "0  LNC-C8ORF56-1:8        291       174         0.7766  0.028280    0.474227   \n",
       "1    LNC-PRYP4-3:1        211       201         0.6739 -0.173233    0.364929   \n",
       "2    LNC-TTLL7-2:5       1991       168         1.1165 -0.076589    0.433451   \n",
       "3  LNC-CLEC18B-3:5        966       156         0.7548 -0.277914    0.467909   \n",
       "4   LNC-GPR119-1:1       1646       273         0.7536  0.075378    0.458688   \n",
       "\n",
       "   kozak34  kozak21  kozak6  exon_max   exon_mean  exon_num  \n",
       "0        0        0       0       217  144.500000         2  \n",
       "1        0        0       0         0    0.000000         0  \n",
       "2        1        0       1      1735  662.666667         3  \n",
       "3        1        1       0       334  240.500000         4  \n",
       "4        1        0       1       426  136.166667        12  "
      ]
     },
     "execution_count": 222,
     "metadata": {},
     "output_type": "execute_result"
    }
   ],
   "source": [
    "tbl = pd.read_csv(\"../scripts/my_model/lnc_table.csv.txt\", sep = '\\t')\n",
    "tbl.head()"
   ]
  },
  {
   "cell_type": "code",
   "execution_count": 223,
   "metadata": {
    "collapsed": false
   },
   "outputs": [
    {
     "data": {
      "text/plain": [
       "38363"
      ]
     },
     "execution_count": 223,
     "metadata": {},
     "output_type": "execute_result"
    }
   ],
   "source": [
    "np.max(tbl.exon_max)"
   ]
  },
  {
   "cell_type": "code",
   "execution_count": 232,
   "metadata": {
    "collapsed": false
   },
   "outputs": [
    {
     "data": {
      "text/html": [
       "<div>\n",
       "<table border=\"1\" class=\"dataframe\">\n",
       "  <thead>\n",
       "    <tr style=\"text-align: right;\">\n",
       "      <th></th>\n",
       "      <th>queryId</th>\n",
       "      <th>subjectId</th>\n",
       "      <th>percIdentity</th>\n",
       "      <th>alnLength</th>\n",
       "      <th>mismatchCount</th>\n",
       "      <th>gapOpenCount</th>\n",
       "      <th>queryStart</th>\n",
       "      <th>queryEnd</th>\n",
       "      <th>subjectStart</th>\n",
       "      <th>subjectEnd</th>\n",
       "      <th>eVal</th>\n",
       "      <th>bitScore</th>\n",
       "    </tr>\n",
       "  </thead>\n",
       "  <tbody>\n",
       "    <tr>\n",
       "      <th>0</th>\n",
       "      <td>lnc-C8orf56-1:8</td>\n",
       "      <td>UniRef50_A0A196M972</td>\n",
       "      <td>33.87</td>\n",
       "      <td>62</td>\n",
       "      <td>35</td>\n",
       "      <td>1</td>\n",
       "      <td>103</td>\n",
       "      <td>270</td>\n",
       "      <td>299</td>\n",
       "      <td>360</td>\n",
       "      <td>1.400000e+00</td>\n",
       "      <td>35.4</td>\n",
       "    </tr>\n",
       "    <tr>\n",
       "      <th>1</th>\n",
       "      <td>lnc-C8orf56-1:8</td>\n",
       "      <td>UniRef50_G0J6L1</td>\n",
       "      <td>40.48</td>\n",
       "      <td>42</td>\n",
       "      <td>25</td>\n",
       "      <td>0</td>\n",
       "      <td>46</td>\n",
       "      <td>171</td>\n",
       "      <td>541</td>\n",
       "      <td>582</td>\n",
       "      <td>2.200000e+00</td>\n",
       "      <td>35.0</td>\n",
       "    </tr>\n",
       "    <tr>\n",
       "      <th>2</th>\n",
       "      <td>lnc-C8orf56-1:8</td>\n",
       "      <td>UniRef50_A0A0C1MXM1</td>\n",
       "      <td>41.03</td>\n",
       "      <td>39</td>\n",
       "      <td>23</td>\n",
       "      <td>0</td>\n",
       "      <td>20</td>\n",
       "      <td>136</td>\n",
       "      <td>1280</td>\n",
       "      <td>1318</td>\n",
       "      <td>4.300000e+00</td>\n",
       "      <td>33.9</td>\n",
       "    </tr>\n",
       "    <tr>\n",
       "      <th>3</th>\n",
       "      <td>lnc-CLEC18B-3:5</td>\n",
       "      <td>UniRef50_R7QUZ7</td>\n",
       "      <td>32.81</td>\n",
       "      <td>64</td>\n",
       "      <td>40</td>\n",
       "      <td>2</td>\n",
       "      <td>495</td>\n",
       "      <td>313</td>\n",
       "      <td>3</td>\n",
       "      <td>66</td>\n",
       "      <td>1.800000e+00</td>\n",
       "      <td>36.2</td>\n",
       "    </tr>\n",
       "    <tr>\n",
       "      <th>4</th>\n",
       "      <td>lnc-GPR119-1:1</td>\n",
       "      <td>UniRef50_H2QW07</td>\n",
       "      <td>48.72</td>\n",
       "      <td>117</td>\n",
       "      <td>50</td>\n",
       "      <td>3</td>\n",
       "      <td>558</td>\n",
       "      <td>896</td>\n",
       "      <td>70</td>\n",
       "      <td>180</td>\n",
       "      <td>2.000000e-18</td>\n",
       "      <td>92.8</td>\n",
       "    </tr>\n",
       "  </tbody>\n",
       "</table>\n",
       "</div>"
      ],
      "text/plain": [
       "           queryId            subjectId  percIdentity  alnLength  \\\n",
       "0  lnc-C8orf56-1:8  UniRef50_A0A196M972         33.87         62   \n",
       "1  lnc-C8orf56-1:8      UniRef50_G0J6L1         40.48         42   \n",
       "2  lnc-C8orf56-1:8  UniRef50_A0A0C1MXM1         41.03         39   \n",
       "3  lnc-CLEC18B-3:5      UniRef50_R7QUZ7         32.81         64   \n",
       "4   lnc-GPR119-1:1      UniRef50_H2QW07         48.72        117   \n",
       "\n",
       "   mismatchCount  gapOpenCount  queryStart  queryEnd  subjectStart  \\\n",
       "0             35             1         103       270           299   \n",
       "1             25             0          46       171           541   \n",
       "2             23             0          20       136          1280   \n",
       "3             40             2         495       313             3   \n",
       "4             50             3         558       896            70   \n",
       "\n",
       "   subjectEnd          eVal  bitScore  \n",
       "0         360  1.400000e+00      35.4  \n",
       "1         582  2.200000e+00      35.0  \n",
       "2        1318  4.300000e+00      33.9  \n",
       "3          66  1.800000e+00      36.2  \n",
       "4         180  2.000000e-18      92.8  "
      ]
     },
     "execution_count": 232,
     "metadata": {},
     "output_type": "execute_result"
    }
   ],
   "source": [
    "lnc_blast = pd.read_csv(\"../data/uniref_alignment/lnc_aligned_1part.csv\", sep = ',', header=None)\n",
    "lnc_blast.columns = ['queryId', 'subjectId', 'percIdentity', 'alnLength',\\\n",
    "                     'mismatchCount', 'gapOpenCount', 'queryStart', 'queryEnd',\\\n",
    "                     'subjectStart', 'subjectEnd', 'eVal', 'bitScore']\n",
    "lnc_blast.head()"
   ]
  },
  {
   "cell_type": "code",
   "execution_count": 241,
   "metadata": {
    "collapsed": true
   },
   "outputs": [],
   "source": [
    "lnc_blast.queryId = map(lambda x: x.upper(), lnc_blast.queryId)\n",
    "lnc_blast.to_csv(\"../data/uniref_alignment/lnc_aligned_1part.csv\", index=False)"
   ]
  },
  {
   "cell_type": "code",
   "execution_count": 230,
   "metadata": {
    "collapsed": false
   },
   "outputs": [
    {
     "data": {
      "text/plain": [
       "825"
      ]
     },
     "execution_count": 230,
     "metadata": {},
     "output_type": "execute_result"
    }
   ],
   "source": []
  },
  {
   "cell_type": "code",
   "execution_count": 235,
   "metadata": {
    "collapsed": false
   },
   "outputs": [
    {
     "data": {
      "text/html": [
       "<div>\n",
       "<table border=\"1\" class=\"dataframe\">\n",
       "  <thead>\n",
       "    <tr style=\"text-align: right;\">\n",
       "      <th></th>\n",
       "      <th>queryId</th>\n",
       "      <th>subjectId</th>\n",
       "      <th>percIdentity</th>\n",
       "      <th>alnLength</th>\n",
       "      <th>mismatchCount</th>\n",
       "      <th>gapOpenCount</th>\n",
       "      <th>queryStart</th>\n",
       "      <th>queryEnd</th>\n",
       "      <th>subjectStart</th>\n",
       "      <th>subjectEnd</th>\n",
       "      <th>eVal</th>\n",
       "      <th>bitScore</th>\n",
       "    </tr>\n",
       "  </thead>\n",
       "  <tbody>\n",
       "    <tr>\n",
       "      <th>0</th>\n",
       "      <td>uc001aaa.3</td>\n",
       "      <td>UniRef50_UPI0007DC72A0</td>\n",
       "      <td>81.82</td>\n",
       "      <td>88</td>\n",
       "      <td>14</td>\n",
       "      <td>2</td>\n",
       "      <td>656</td>\n",
       "      <td>913</td>\n",
       "      <td>760</td>\n",
       "      <td>847</td>\n",
       "      <td>9.000000e-70</td>\n",
       "      <td>140.0</td>\n",
       "    </tr>\n",
       "    <tr>\n",
       "      <th>1</th>\n",
       "      <td>uc001aaa.3</td>\n",
       "      <td>UniRef50_UPI0007DC72A0</td>\n",
       "      <td>70.42</td>\n",
       "      <td>71</td>\n",
       "      <td>21</td>\n",
       "      <td>0</td>\n",
       "      <td>462</td>\n",
       "      <td>674</td>\n",
       "      <td>696</td>\n",
       "      <td>766</td>\n",
       "      <td>9.000000e-70</td>\n",
       "      <td>98.2</td>\n",
       "    </tr>\n",
       "    <tr>\n",
       "      <th>2</th>\n",
       "      <td>uc001aaa.3</td>\n",
       "      <td>UniRef50_UPI0007DC72A0</td>\n",
       "      <td>62.07</td>\n",
       "      <td>58</td>\n",
       "      <td>22</td>\n",
       "      <td>0</td>\n",
       "      <td>305</td>\n",
       "      <td>478</td>\n",
       "      <td>627</td>\n",
       "      <td>684</td>\n",
       "      <td>9.000000e-70</td>\n",
       "      <td>73.9</td>\n",
       "    </tr>\n",
       "    <tr>\n",
       "      <th>3</th>\n",
       "      <td>uc001aaa.3</td>\n",
       "      <td>UniRef50_Q96FC9</td>\n",
       "      <td>80.00</td>\n",
       "      <td>75</td>\n",
       "      <td>13</td>\n",
       "      <td>2</td>\n",
       "      <td>695</td>\n",
       "      <td>913</td>\n",
       "      <td>896</td>\n",
       "      <td>970</td>\n",
       "      <td>4.000000e-59</td>\n",
       "      <td>117.0</td>\n",
       "    </tr>\n",
       "    <tr>\n",
       "      <th>4</th>\n",
       "      <td>uc001aaa.3</td>\n",
       "      <td>UniRef50_Q96FC9</td>\n",
       "      <td>77.36</td>\n",
       "      <td>53</td>\n",
       "      <td>12</td>\n",
       "      <td>0</td>\n",
       "      <td>462</td>\n",
       "      <td>620</td>\n",
       "      <td>844</td>\n",
       "      <td>896</td>\n",
       "      <td>4.000000e-59</td>\n",
       "      <td>84.7</td>\n",
       "    </tr>\n",
       "  </tbody>\n",
       "</table>\n",
       "</div>"
      ],
      "text/plain": [
       "      queryId               subjectId  percIdentity  alnLength  mismatchCount  \\\n",
       "0  uc001aaa.3  UniRef50_UPI0007DC72A0         81.82         88             14   \n",
       "1  uc001aaa.3  UniRef50_UPI0007DC72A0         70.42         71             21   \n",
       "2  uc001aaa.3  UniRef50_UPI0007DC72A0         62.07         58             22   \n",
       "3  uc001aaa.3         UniRef50_Q96FC9         80.00         75             13   \n",
       "4  uc001aaa.3         UniRef50_Q96FC9         77.36         53             12   \n",
       "\n",
       "   gapOpenCount  queryStart  queryEnd  subjectStart  subjectEnd          eVal  \\\n",
       "0             2         656       913           760         847  9.000000e-70   \n",
       "1             0         462       674           696         766  9.000000e-70   \n",
       "2             0         305       478           627         684  9.000000e-70   \n",
       "3             2         695       913           896         970  4.000000e-59   \n",
       "4             0         462       620           844         896  4.000000e-59   \n",
       "\n",
       "   bitScore  \n",
       "0     140.0  \n",
       "1      98.2  \n",
       "2      73.9  \n",
       "3     117.0  \n",
       "4      84.7  "
      ]
     },
     "execution_count": 235,
     "metadata": {},
     "output_type": "execute_result"
    }
   ],
   "source": [
    "coding_blast = pd.read_csv(\"../data/uniref_alignment/coding_aligned_1part.csv\", sep = ',', header=None)\n",
    "coding_blast.columns = ['queryId', 'subjectId', 'percIdentity', 'alnLength',\\\n",
    "                     'mismatchCount', 'gapOpenCount', 'queryStart', 'queryEnd',\\\n",
    "                     'subjectStart', 'subjectEnd', 'eVal', 'bitScore']\n",
    "coding_blast.head()"
   ]
  },
  {
   "cell_type": "code",
   "execution_count": 236,
   "metadata": {
    "collapsed": false
   },
   "outputs": [
    {
     "data": {
      "text/plain": [
       "455"
      ]
     },
     "execution_count": 236,
     "metadata": {},
     "output_type": "execute_result"
    }
   ],
   "source": [
    "len(list(set(coding_blast.queryId)))"
   ]
  },
  {
   "cell_type": "code",
   "execution_count": 238,
   "metadata": {
    "collapsed": false
   },
   "outputs": [
    {
     "data": {
      "text/html": [
       "<div>\n",
       "<table border=\"1\" class=\"dataframe\">\n",
       "  <thead>\n",
       "    <tr style=\"text-align: right;\">\n",
       "      <th></th>\n",
       "      <th>queryId</th>\n",
       "      <th>subjectId</th>\n",
       "      <th>percIdentity</th>\n",
       "      <th>alnLength</th>\n",
       "      <th>mismatchCount</th>\n",
       "      <th>gapOpenCount</th>\n",
       "      <th>queryStart</th>\n",
       "      <th>queryEnd</th>\n",
       "      <th>subjectStart</th>\n",
       "      <th>subjectEnd</th>\n",
       "      <th>eVal</th>\n",
       "      <th>bitScore</th>\n",
       "    </tr>\n",
       "  </thead>\n",
       "  <tbody>\n",
       "    <tr>\n",
       "      <th>0</th>\n",
       "      <td>UC001AAA.3</td>\n",
       "      <td>UniRef50_UPI0007DC72A0</td>\n",
       "      <td>81.82</td>\n",
       "      <td>88</td>\n",
       "      <td>14</td>\n",
       "      <td>2</td>\n",
       "      <td>656</td>\n",
       "      <td>913</td>\n",
       "      <td>760</td>\n",
       "      <td>847</td>\n",
       "      <td>9.000000e-70</td>\n",
       "      <td>140.0</td>\n",
       "    </tr>\n",
       "    <tr>\n",
       "      <th>1</th>\n",
       "      <td>UC001AAA.3</td>\n",
       "      <td>UniRef50_UPI0007DC72A0</td>\n",
       "      <td>70.42</td>\n",
       "      <td>71</td>\n",
       "      <td>21</td>\n",
       "      <td>0</td>\n",
       "      <td>462</td>\n",
       "      <td>674</td>\n",
       "      <td>696</td>\n",
       "      <td>766</td>\n",
       "      <td>9.000000e-70</td>\n",
       "      <td>98.2</td>\n",
       "    </tr>\n",
       "    <tr>\n",
       "      <th>2</th>\n",
       "      <td>UC001AAA.3</td>\n",
       "      <td>UniRef50_UPI0007DC72A0</td>\n",
       "      <td>62.07</td>\n",
       "      <td>58</td>\n",
       "      <td>22</td>\n",
       "      <td>0</td>\n",
       "      <td>305</td>\n",
       "      <td>478</td>\n",
       "      <td>627</td>\n",
       "      <td>684</td>\n",
       "      <td>9.000000e-70</td>\n",
       "      <td>73.9</td>\n",
       "    </tr>\n",
       "    <tr>\n",
       "      <th>3</th>\n",
       "      <td>UC001AAA.3</td>\n",
       "      <td>UniRef50_Q96FC9</td>\n",
       "      <td>80.00</td>\n",
       "      <td>75</td>\n",
       "      <td>13</td>\n",
       "      <td>2</td>\n",
       "      <td>695</td>\n",
       "      <td>913</td>\n",
       "      <td>896</td>\n",
       "      <td>970</td>\n",
       "      <td>4.000000e-59</td>\n",
       "      <td>117.0</td>\n",
       "    </tr>\n",
       "    <tr>\n",
       "      <th>4</th>\n",
       "      <td>UC001AAA.3</td>\n",
       "      <td>UniRef50_Q96FC9</td>\n",
       "      <td>77.36</td>\n",
       "      <td>53</td>\n",
       "      <td>12</td>\n",
       "      <td>0</td>\n",
       "      <td>462</td>\n",
       "      <td>620</td>\n",
       "      <td>844</td>\n",
       "      <td>896</td>\n",
       "      <td>4.000000e-59</td>\n",
       "      <td>84.7</td>\n",
       "    </tr>\n",
       "  </tbody>\n",
       "</table>\n",
       "</div>"
      ],
      "text/plain": [
       "      queryId               subjectId  percIdentity  alnLength  mismatchCount  \\\n",
       "0  UC001AAA.3  UniRef50_UPI0007DC72A0         81.82         88             14   \n",
       "1  UC001AAA.3  UniRef50_UPI0007DC72A0         70.42         71             21   \n",
       "2  UC001AAA.3  UniRef50_UPI0007DC72A0         62.07         58             22   \n",
       "3  UC001AAA.3         UniRef50_Q96FC9         80.00         75             13   \n",
       "4  UC001AAA.3         UniRef50_Q96FC9         77.36         53             12   \n",
       "\n",
       "   gapOpenCount  queryStart  queryEnd  subjectStart  subjectEnd          eVal  \\\n",
       "0             2         656       913           760         847  9.000000e-70   \n",
       "1             0         462       674           696         766  9.000000e-70   \n",
       "2             0         305       478           627         684  9.000000e-70   \n",
       "3             2         695       913           896         970  4.000000e-59   \n",
       "4             0         462       620           844         896  4.000000e-59   \n",
       "\n",
       "   bitScore  \n",
       "0     140.0  \n",
       "1      98.2  \n",
       "2      73.9  \n",
       "3     117.0  \n",
       "4      84.7  "
      ]
     },
     "execution_count": 238,
     "metadata": {},
     "output_type": "execute_result"
    }
   ],
   "source": [
    "coding_blast.queryId = map(lambda x: x.upper(), coding_blast.queryId)\n",
    "coding_blast.head()"
   ]
  },
  {
   "cell_type": "code",
   "execution_count": 239,
   "metadata": {
    "collapsed": true
   },
   "outputs": [],
   "source": [
    "coding_blast.to_csv(\"../data/uniref_alignment/coding_aligned_1part.csv\", index=False)"
   ]
  },
  {
   "cell_type": "code",
   "execution_count": null,
   "metadata": {
    "collapsed": true
   },
   "outputs": [],
   "source": []
  }
 ],
 "metadata": {
  "kernelspec": {
   "display_name": "python2",
   "language": "python",
   "name": "python2"
  },
  "language_info": {
   "codemirror_mode": {
    "name": "ipython",
    "version": 2
   },
   "file_extension": ".py",
   "mimetype": "text/x-python",
   "name": "python",
   "nbconvert_exporter": "python",
   "pygments_lexer": "ipython2",
   "version": "2.7.6"
  }
 },
 "nbformat": 4,
 "nbformat_minor": 1
}
